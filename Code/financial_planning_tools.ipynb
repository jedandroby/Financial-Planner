{
 "cells": [
  {
   "cell_type": "markdown",
   "metadata": {},
   "source": [
    "# Financial Planning with APIs and Simulations\n",
    "\n",
    "In this Challenge, you’ll create two financial analysis tools by using a single Jupyter notebook:\n",
    "\n",
    "Part 1: A financial planner for emergencies. The members will be able to use this tool to visualize their current savings. The members can then determine if they have enough reserves for an emergency fund.\n",
    "\n",
    "Part 2: A financial planner for retirement. This tool will forecast the performance of their retirement portfolio in 30 years. To do this, the tool will make an Alpaca API call via the Alpaca SDK to get historical price data for use in Monte Carlo simulations.\n",
    "\n",
    "You’ll use the information from the Monte Carlo simulation to answer questions about the portfolio in your Jupyter notebook.\n",
    "\n"
   ]
  },
  {
   "cell_type": "code",
   "execution_count": 4,
   "metadata": {},
   "outputs": [],
   "source": [
    "# Import the required libraries and dependencies\n",
    "import os\n",
    "import requests\n",
    "import json\n",
    "import pandas as pd\n",
    "from dotenv import load_dotenv\n",
    "import alpaca_trade_api as tradeapi\n",
    "from MCForecastTools import MCSimulation\n",
    "from watermark import watermark\n",
    "%matplotlib inline"
   ]
  },
  {
   "cell_type": "code",
   "execution_count": 5,
   "metadata": {},
   "outputs": [
    {
     "name": "stdout",
     "output_type": "stream",
     "text": [
      "Last updated: 2022-10-29T16:10:49.298084-10:00\n",
      "\n",
      "Python implementation: CPython\n",
      "Python version       : 3.7.13\n",
      "IPython version      : 7.31.1\n",
      "\n",
      "Compiler    : MSC v.1916 64 bit (AMD64)\n",
      "OS          : Windows\n",
      "Release     : 10\n",
      "Machine     : AMD64\n",
      "Processor   : AMD64 Family 23 Model 8 Stepping 2, AuthenticAMD\n",
      "CPU cores   : 12\n",
      "Architecture: 64bit\n",
      "\n",
      "json            : 2.0.9\n",
      "requests        : 2.27.1\n",
      "alpaca_trade_api: 2.3.0\n",
      "pandas          : 1.3.5\n",
      "\n"
     ]
    }
   ],
   "source": [
    "print(watermark())\n",
    "print(watermark(iversions=True, globals_=globals()))"
   ]
  },
  {
   "cell_type": "code",
   "execution_count": 6,
   "metadata": {},
   "outputs": [
    {
     "data": {
      "text/plain": [
       "False"
      ]
     },
     "execution_count": 6,
     "metadata": {},
     "output_type": "execute_result"
    }
   ],
   "source": [
    "# Load the environment variables from the .env file\n",
    "#by calling the load_dotenv function\n",
    "load_dotenv()"
   ]
  },
  {
   "cell_type": "code",
   "execution_count": 7,
   "metadata": {},
   "outputs": [
    {
     "data": {
      "text/plain": [
       "str"
      ]
     },
     "metadata": {},
     "output_type": "display_data"
    },
    {
     "data": {
      "text/plain": [
       "str"
      ]
     },
     "metadata": {},
     "output_type": "display_data"
    }
   ],
   "source": [
    "# import alpaca api keys from system variables. \n",
    "alpaca_public = os.getenv('alpaca_public')\n",
    "alpaca_secret=os.getenv('alpaca_secret')\n",
    "display(type(alpaca_public))\n",
    "display(type(alpaca_secret))"
   ]
  },
  {
   "cell_type": "markdown",
   "metadata": {},
   "source": [
    "## Part 1: Create a Financial Planner for Emergencies"
   ]
  },
  {
   "cell_type": "markdown",
   "metadata": {},
   "source": [
    "### Evaluate the Cryptocurrency Wallet by Using the Requests Library\n",
    "\n",
    "In this section, you’ll determine the current value of a member’s cryptocurrency wallet. You’ll collect the current prices for the Bitcoin and Ethereum cryptocurrencies by using the Python Requests library. For the prototype, you’ll assume that the member holds the 1.2 Bitcoins (BTC) and 5.3 Ethereum coins (ETH). To do all this, complete the following steps:\n",
    "\n",
    "1. Create a variable named `monthly_income`, and set its value to `12000`.\n",
    "\n",
    "2. Use the Requests library to get the current price (in US dollars) of Bitcoin (BTC) and Ethereum (ETH) by using the API endpoints that the starter code supplies.\n",
    "\n",
    "3. Navigate the JSON response object to access the current price of each coin, and store each in a variable.\n",
    "\n",
    "    > **Hint** Note the specific identifier for each cryptocurrency in the API JSON response. The Bitcoin identifier is `1`, and the Ethereum identifier is `1027`.\n",
    "\n",
    "4. Calculate the value, in US dollars, of the current amount of each cryptocurrency and of the entire cryptocurrency wallet.\n",
    "\n"
   ]
  },
  {
   "cell_type": "code",
   "execution_count": 8,
   "metadata": {},
   "outputs": [],
   "source": [
    "# The current number of coins for each cryptocurrency asset held in the portfolio.\n",
    "btc_coins = 1.2\n",
    "eth_coins = 5.3"
   ]
  },
  {
   "cell_type": "markdown",
   "metadata": {},
   "source": [
    "#### Step 1: Create a variable named `monthly_income`, and set its value to `12000`."
   ]
  },
  {
   "cell_type": "code",
   "execution_count": 9,
   "metadata": {},
   "outputs": [],
   "source": [
    "# The monthly amount for the member's household income\n",
    "# YOUR CODE HERE\n",
    "monthly_income=12000"
   ]
  },
  {
   "cell_type": "markdown",
   "metadata": {},
   "source": [
    "#### Review the endpoint URLs for the API calls to Free Crypto API in order to get the current pricing information for both BTC and ETH."
   ]
  },
  {
   "cell_type": "code",
   "execution_count": 10,
   "metadata": {},
   "outputs": [],
   "source": [
    "# The Free Crypto API Call endpoint URLs for the held cryptocurrency assets\n",
    "btc_url = \"https://api.alternative.me/v2/ticker/Bitcoin/?convert=USD\"\n",
    "eth_url = \"https://api.alternative.me/v2/ticker/Ethereum/?convert=USD\""
   ]
  },
  {
   "cell_type": "markdown",
   "metadata": {},
   "source": [
    "#### Step 2. Use the Requests library to get the current price (in US dollars) of Bitcoin (BTC) and Ethereum (ETH) by using the API endpoints that the starter code supplied."
   ]
  },
  {
   "cell_type": "code",
   "execution_count": 11,
   "metadata": {},
   "outputs": [
    {
     "name": "stdout",
     "output_type": "stream",
     "text": [
      "{\n",
      "    \"data\": {\n",
      "        \"1\": {\n",
      "            \"circulating_supply\": 19193100,\n",
      "            \"id\": 1,\n",
      "            \"last_updated\": 1667095479,\n",
      "            \"max_supply\": 21000000,\n",
      "            \"name\": \"Bitcoin\",\n",
      "            \"quotes\": {\n",
      "                \"USD\": {\n",
      "                    \"market_cap\": 398734909430,\n",
      "                    \"percent_change_1h\": 0.203237073919638,\n",
      "                    \"percent_change_24h\": 0.544649520164812,\n",
      "                    \"percent_change_7d\": 8.18018125037921,\n",
      "                    \"percentage_change_1h\": 0.203237073919638,\n",
      "                    \"percentage_change_24h\": 0.544649520164812,\n",
      "                    \"percentage_change_7d\": 8.18018125037921,\n",
      "                    \"price\": 20775.0,\n",
      "                    \"volume_24h\": 33195453463\n",
      "                }\n",
      "            },\n",
      "            \"rank\": 1,\n",
      "            \"symbol\": \"BTC\",\n",
      "            \"total_supply\": 19193100,\n",
      "            \"website_slug\": \"bitcoin\"\n",
      "        }\n",
      "    },\n",
      "    \"metadata\": {\n",
      "        \"error\": null,\n",
      "        \"num_cryptocurrencies\": 3116,\n",
      "        \"timestamp\": 1667095479\n",
      "    }\n",
      "}\n"
     ]
    }
   ],
   "source": [
    "# Using the Python requests library, make an API call to access the current price of BTC\n",
    "btc_response = requests.get(btc_url).json()\n",
    "\n",
    "# Use the json.dumps function to review the response data from the API call\n",
    "# Use the indent and sort_keys parameters to make the response object readable\n",
    "# YOUR CODE HERE\n",
    "print(json.dumps(btc_response, indent=4,sort_keys=True))\n"
   ]
  },
  {
   "cell_type": "code",
   "execution_count": 12,
   "metadata": {},
   "outputs": [
    {
     "name": "stdout",
     "output_type": "stream",
     "text": [
      "{\n",
      "    \"data\": {\n",
      "        \"1027\": {\n",
      "            \"circulating_supply\": 120521729,\n",
      "            \"id\": 1027,\n",
      "            \"last_updated\": 1667095468,\n",
      "            \"max_supply\": 120521729,\n",
      "            \"name\": \"Ethereum\",\n",
      "            \"quotes\": {\n",
      "                \"USD\": {\n",
      "                    \"market_cap\": 194579530445,\n",
      "                    \"percent_change_1h\": 0.3072345033762,\n",
      "                    \"percent_change_24h\": 3.81053849904344,\n",
      "                    \"percent_change_7d\": 22.8860722446555,\n",
      "                    \"percentage_change_1h\": 0.3072345033762,\n",
      "                    \"percentage_change_24h\": 3.81053849904344,\n",
      "                    \"percentage_change_7d\": 22.8860722446555,\n",
      "                    \"price\": 1614.44,\n",
      "                    \"volume_24h\": 17113386657\n",
      "                }\n",
      "            },\n",
      "            \"rank\": 2,\n",
      "            \"symbol\": \"ETH\",\n",
      "            \"total_supply\": 120521729,\n",
      "            \"website_slug\": \"ethereum\"\n",
      "        }\n",
      "    },\n",
      "    \"metadata\": {\n",
      "        \"error\": null,\n",
      "        \"num_cryptocurrencies\": 3116,\n",
      "        \"timestamp\": 1667095468\n",
      "    }\n",
      "}\n"
     ]
    }
   ],
   "source": [
    "# Using the Python requests library, make an API call to access the current price ETH\n",
    "eth_response = requests.get(eth_url).json()\n",
    "\n",
    "# Use the json.dumps function to review the response data from the API call\n",
    "# Use the indent and sort_keys parameters to make the response object readable\n",
    "# YOUR CODE HERE\n",
    "print(json.dumps(eth_response, indent=4, sort_keys=True))"
   ]
  },
  {
   "cell_type": "markdown",
   "metadata": {},
   "source": [
    "#### Step 3: Navigate the JSON response object to access the current price of each coin, and store each in a variable."
   ]
  },
  {
   "cell_type": "code",
   "execution_count": 13,
   "metadata": {},
   "outputs": [
    {
     "name": "stdout",
     "output_type": "stream",
     "text": [
      "The current price of Bitcoin is $20,775.00.\n"
     ]
    }
   ],
   "source": [
    "# Navigate the BTC response object to access the current price of BTC\n",
    "btc_price = btc_response['data']['1']['quotes']['USD']['price']\n",
    "\n",
    "# Print the current price of BTC\n",
    "# YOUR CODE HERE\n",
    "print(f'The current price of Bitcoin is ${btc_price:,.2f}.')"
   ]
  },
  {
   "cell_type": "code",
   "execution_count": 14,
   "metadata": {},
   "outputs": [
    {
     "name": "stdout",
     "output_type": "stream",
     "text": [
      "The current price of Ethereum is $1,614.44.\n"
     ]
    }
   ],
   "source": [
    "# Navigate the BTC response object to access the current price of ETH\n",
    "eth_price = eth_response['data']['1027']['quotes']['USD']['price']\n",
    "\n",
    "# Print the current price of ETH\n",
    "# YOUR CODE HERE\n",
    "print(f'The current price of Ethereum is ${eth_price:,.2f}.')"
   ]
  },
  {
   "cell_type": "markdown",
   "metadata": {},
   "source": [
    "### Step 4: Calculate the value, in US dollars, of the current amount of each cryptocurrency and of the entire cryptocurrency wallet."
   ]
  },
  {
   "cell_type": "code",
   "execution_count": 15,
   "metadata": {},
   "outputs": [
    {
     "name": "stdout",
     "output_type": "stream",
     "text": [
      "The total value of BTC in the wallet is $24,930.00.\n"
     ]
    }
   ],
   "source": [
    "# Compute the current value of the BTC holding \n",
    "btc_value = btc_price * btc_coins\n",
    "\n",
    "# Print current value of your holding in BTC\n",
    "# YOUR CODE HERE\n",
    "print(f'The total value of BTC in the wallet is ${btc_value:,.2f}.')"
   ]
  },
  {
   "cell_type": "code",
   "execution_count": 16,
   "metadata": {},
   "outputs": [
    {
     "name": "stdout",
     "output_type": "stream",
     "text": [
      "The total value of ETH in the wallet is $8,556.53.\n"
     ]
    }
   ],
   "source": [
    "# Compute the current value of the ETH holding \n",
    "eth_value = eth_price * eth_coins\n",
    "\n",
    "# Print current value of your holding in ETH\n",
    "# YOUR CODE HERE\n",
    "print(f'The total value of ETH in the wallet is ${eth_value:,.2f}.')"
   ]
  },
  {
   "cell_type": "code",
   "execution_count": 17,
   "metadata": {},
   "outputs": [
    {
     "name": "stdout",
     "output_type": "stream",
     "text": [
      "The total value of the crypto wallet is $33,486.53.\n"
     ]
    }
   ],
   "source": [
    "# Compute the total value of the cryptocurrency wallet\n",
    "# Add the value of the BTC holding to the value of the ETH holding\n",
    "total_crypto_wallet = eth_value + btc_value\n",
    "\n",
    "# Print current cryptocurrency wallet balance\n",
    "# YOUR CODE HERE\n",
    "print(f'The total value of the crypto wallet is ${total_crypto_wallet:,.2f}.')"
   ]
  },
  {
   "cell_type": "markdown",
   "metadata": {},
   "source": [
    "### Evaluate the Stock and Bond Holdings by Using the Alpaca SDK\n",
    "\n",
    "In this section, you’ll determine the current value of a member’s stock and bond holdings. You’ll make an API call to Alpaca via the Alpaca SDK to get the current closing prices of the SPDR S&P 500 ETF Trust (ticker: SPY) and of the iShares Core US Aggregate Bond ETF (ticker: AGG). For the prototype, assume that the member holds 110 shares of SPY, which represents the stock portion of their portfolio, and 200 shares of AGG, which represents the bond portion. To do all this, complete the following steps:\n",
    "\n",
    "1. In the `Starter_Code` folder, create an environment file (`.env`) to store the values of your Alpaca API key and Alpaca secret key.\n",
    "\n",
    "2. Set the variables for the Alpaca API and secret keys. Using the Alpaca SDK, create the Alpaca `tradeapi.REST` object. In this object, include the parameters for the Alpaca API key, the secret key, and the version number.\n",
    "\n",
    "3. Set the following parameters for the Alpaca API call:\n",
    "\n",
    "    - `tickers`: Use the tickers for the member’s stock and bond holdings.\n",
    "\n",
    "    - `timeframe`: Use a time frame of one day.\n",
    "\n",
    "    - `start_date` and `end_date`: Use the same date for these parameters, and format them with the date of the previous weekday (or `2020-08-07`). This is because you want the one closing price for the most-recent trading day.\n",
    "\n",
    "4. Get the current closing prices for `SPY` and `AGG` by using the Alpaca `get_bars` function. Format the response as a Pandas DataFrame by including the `df` property at the end of the `get_bars` function.\n",
    "\n",
    "5. Navigating the Alpaca response DataFrame, select the `SPY` and `AGG` closing prices, and store them as variables.\n",
    "\n",
    "6. Calculate the value, in US dollars, of the current amount of shares in each of the stock and bond portions of the portfolio, and print the results.\n"
   ]
  },
  {
   "cell_type": "markdown",
   "metadata": {},
   "source": [
    "#### Review the total number of shares held in both (SPY) and (AGG)."
   ]
  },
  {
   "cell_type": "code",
   "execution_count": 18,
   "metadata": {},
   "outputs": [],
   "source": [
    "# Current amount of shares held in both the stock (SPY) and bond (AGG) portion of the portfolio.\n",
    "spy_shares = 110\n",
    "agg_shares = 200\n"
   ]
  },
  {
   "cell_type": "markdown",
   "metadata": {},
   "source": [
    "#### Step 1: In the `Starter_Code` folder, create an environment file (`.env`) to store the values of your Alpaca API key and Alpaca secret key."
   ]
  },
  {
   "cell_type": "markdown",
   "metadata": {},
   "source": [
    "#### Step 2: Set the variables for the Alpaca API and secret keys. Using the Alpaca SDK, create the Alpaca `tradeapi.REST` object. In this object, include the parameters for the Alpaca API key, the secret key, and the version number."
   ]
  },
  {
   "cell_type": "code",
   "execution_count": 19,
   "metadata": {},
   "outputs": [
    {
     "data": {
      "text/plain": [
       "str"
      ]
     },
     "metadata": {},
     "output_type": "display_data"
    },
    {
     "data": {
      "text/plain": [
       "str"
      ]
     },
     "metadata": {},
     "output_type": "display_data"
    }
   ],
   "source": [
    "# Set the variables for the Alpaca API and secret keys\n",
    "# YOUR CODE HERE\n",
    "# YOUR CODE HERE\n",
    "display(type(alpaca_public))\n",
    "display(type(alpaca_secret))\n",
    "# Create the Alpaca tradeapi.REST object\n",
    "# YOUR CODE HERE\n",
    "alpaca= tradeapi.REST(\n",
    "    alpaca_public,\n",
    "    alpaca_secret,\n",
    "    api_version='v2')"
   ]
  },
  {
   "cell_type": "markdown",
   "metadata": {},
   "source": [
    "#### Step 3: Set the following parameters for the Alpaca API call:\n",
    "\n",
    "- `tickers`: Use the tickers for the member’s stock and bond holdings.\n",
    "\n",
    "- `timeframe`: Use a time frame of one day.\n",
    "\n",
    "- `start_date` and `end_date`: Use the same date for these parameters, and format them with the date of the previous weekday (or `2020-08-07`). This is because you want the one closing price for the most-recent trading day.\n"
   ]
  },
  {
   "cell_type": "code",
   "execution_count": 20,
   "metadata": {},
   "outputs": [],
   "source": [
    "# Set the tickers for both the bond and stock portion of the portfolio\n",
    "# YOUR CODE HERE\n",
    "tickers= ['SPY','AGG']\n",
    "# Set timeframe to 1Day\n",
    "# YOUR CODE HERE\n",
    "timeframe='1Day'\n",
    "# Format current date as ISO format\n",
    "# Set both the start and end date at the date of your prior weekday \n",
    "# This will give you the closing price of the previous trading day\n",
    "# Alternatively you can use a start and end date of 2020-08-07\n",
    "# YOUR CODE HERE\n",
    "# YOUR CODE HERE\n",
    "start_date=pd.Timestamp('2022-10-28', tz='America/New_York').isoformat()\n",
    "end_date=pd.Timestamp('2022-10-28', tz='America/New_York').isoformat()\n"
   ]
  },
  {
   "cell_type": "markdown",
   "metadata": {},
   "source": [
    "#### Step 4: Get the current closing prices for `SPY` and `AGG` by using the Alpaca `get_bars` function. Format the response as a Pandas DataFrame by including the `df` property at the end of the `get_bars` function."
   ]
  },
  {
   "cell_type": "code",
   "execution_count": 21,
   "metadata": {},
   "outputs": [
    {
     "data": {
      "text/html": [
       "<div>\n",
       "<style scoped>\n",
       "    .dataframe tbody tr th:only-of-type {\n",
       "        vertical-align: middle;\n",
       "    }\n",
       "\n",
       "    .dataframe tbody tr th {\n",
       "        vertical-align: top;\n",
       "    }\n",
       "\n",
       "    .dataframe thead tr th {\n",
       "        text-align: left;\n",
       "    }\n",
       "\n",
       "    .dataframe thead tr:last-of-type th {\n",
       "        text-align: right;\n",
       "    }\n",
       "</style>\n",
       "<table border=\"1\" class=\"dataframe\">\n",
       "  <thead>\n",
       "    <tr>\n",
       "      <th></th>\n",
       "      <th colspan=\"7\" halign=\"left\">SPY</th>\n",
       "      <th colspan=\"7\" halign=\"left\">AGG</th>\n",
       "    </tr>\n",
       "    <tr>\n",
       "      <th></th>\n",
       "      <th>open</th>\n",
       "      <th>high</th>\n",
       "      <th>low</th>\n",
       "      <th>close</th>\n",
       "      <th>volume</th>\n",
       "      <th>trade_count</th>\n",
       "      <th>vwap</th>\n",
       "      <th>open</th>\n",
       "      <th>high</th>\n",
       "      <th>low</th>\n",
       "      <th>close</th>\n",
       "      <th>volume</th>\n",
       "      <th>trade_count</th>\n",
       "      <th>vwap</th>\n",
       "    </tr>\n",
       "    <tr>\n",
       "      <th>timestamp</th>\n",
       "      <th></th>\n",
       "      <th></th>\n",
       "      <th></th>\n",
       "      <th></th>\n",
       "      <th></th>\n",
       "      <th></th>\n",
       "      <th></th>\n",
       "      <th></th>\n",
       "      <th></th>\n",
       "      <th></th>\n",
       "      <th></th>\n",
       "      <th></th>\n",
       "      <th></th>\n",
       "      <th></th>\n",
       "    </tr>\n",
       "  </thead>\n",
       "  <tbody>\n",
       "    <tr>\n",
       "      <th>2022-10-28 04:00:00+00:00</th>\n",
       "      <td>379.87</td>\n",
       "      <td>389.52</td>\n",
       "      <td>379.68</td>\n",
       "      <td>389.02</td>\n",
       "      <td>100160252</td>\n",
       "      <td>597379</td>\n",
       "      <td>385.648651</td>\n",
       "      <td>95.01</td>\n",
       "      <td>95.46</td>\n",
       "      <td>94.98</td>\n",
       "      <td>95.22</td>\n",
       "      <td>6224403</td>\n",
       "      <td>25972</td>\n",
       "      <td>95.234097</td>\n",
       "    </tr>\n",
       "  </tbody>\n",
       "</table>\n",
       "</div>"
      ],
      "text/plain": [
       "                              SPY                                     \\\n",
       "                             open    high     low   close     volume   \n",
       "timestamp                                                              \n",
       "2022-10-28 04:00:00+00:00  379.87  389.52  379.68  389.02  100160252   \n",
       "\n",
       "                                                     AGG                       \\\n",
       "                          trade_count        vwap   open   high    low  close   \n",
       "timestamp                                                                       \n",
       "2022-10-28 04:00:00+00:00      597379  385.648651  95.01  95.46  94.98  95.22   \n",
       "\n",
       "                                                           \n",
       "                            volume trade_count       vwap  \n",
       "timestamp                                                  \n",
       "2022-10-28 04:00:00+00:00  6224403       25972  95.234097  "
      ]
     },
     "execution_count": 21,
     "metadata": {},
     "output_type": "execute_result"
    }
   ],
   "source": [
    "# Use the Alpaca get_bars function to get current closing prices the portfolio\n",
    "# Be sure to set the `df` property after the function to format the response object as a DataFrame\n",
    "# YOUR CODE HERE\n",
    "alpaca_df= alpaca.get_bars(\n",
    "    tickers,\n",
    "    timeframe,\n",
    "    start=start_date,\n",
    "    end=end_date\n",
    ").df\n",
    "\n",
    "# Reorganize the DataFrame\n",
    "# Separate ticker data\n",
    "# YOUR CODE HERE\n",
    "SPY = alpaca_df[alpaca_df['symbol']=='SPY'].drop('symbol',axis=1)\n",
    "AGG = alpaca_df[alpaca_df['symbol']=='AGG'].drop('symbol',axis=1)\n",
    "\n",
    "# Concatenate the ticker DataFrames\n",
    "# YOUR CODE HERE\n",
    "alpaca_df =pd.concat([SPY,AGG],axis=1,keys=['SPY','AGG'])\n",
    "# Review the first 5 rows of the Alpaca DataFrame\n",
    "# YOUR CODE HERE\n",
    "alpaca_df"
   ]
  },
  {
   "cell_type": "markdown",
   "metadata": {},
   "source": [
    "#### Step 5: Navigating the Alpaca response DataFrame, select the `SPY` and `AGG` closing prices, and store them as variables."
   ]
  },
  {
   "cell_type": "code",
   "execution_count": 22,
   "metadata": {},
   "outputs": [
    {
     "name": "stdout",
     "output_type": "stream",
     "text": [
      "The closing price of AGG on 10-28-22 was $95.22.\n"
     ]
    }
   ],
   "source": [
    "# Access the closing price for AGG from the Alpaca DataFrame\n",
    "# Converting the value to a floating point number\n",
    "agg_close_price = alpaca_df['AGG']['close']\n",
    "agg_close_price = agg_close_price.iloc[0]\n",
    "# Print the AGG closing price\n",
    "# YOUR CODE HERE\n",
    "print(f'The closing price of AGG on 10-28-22 was ${agg_close_price:,.2f}.')\n"
   ]
  },
  {
   "cell_type": "code",
   "execution_count": 24,
   "metadata": {},
   "outputs": [
    {
     "name": "stdout",
     "output_type": "stream",
     "text": [
      "The closing price of SPY on 10-28-22 was $389.02.\n"
     ]
    }
   ],
   "source": [
    "# Access the closing price for SPY from the Alpaca DataFrame\n",
    "# Converting the value to a floating point number\n",
    "spy_close_price = alpaca_df['SPY']['close']\n",
    "spy_close_price = spy_close_price.iloc[0]\n",
    "# Print the SPY closing price\n",
    "# YOUR CODE HERE\n",
    "print(f'The closing price of SPY on 10-28-22 was ${spy_close_price:,.2f}.')"
   ]
  },
  {
   "cell_type": "markdown",
   "metadata": {},
   "source": [
    "#### Step 6: Calculate the value, in US dollars, of the current amount of shares in each of the stock and bond portions of the portfolio, and print the results."
   ]
  },
  {
   "cell_type": "code",
   "execution_count": 25,
   "metadata": {},
   "outputs": [
    {
     "name": "stdout",
     "output_type": "stream",
     "text": [
      "The total value of the AGG bonds is $19,044.00.\n"
     ]
    }
   ],
   "source": [
    "# Calculate the current value of the bond portion of the portfolio\n",
    "agg_value = agg_close_price * agg_shares\n",
    "\n",
    "# Print the current value of the bond portfolio\n",
    "# YOUR CODE HERE\n",
    "print(f'The total value of the AGG bonds is ${agg_value:,.2f}.')"
   ]
  },
  {
   "cell_type": "code",
   "execution_count": 26,
   "metadata": {},
   "outputs": [
    {
     "name": "stdout",
     "output_type": "stream",
     "text": [
      "The total value of the SPY shares is $42,792.20.\n"
     ]
    }
   ],
   "source": [
    "# Calculate the current value of the stock portion of the portfolio\n",
    "spy_value = spy_close_price * spy_shares\n",
    "\n",
    "# Print the current value of the stock portfolio\n",
    "# YOUR CODE HERE\n",
    "print(f'The total value of the SPY shares is ${spy_value:,.2f}.')"
   ]
  },
  {
   "cell_type": "code",
   "execution_count": 27,
   "metadata": {},
   "outputs": [
    {
     "name": "stdout",
     "output_type": "stream",
     "text": [
      "The total value of the stock and bond in the portfolio is $61,836.20.\n"
     ]
    }
   ],
   "source": [
    "# Calculate the total value of the stock and bond portion of the portfolio\n",
    "total_stocks_bonds =spy_value + agg_value\n",
    "\n",
    "# Print the current balance of the stock and bond portion of the portfolio\n",
    "# YOUR CODE HERE\n",
    "print(f'The total value of the stock and bond in the portfolio is ${total_stocks_bonds:,.2f}.')"
   ]
  },
  {
   "cell_type": "code",
   "execution_count": 28,
   "metadata": {},
   "outputs": [
    {
     "name": "stdout",
     "output_type": "stream",
     "text": [
      "The total value of the whole portfolio is $95,322.73.\n"
     ]
    }
   ],
   "source": [
    "# Calculate the total value of the member's entire savings portfolio\n",
    "# Add the value of the cryptocurrency walled to the value of the total stocks and bonds\n",
    "total_portfolio = total_crypto_wallet + total_stocks_bonds\n",
    "\n",
    "# Print current total portfolio balance\n",
    "# YOUR CODE HERE\n",
    "print(f'The total value of the whole portfolio is ${total_portfolio:,.2f}.')"
   ]
  },
  {
   "cell_type": "markdown",
   "metadata": {},
   "source": [
    "### Evaluate the Emergency Fund\n",
    "\n",
    "In this section, you’ll use the valuations for the cryptocurrency wallet and for the stock and bond portions of the portfolio to determine if the credit union member has enough savings to build an emergency fund into their financial plan. To do this, complete the following steps:\n",
    "\n",
    "1. Create a Python list named `savings_data` that has two elements. The first element contains the total value of the cryptocurrency wallet. The second element contains the total value of the stock and bond portions of the portfolio.\n",
    "\n",
    "2. Use the `savings_data` list to create a Pandas DataFrame named `savings_df`, and then display this DataFrame. The function to create the DataFrame should take the following three parameters:\n",
    "\n",
    "    - `savings_data`: Use the list that you just created.\n",
    "\n",
    "    - `columns`: Set this parameter equal to a Python list with a single value called `amount`.\n",
    "\n",
    "    - `index`: Set this parameter equal to a Python list with the values of `crypto` and `stock/bond`.\n",
    "\n",
    "3. Use the `savings_df` DataFrame to plot a pie chart that visualizes the composition of the member’s portfolio. The y-axis of the pie chart uses `amount`. Be sure to add a title.\n",
    "\n",
    "4. Using Python, determine if the current portfolio has enough to create an emergency fund as part of the member’s financial plan. Ideally, an emergency fund should equal to three times the member’s monthly income. To do this, implement the following steps:\n",
    "\n",
    "    1. Create a variable named `emergency_fund_value`, and set it equal to three times the value of the member’s `monthly_income` of $12000. (You set this earlier in Part 1).\n",
    "\n",
    "    2. Create a series of three if statements to determine if the member’s total portfolio is large enough to fund the emergency portfolio:\n",
    "\n",
    "        1. If the total portfolio value is greater than the emergency fund value, display a message congratulating the member for having enough money in this fund.\n",
    "\n",
    "        2. Else if the total portfolio value is equal to the emergency fund value, display a message congratulating the member on reaching this important financial goal.\n",
    "\n",
    "        3. Else the total portfolio is less than the emergency fund value, so display a message showing how many dollars away the member is from reaching the goal. (Subtract the total portfolio value from the emergency fund value.)\n"
   ]
  },
  {
   "cell_type": "markdown",
   "metadata": {},
   "source": [
    "#### Step 1: Create a Python list named `savings_data` that has two elements. The first element contains the total value of the cryptocurrency wallet. The second element contains the total value of the stock and bond portions of the portfolio."
   ]
  },
  {
   "cell_type": "code",
   "execution_count": 29,
   "metadata": {},
   "outputs": [
    {
     "data": {
      "text/plain": [
       "[33486.532, 61836.2]"
      ]
     },
     "execution_count": 29,
     "metadata": {},
     "output_type": "execute_result"
    }
   ],
   "source": [
    "# Consolidate financial assets data into a Python list\n",
    "# YOUR CODE HERE\n",
    "savings_data=[total_crypto_wallet, total_stocks_bonds]\n",
    "# Review the Python list savings_data\n",
    "# YOUR CODE HERE\n",
    "savings_data"
   ]
  },
  {
   "cell_type": "markdown",
   "metadata": {},
   "source": [
    "#### Step 2: Use the `savings_data` list to create a Pandas DataFrame named `savings_df`, and then display this DataFrame. The function to create the DataFrame should take the following three parameters:\n",
    "\n",
    "- `savings_data`: Use the list that you just created.\n",
    "\n",
    "- `columns`: Set this parameter equal to a Python list with a single value called `amount`.\n",
    "\n",
    "- `index`: Set this parameter equal to a Python list with the values of `crypto` and `stock/bond`.\n"
   ]
  },
  {
   "cell_type": "code",
   "execution_count": 30,
   "metadata": {},
   "outputs": [
    {
     "data": {
      "text/html": [
       "<div>\n",
       "<style scoped>\n",
       "    .dataframe tbody tr th:only-of-type {\n",
       "        vertical-align: middle;\n",
       "    }\n",
       "\n",
       "    .dataframe tbody tr th {\n",
       "        vertical-align: top;\n",
       "    }\n",
       "\n",
       "    .dataframe thead th {\n",
       "        text-align: right;\n",
       "    }\n",
       "</style>\n",
       "<table border=\"1\" class=\"dataframe\">\n",
       "  <thead>\n",
       "    <tr style=\"text-align: right;\">\n",
       "      <th></th>\n",
       "      <th>amount</th>\n",
       "    </tr>\n",
       "  </thead>\n",
       "  <tbody>\n",
       "    <tr>\n",
       "      <th>Crypto Wallet</th>\n",
       "      <td>33486.532</td>\n",
       "    </tr>\n",
       "    <tr>\n",
       "      <th>Stocks and Bonds</th>\n",
       "      <td>61836.200</td>\n",
       "    </tr>\n",
       "  </tbody>\n",
       "</table>\n",
       "</div>"
      ],
      "text/plain": [
       "                     amount\n",
       "Crypto Wallet     33486.532\n",
       "Stocks and Bonds  61836.200"
      ]
     },
     "execution_count": 30,
     "metadata": {},
     "output_type": "execute_result"
    }
   ],
   "source": [
    "# Create a Pandas DataFrame called savings_df \n",
    "# YOUR CODE HERE\n",
    "savings_df = pd.DataFrame(savings_data,\n",
    "                          index=['Crypto Wallet','Stocks and Bonds'],\n",
    "                          columns=['amount'])\n",
    "# Display the savings_df DataFramed\n",
    "# YOUR CODE HERE\n",
    "# savings_df=savings_df\n",
    "savings_df\n",
    "\n"
   ]
  },
  {
   "cell_type": "markdown",
   "metadata": {},
   "source": [
    "#### Step 3: Use the `savings_df` DataFrame to plot a pie chart that visualizes the composition of the member’s portfolio. The y-axis of the pie chart uses `amount`. Be sure to add a title."
   ]
  },
  {
   "cell_type": "code",
   "execution_count": 31,
   "metadata": {},
   "outputs": [
    {
     "data": {
      "text/plain": [
       "<AxesSubplot:ylabel='amount'>"
      ]
     },
     "execution_count": 31,
     "metadata": {},
     "output_type": "execute_result"
    },
    {
     "data": {
      "image/png": "[encoded data removed]",
      "text/plain": [
       "<Figure size 432x288 with 1 Axes>"
      ]
     },
     "metadata": {},
     "output_type": "display_data"
    }
   ],
   "source": [
    "# Plot the total value of the member's portfolio (crypto and stock/bond) in a pie chart\n",
    "# YOUR CODE HERE\n",
    "savings_df.plot.pie(y='amount')"
   ]
  },
  {
   "cell_type": "markdown",
   "metadata": {},
   "source": [
    "#### Step 4: Using Python, determine if the current portfolio has enough to create an emergency fund as part of the member’s financial plan. Ideally, an emergency fund should equal to three times the member’s monthly income. To do this, implement the following steps:\n",
    "\n",
    "Step 1. Create a variable named `emergency_fund_value`, and set it equal to three times the value of the member’s `monthly_income` of 12000. (You set this earlier in Part 1).\n",
    "\n",
    "Step 2. Create a series of three if statements to determine if the member’s total portfolio is large enough to fund the emergency portfolio:\n",
    "\n",
    "* If the total portfolio value is greater than the emergency fund value, display a message congratulating the member for having enough money in this fund.\n",
    "\n",
    "* Else if the total portfolio value is equal to the emergency fund value, display a message congratulating the member on reaching this important financial goal.\n",
    "\n",
    "* Else the total portfolio is less than the emergency fund value, so display a message showing how many dollars away the member is from reaching the goal. (Subtract the total portfolio value from the emergency fund value.)\n"
   ]
  },
  {
   "cell_type": "markdown",
   "metadata": {},
   "source": [
    "##### Step 4-1: Create a variable named `emergency_fund_value`, and set it equal to three times the value of the member’s `monthly_income` of 12000. (You set this earlier in Part 1)."
   ]
  },
  {
   "cell_type": "code",
   "execution_count": 32,
   "metadata": {},
   "outputs": [],
   "source": [
    "# Create a variable named emergency_fund_value\n",
    "# YOUR CODE HERE\n",
    "emergency_fund_value = monthly_income*3\n",
    "#created remaining balance variable for next section\n",
    "remaining_balance = total_portfolio-emergency_fund_value"
   ]
  },
  {
   "cell_type": "markdown",
   "metadata": {},
   "source": [
    "##### Step 4-2: Create a series of three if statements to determine if the member’s total portfolio is large enough to fund the emergency portfolio:\n",
    "\n",
    "* If the total portfolio value is greater than the emergency fund value, display a message congratulating the member for having enough money in this fund.\n",
    "\n",
    "* Else if the total portfolio value is equal to the emergency fund value, display a message congratulating the member on reaching this important financial goal.\n",
    "\n",
    "* Else the total portfolio is less than the emergency fund value, so display a message showing how many dollars away the member is from reaching the goal. (Subtract the total portfolio value from the emergency fund value.)"
   ]
  },
  {
   "cell_type": "code",
   "execution_count": 34,
   "metadata": {},
   "outputs": [
    {
     "name": "stdout",
     "output_type": "stream",
     "text": [
      "Congratulations! You have enough funds in your portfolio ($95322.73) to fund an emergency fund.($36000.00)\n"
     ]
    }
   ],
   "source": [
    "# Evaluate the possibility of creating an emergency fund with 3 conditions:\n",
    "# YOUR CODE HERE\n",
    "# YOUR CODE HERE\n",
    "# YOUR CODE HERE\n",
    "if total_portfolio > emergency_fund_value:\n",
    "    print(f'Congratulations! You have enough funds in your portfolio (${total_portfolio:.2f}) to fund an emergency fund.(${emergency_fund_value:.2f})')\n",
    "elif total_portfolio == emergency_fund_value:\n",
    "    print(f'Congratulation! You have exactly enough funds in your portfolio (${total_portfolio:.2f}) to fund an emergency fund.(${emergency_fund_value:.2f})')\n",
    "else:\n",
    "    print(f'Sorry, you do not have enough funds in your portfolio to fund an emgergeny fund, you are missing ${remaining_balance:.2f} come back later!')\n"
   ]
  },
  {
   "cell_type": "markdown",
   "metadata": {},
   "source": [
    "## Part 2: Create a Financial Planner for Retirement"
   ]
  },
  {
   "cell_type": "markdown",
   "metadata": {},
   "source": [
    "### Create the Monte Carlo Simulation\n",
    "\n",
    "In this section, you’ll use the MCForecastTools library to create a Monte Carlo simulation for the member’s savings portfolio. To do this, complete the following steps:\n",
    "\n",
    "1. Make an API call via the Alpaca SDK to get 3 years of historical closing prices for a traditional 60/40 portfolio split: 60% stocks (SPY) and 40% bonds (AGG).\n",
    "\n",
    "2. Run a Monte Carlo simulation of 500 samples and 30 years for the 60/40 portfolio, and then plot the results.The following image shows the overlay line plot resulting from a simulation with these characteristics. However, because a random number generator is used to run each live Monte Carlo simulation, your image will differ slightly from this exact image:\n",
    "\n",
    "![A screenshot depicts the resulting plot.](Images/5-4-monte-carlo-line-plot.png)\n",
    "\n",
    "3. Plot the probability distribution of the Monte Carlo simulation. Plot the probability distribution of the Monte Carlo simulation. The following image shows the histogram plot resulting from a simulation with these characteristics. However, because a random number generator is used to run each live Monte Carlo simulation, your image will differ slightly from this exact image:\n",
    "\n",
    "![A screenshot depicts the histogram plot.](Images/5-4-monte-carlo-histogram.png)\n",
    "\n",
    "4. Generate the summary statistics for the Monte Carlo simulation.\n",
    "\n"
   ]
  },
  {
   "cell_type": "markdown",
   "metadata": {
    "tags": []
   },
   "source": [
    "#### Step 1: Make an API call via the Alpaca SDK to get 3 years of historical closing prices for a traditional 60/40 portfolio split: 60% stocks (SPY) and 40% bonds (AGG)."
   ]
  },
  {
   "cell_type": "code",
   "execution_count": 41,
   "metadata": {},
   "outputs": [],
   "source": [
    "# Set start and end dates of 3 years back from your current date\n",
    "# Alternatively, you can use an end date of 2020-08-07 and work 3 years back from that date \n",
    "# YOUR CODE HERE\n",
    "# YOUR CODE HERE\n",
    "start_date= pd.Timestamp(\"2019-10-01\", tz='America/New_York').isoformat()\n",
    "end_date=pd.Timestamp('2022-10-26', tz='America/New_York').isoformat()\n",
    "timeframe='1Day'\n",
    "tickers=['SPY','AGG']\n"
   ]
  },
  {
   "cell_type": "code",
   "execution_count": 42,
   "metadata": {},
   "outputs": [
    {
     "data": {
      "text/html": [
       "<div>\n",
       "<style scoped>\n",
       "    .dataframe tbody tr th:only-of-type {\n",
       "        vertical-align: middle;\n",
       "    }\n",
       "\n",
       "    .dataframe tbody tr th {\n",
       "        vertical-align: top;\n",
       "    }\n",
       "\n",
       "    .dataframe thead tr th {\n",
       "        text-align: left;\n",
       "    }\n",
       "\n",
       "    .dataframe thead tr:last-of-type th {\n",
       "        text-align: right;\n",
       "    }\n",
       "</style>\n",
       "<table border=\"1\" class=\"dataframe\">\n",
       "  <thead>\n",
       "    <tr>\n",
       "      <th></th>\n",
       "      <th colspan=\"7\" halign=\"left\">SPY</th>\n",
       "      <th colspan=\"7\" halign=\"left\">AGG</th>\n",
       "    </tr>\n",
       "    <tr>\n",
       "      <th></th>\n",
       "      <th>open</th>\n",
       "      <th>high</th>\n",
       "      <th>low</th>\n",
       "      <th>close</th>\n",
       "      <th>volume</th>\n",
       "      <th>trade_count</th>\n",
       "      <th>vwap</th>\n",
       "      <th>open</th>\n",
       "      <th>high</th>\n",
       "      <th>low</th>\n",
       "      <th>close</th>\n",
       "      <th>volume</th>\n",
       "      <th>trade_count</th>\n",
       "      <th>vwap</th>\n",
       "    </tr>\n",
       "    <tr>\n",
       "      <th>timestamp</th>\n",
       "      <th></th>\n",
       "      <th></th>\n",
       "      <th></th>\n",
       "      <th></th>\n",
       "      <th></th>\n",
       "      <th></th>\n",
       "      <th></th>\n",
       "      <th></th>\n",
       "      <th></th>\n",
       "      <th></th>\n",
       "      <th></th>\n",
       "      <th></th>\n",
       "      <th></th>\n",
       "      <th></th>\n",
       "    </tr>\n",
       "  </thead>\n",
       "  <tbody>\n",
       "    <tr>\n",
       "      <th>2019-10-01 04:00:00+00:00</th>\n",
       "      <td>297.74</td>\n",
       "      <td>298.455</td>\n",
       "      <td>293.00</td>\n",
       "      <td>293.32</td>\n",
       "      <td>90160482</td>\n",
       "      <td>422407</td>\n",
       "      <td>294.867498</td>\n",
       "      <td>112.71</td>\n",
       "      <td>113.2500</td>\n",
       "      <td>112.63</td>\n",
       "      <td>113.12</td>\n",
       "      <td>5982470</td>\n",
       "      <td>30567</td>\n",
       "      <td>113.081002</td>\n",
       "    </tr>\n",
       "    <tr>\n",
       "      <th>2019-10-02 04:00:00+00:00</th>\n",
       "      <td>291.48</td>\n",
       "      <td>291.510</td>\n",
       "      <td>286.64</td>\n",
       "      <td>288.16</td>\n",
       "      <td>125924074</td>\n",
       "      <td>608988</td>\n",
       "      <td>288.821147</td>\n",
       "      <td>113.19</td>\n",
       "      <td>113.3075</td>\n",
       "      <td>113.09</td>\n",
       "      <td>113.20</td>\n",
       "      <td>9571687</td>\n",
       "      <td>23424</td>\n",
       "      <td>113.229809</td>\n",
       "    </tr>\n",
       "    <tr>\n",
       "      <th>2019-10-03 04:00:00+00:00</th>\n",
       "      <td>287.81</td>\n",
       "      <td>290.450</td>\n",
       "      <td>284.82</td>\n",
       "      <td>290.45</td>\n",
       "      <td>85906608</td>\n",
       "      <td>517842</td>\n",
       "      <td>288.281946</td>\n",
       "      <td>113.34</td>\n",
       "      <td>113.7400</td>\n",
       "      <td>113.32</td>\n",
       "      <td>113.64</td>\n",
       "      <td>5144049</td>\n",
       "      <td>18028</td>\n",
       "      <td>113.589201</td>\n",
       "    </tr>\n",
       "    <tr>\n",
       "      <th>2019-10-04 04:00:00+00:00</th>\n",
       "      <td>291.14</td>\n",
       "      <td>294.630</td>\n",
       "      <td>290.82</td>\n",
       "      <td>294.30</td>\n",
       "      <td>66877330</td>\n",
       "      <td>305209</td>\n",
       "      <td>292.978205</td>\n",
       "      <td>113.68</td>\n",
       "      <td>113.8255</td>\n",
       "      <td>113.63</td>\n",
       "      <td>113.82</td>\n",
       "      <td>3331180</td>\n",
       "      <td>14511</td>\n",
       "      <td>113.742441</td>\n",
       "    </tr>\n",
       "    <tr>\n",
       "      <th>2019-10-07 04:00:00+00:00</th>\n",
       "      <td>293.47</td>\n",
       "      <td>295.260</td>\n",
       "      <td>292.77</td>\n",
       "      <td>293.10</td>\n",
       "      <td>61657344</td>\n",
       "      <td>314251</td>\n",
       "      <td>293.863605</td>\n",
       "      <td>113.64</td>\n",
       "      <td>113.7050</td>\n",
       "      <td>113.51</td>\n",
       "      <td>113.51</td>\n",
       "      <td>2493664</td>\n",
       "      <td>9765</td>\n",
       "      <td>113.575284</td>\n",
       "    </tr>\n",
       "  </tbody>\n",
       "</table>\n",
       "</div>"
      ],
      "text/plain": [
       "                              SPY                                      \\\n",
       "                             open     high     low   close     volume   \n",
       "timestamp                                                               \n",
       "2019-10-01 04:00:00+00:00  297.74  298.455  293.00  293.32   90160482   \n",
       "2019-10-02 04:00:00+00:00  291.48  291.510  286.64  288.16  125924074   \n",
       "2019-10-03 04:00:00+00:00  287.81  290.450  284.82  290.45   85906608   \n",
       "2019-10-04 04:00:00+00:00  291.14  294.630  290.82  294.30   66877330   \n",
       "2019-10-07 04:00:00+00:00  293.47  295.260  292.77  293.10   61657344   \n",
       "\n",
       "                                                      AGG                    \\\n",
       "                          trade_count        vwap    open      high     low   \n",
       "timestamp                                                                     \n",
       "2019-10-01 04:00:00+00:00      422407  294.867498  112.71  113.2500  112.63   \n",
       "2019-10-02 04:00:00+00:00      608988  288.821147  113.19  113.3075  113.09   \n",
       "2019-10-03 04:00:00+00:00      517842  288.281946  113.34  113.7400  113.32   \n",
       "2019-10-04 04:00:00+00:00      305209  292.978205  113.68  113.8255  113.63   \n",
       "2019-10-07 04:00:00+00:00      314251  293.863605  113.64  113.7050  113.51   \n",
       "\n",
       "                                                                    \n",
       "                            close   volume trade_count        vwap  \n",
       "timestamp                                                           \n",
       "2019-10-01 04:00:00+00:00  113.12  5982470       30567  113.081002  \n",
       "2019-10-02 04:00:00+00:00  113.20  9571687       23424  113.229809  \n",
       "2019-10-03 04:00:00+00:00  113.64  5144049       18028  113.589201  \n",
       "2019-10-04 04:00:00+00:00  113.82  3331180       14511  113.742441  \n",
       "2019-10-07 04:00:00+00:00  113.51  2493664        9765  113.575284  "
      ]
     },
     "metadata": {},
     "output_type": "display_data"
    },
    {
     "data": {
      "text/html": [
       "<div>\n",
       "<style scoped>\n",
       "    .dataframe tbody tr th:only-of-type {\n",
       "        vertical-align: middle;\n",
       "    }\n",
       "\n",
       "    .dataframe tbody tr th {\n",
       "        vertical-align: top;\n",
       "    }\n",
       "\n",
       "    .dataframe thead tr th {\n",
       "        text-align: left;\n",
       "    }\n",
       "\n",
       "    .dataframe thead tr:last-of-type th {\n",
       "        text-align: right;\n",
       "    }\n",
       "</style>\n",
       "<table border=\"1\" class=\"dataframe\">\n",
       "  <thead>\n",
       "    <tr>\n",
       "      <th></th>\n",
       "      <th colspan=\"7\" halign=\"left\">SPY</th>\n",
       "      <th colspan=\"7\" halign=\"left\">AGG</th>\n",
       "    </tr>\n",
       "    <tr>\n",
       "      <th></th>\n",
       "      <th>open</th>\n",
       "      <th>high</th>\n",
       "      <th>low</th>\n",
       "      <th>close</th>\n",
       "      <th>volume</th>\n",
       "      <th>trade_count</th>\n",
       "      <th>vwap</th>\n",
       "      <th>open</th>\n",
       "      <th>high</th>\n",
       "      <th>low</th>\n",
       "      <th>close</th>\n",
       "      <th>volume</th>\n",
       "      <th>trade_count</th>\n",
       "      <th>vwap</th>\n",
       "    </tr>\n",
       "    <tr>\n",
       "      <th>timestamp</th>\n",
       "      <th></th>\n",
       "      <th></th>\n",
       "      <th></th>\n",
       "      <th></th>\n",
       "      <th></th>\n",
       "      <th></th>\n",
       "      <th></th>\n",
       "      <th></th>\n",
       "      <th></th>\n",
       "      <th></th>\n",
       "      <th></th>\n",
       "      <th></th>\n",
       "      <th></th>\n",
       "      <th></th>\n",
       "    </tr>\n",
       "  </thead>\n",
       "  <tbody>\n",
       "    <tr>\n",
       "      <th>2022-10-20 04:00:00+00:00</th>\n",
       "      <td>368.03</td>\n",
       "      <td>372.67</td>\n",
       "      <td>364.610</td>\n",
       "      <td>365.41</td>\n",
       "      <td>87963935</td>\n",
       "      <td>634944</td>\n",
       "      <td>367.710482</td>\n",
       "      <td>94.0600</td>\n",
       "      <td>94.2555</td>\n",
       "      <td>93.5648</td>\n",
       "      <td>93.63</td>\n",
       "      <td>8860510</td>\n",
       "      <td>19980</td>\n",
       "      <td>93.841305</td>\n",
       "    </tr>\n",
       "    <tr>\n",
       "      <th>2022-10-21 04:00:00+00:00</th>\n",
       "      <td>365.12</td>\n",
       "      <td>374.80</td>\n",
       "      <td>363.540</td>\n",
       "      <td>374.29</td>\n",
       "      <td>130542269</td>\n",
       "      <td>718723</td>\n",
       "      <td>369.862865</td>\n",
       "      <td>93.2793</td>\n",
       "      <td>93.8650</td>\n",
       "      <td>93.2000</td>\n",
       "      <td>93.77</td>\n",
       "      <td>8326260</td>\n",
       "      <td>35796</td>\n",
       "      <td>93.663157</td>\n",
       "    </tr>\n",
       "    <tr>\n",
       "      <th>2022-10-24 04:00:00+00:00</th>\n",
       "      <td>375.89</td>\n",
       "      <td>380.06</td>\n",
       "      <td>373.110</td>\n",
       "      <td>378.87</td>\n",
       "      <td>85131661</td>\n",
       "      <td>624488</td>\n",
       "      <td>377.367392</td>\n",
       "      <td>93.7700</td>\n",
       "      <td>94.0300</td>\n",
       "      <td>93.4500</td>\n",
       "      <td>93.64</td>\n",
       "      <td>5898426</td>\n",
       "      <td>20905</td>\n",
       "      <td>93.735409</td>\n",
       "    </tr>\n",
       "    <tr>\n",
       "      <th>2022-10-25 04:00:00+00:00</th>\n",
       "      <td>378.79</td>\n",
       "      <td>385.25</td>\n",
       "      <td>378.671</td>\n",
       "      <td>384.92</td>\n",
       "      <td>78656471</td>\n",
       "      <td>598158</td>\n",
       "      <td>382.991850</td>\n",
       "      <td>94.3900</td>\n",
       "      <td>94.7050</td>\n",
       "      <td>94.3600</td>\n",
       "      <td>94.56</td>\n",
       "      <td>11361895</td>\n",
       "      <td>35359</td>\n",
       "      <td>94.522662</td>\n",
       "    </tr>\n",
       "    <tr>\n",
       "      <th>2022-10-26 04:00:00+00:00</th>\n",
       "      <td>381.62</td>\n",
       "      <td>387.58</td>\n",
       "      <td>381.350</td>\n",
       "      <td>382.02</td>\n",
       "      <td>103779972</td>\n",
       "      <td>657066</td>\n",
       "      <td>383.877161</td>\n",
       "      <td>94.7800</td>\n",
       "      <td>95.1700</td>\n",
       "      <td>94.7600</td>\n",
       "      <td>94.98</td>\n",
       "      <td>7836932</td>\n",
       "      <td>26772</td>\n",
       "      <td>94.951876</td>\n",
       "    </tr>\n",
       "  </tbody>\n",
       "</table>\n",
       "</div>"
      ],
      "text/plain": [
       "                              SPY                                      \\\n",
       "                             open    high      low   close     volume   \n",
       "timestamp                                                               \n",
       "2022-10-20 04:00:00+00:00  368.03  372.67  364.610  365.41   87963935   \n",
       "2022-10-21 04:00:00+00:00  365.12  374.80  363.540  374.29  130542269   \n",
       "2022-10-24 04:00:00+00:00  375.89  380.06  373.110  378.87   85131661   \n",
       "2022-10-25 04:00:00+00:00  378.79  385.25  378.671  384.92   78656471   \n",
       "2022-10-26 04:00:00+00:00  381.62  387.58  381.350  382.02  103779972   \n",
       "\n",
       "                                                       AGG                    \\\n",
       "                          trade_count        vwap     open     high      low   \n",
       "timestamp                                                                      \n",
       "2022-10-20 04:00:00+00:00      634944  367.710482  94.0600  94.2555  93.5648   \n",
       "2022-10-21 04:00:00+00:00      718723  369.862865  93.2793  93.8650  93.2000   \n",
       "2022-10-24 04:00:00+00:00      624488  377.367392  93.7700  94.0300  93.4500   \n",
       "2022-10-25 04:00:00+00:00      598158  382.991850  94.3900  94.7050  94.3600   \n",
       "2022-10-26 04:00:00+00:00      657066  383.877161  94.7800  95.1700  94.7600   \n",
       "\n",
       "                                                                   \n",
       "                           close    volume trade_count       vwap  \n",
       "timestamp                                                          \n",
       "2022-10-20 04:00:00+00:00  93.63   8860510       19980  93.841305  \n",
       "2022-10-21 04:00:00+00:00  93.77   8326260       35796  93.663157  \n",
       "2022-10-24 04:00:00+00:00  93.64   5898426       20905  93.735409  \n",
       "2022-10-25 04:00:00+00:00  94.56  11361895       35359  94.522662  \n",
       "2022-10-26 04:00:00+00:00  94.98   7836932       26772  94.951876  "
      ]
     },
     "metadata": {},
     "output_type": "display_data"
    }
   ],
   "source": [
    "# Use the Alpaca get_bars function to make the API call to get the 3 years worth of pricing data\n",
    "# The tickers and timeframe parameters should have been set in Part 1 of this activity \n",
    "# The start and end dates should be updated with the information set above\n",
    "# Remember to add the df property to the end of the call so the response is returned as a DataFrame\n",
    "# YOUR CODE HERE\n",
    "prices_df=alpaca.get_bars(\n",
    "    tickers,\n",
    "    timeframe,\n",
    "    start=start_date,\n",
    "    end=end_date\n",
    ").df\n",
    "\n",
    "# Reorganize the DataFrame\n",
    "# Separate ticker data\n",
    "# YOUR CODE HERE\n",
    "SPY= prices_df[prices_df['symbol']=='SPY'].drop('symbol',axis=1)\n",
    "AGG= prices_df[prices_df['symbol']=='AGG'].drop('symbol',axis=1)\n",
    "\n",
    "# Concatenate the ticker DataFrames\n",
    "# YOUR CODE HERE\n",
    "prices_df=pd.concat([SPY,AGG], axis=1, keys=['SPY','AGG'])\n",
    "\n",
    "# Display both the first and last five rows of the DataFrame\n",
    "# YOUR CODE HERE\n",
    "# YOUR CODE HERE\n",
    "display(prices_df.head())\n",
    "display(prices_df.tail())\n",
    "                                             "
   ]
  },
  {
   "cell_type": "markdown",
   "metadata": {},
   "source": [
    "#### Step 2: Run a Monte Carlo simulation of 500 samples and 30 years for the 60/40 portfolio, and then plot the results."
   ]
  },
  {
   "cell_type": "code",
   "execution_count": 43,
   "metadata": {},
   "outputs": [
    {
     "data": {
      "text/html": [
       "<div>\n",
       "<style scoped>\n",
       "    .dataframe tbody tr th:only-of-type {\n",
       "        vertical-align: middle;\n",
       "    }\n",
       "\n",
       "    .dataframe tbody tr th {\n",
       "        vertical-align: top;\n",
       "    }\n",
       "\n",
       "    .dataframe thead tr th {\n",
       "        text-align: left;\n",
       "    }\n",
       "\n",
       "    .dataframe thead tr:last-of-type th {\n",
       "        text-align: right;\n",
       "    }\n",
       "</style>\n",
       "<table border=\"1\" class=\"dataframe\">\n",
       "  <thead>\n",
       "    <tr>\n",
       "      <th></th>\n",
       "      <th colspan=\"8\" halign=\"left\">SPY</th>\n",
       "      <th colspan=\"8\" halign=\"left\">AGG</th>\n",
       "    </tr>\n",
       "    <tr>\n",
       "      <th></th>\n",
       "      <th>open</th>\n",
       "      <th>high</th>\n",
       "      <th>low</th>\n",
       "      <th>close</th>\n",
       "      <th>volume</th>\n",
       "      <th>trade_count</th>\n",
       "      <th>vwap</th>\n",
       "      <th>daily_return</th>\n",
       "      <th>open</th>\n",
       "      <th>high</th>\n",
       "      <th>low</th>\n",
       "      <th>close</th>\n",
       "      <th>volume</th>\n",
       "      <th>trade_count</th>\n",
       "      <th>vwap</th>\n",
       "      <th>daily_return</th>\n",
       "    </tr>\n",
       "    <tr>\n",
       "      <th>timestamp</th>\n",
       "      <th></th>\n",
       "      <th></th>\n",
       "      <th></th>\n",
       "      <th></th>\n",
       "      <th></th>\n",
       "      <th></th>\n",
       "      <th></th>\n",
       "      <th></th>\n",
       "      <th></th>\n",
       "      <th></th>\n",
       "      <th></th>\n",
       "      <th></th>\n",
       "      <th></th>\n",
       "      <th></th>\n",
       "      <th></th>\n",
       "      <th></th>\n",
       "    </tr>\n",
       "  </thead>\n",
       "  <tbody>\n",
       "    <tr>\n",
       "      <th>2019-10-01 04:00:00+00:00</th>\n",
       "      <td>297.74</td>\n",
       "      <td>298.455</td>\n",
       "      <td>293.00</td>\n",
       "      <td>293.32</td>\n",
       "      <td>90160482</td>\n",
       "      <td>422407</td>\n",
       "      <td>294.867498</td>\n",
       "      <td>NaN</td>\n",
       "      <td>112.71</td>\n",
       "      <td>113.2500</td>\n",
       "      <td>112.63</td>\n",
       "      <td>113.12</td>\n",
       "      <td>5982470</td>\n",
       "      <td>30567</td>\n",
       "      <td>113.081002</td>\n",
       "      <td>NaN</td>\n",
       "    </tr>\n",
       "    <tr>\n",
       "      <th>2019-10-02 04:00:00+00:00</th>\n",
       "      <td>291.48</td>\n",
       "      <td>291.510</td>\n",
       "      <td>286.64</td>\n",
       "      <td>288.16</td>\n",
       "      <td>125924074</td>\n",
       "      <td>608988</td>\n",
       "      <td>288.821147</td>\n",
       "      <td>-0.017592</td>\n",
       "      <td>113.19</td>\n",
       "      <td>113.3075</td>\n",
       "      <td>113.09</td>\n",
       "      <td>113.20</td>\n",
       "      <td>9571687</td>\n",
       "      <td>23424</td>\n",
       "      <td>113.229809</td>\n",
       "      <td>0.000707</td>\n",
       "    </tr>\n",
       "    <tr>\n",
       "      <th>2019-10-03 04:00:00+00:00</th>\n",
       "      <td>287.81</td>\n",
       "      <td>290.450</td>\n",
       "      <td>284.82</td>\n",
       "      <td>290.45</td>\n",
       "      <td>85906608</td>\n",
       "      <td>517842</td>\n",
       "      <td>288.281946</td>\n",
       "      <td>0.007947</td>\n",
       "      <td>113.34</td>\n",
       "      <td>113.7400</td>\n",
       "      <td>113.32</td>\n",
       "      <td>113.64</td>\n",
       "      <td>5144049</td>\n",
       "      <td>18028</td>\n",
       "      <td>113.589201</td>\n",
       "      <td>0.003887</td>\n",
       "    </tr>\n",
       "    <tr>\n",
       "      <th>2019-10-04 04:00:00+00:00</th>\n",
       "      <td>291.14</td>\n",
       "      <td>294.630</td>\n",
       "      <td>290.82</td>\n",
       "      <td>294.30</td>\n",
       "      <td>66877330</td>\n",
       "      <td>305209</td>\n",
       "      <td>292.978205</td>\n",
       "      <td>0.013255</td>\n",
       "      <td>113.68</td>\n",
       "      <td>113.8255</td>\n",
       "      <td>113.63</td>\n",
       "      <td>113.82</td>\n",
       "      <td>3331180</td>\n",
       "      <td>14511</td>\n",
       "      <td>113.742441</td>\n",
       "      <td>0.001584</td>\n",
       "    </tr>\n",
       "    <tr>\n",
       "      <th>2019-10-07 04:00:00+00:00</th>\n",
       "      <td>293.47</td>\n",
       "      <td>295.260</td>\n",
       "      <td>292.77</td>\n",
       "      <td>293.10</td>\n",
       "      <td>61657344</td>\n",
       "      <td>314251</td>\n",
       "      <td>293.863605</td>\n",
       "      <td>-0.004077</td>\n",
       "      <td>113.64</td>\n",
       "      <td>113.7050</td>\n",
       "      <td>113.51</td>\n",
       "      <td>113.51</td>\n",
       "      <td>2493664</td>\n",
       "      <td>9765</td>\n",
       "      <td>113.575284</td>\n",
       "      <td>-0.002724</td>\n",
       "    </tr>\n",
       "  </tbody>\n",
       "</table>\n",
       "</div>"
      ],
      "text/plain": [
       "                              SPY                                      \\\n",
       "                             open     high     low   close     volume   \n",
       "timestamp                                                               \n",
       "2019-10-01 04:00:00+00:00  297.74  298.455  293.00  293.32   90160482   \n",
       "2019-10-02 04:00:00+00:00  291.48  291.510  286.64  288.16  125924074   \n",
       "2019-10-03 04:00:00+00:00  287.81  290.450  284.82  290.45   85906608   \n",
       "2019-10-04 04:00:00+00:00  291.14  294.630  290.82  294.30   66877330   \n",
       "2019-10-07 04:00:00+00:00  293.47  295.260  292.77  293.10   61657344   \n",
       "\n",
       "                                                                   AGG  \\\n",
       "                          trade_count        vwap daily_return    open   \n",
       "timestamp                                                                \n",
       "2019-10-01 04:00:00+00:00      422407  294.867498          NaN  112.71   \n",
       "2019-10-02 04:00:00+00:00      608988  288.821147    -0.017592  113.19   \n",
       "2019-10-03 04:00:00+00:00      517842  288.281946     0.007947  113.34   \n",
       "2019-10-04 04:00:00+00:00      305209  292.978205     0.013255  113.68   \n",
       "2019-10-07 04:00:00+00:00      314251  293.863605    -0.004077  113.64   \n",
       "\n",
       "                                                                          \\\n",
       "                               high     low   close   volume trade_count   \n",
       "timestamp                                                                  \n",
       "2019-10-01 04:00:00+00:00  113.2500  112.63  113.12  5982470       30567   \n",
       "2019-10-02 04:00:00+00:00  113.3075  113.09  113.20  9571687       23424   \n",
       "2019-10-03 04:00:00+00:00  113.7400  113.32  113.64  5144049       18028   \n",
       "2019-10-04 04:00:00+00:00  113.8255  113.63  113.82  3331180       14511   \n",
       "2019-10-07 04:00:00+00:00  113.7050  113.51  113.51  2493664        9765   \n",
       "\n",
       "                                                    \n",
       "                                 vwap daily_return  \n",
       "timestamp                                           \n",
       "2019-10-01 04:00:00+00:00  113.081002          NaN  \n",
       "2019-10-02 04:00:00+00:00  113.229809     0.000707  \n",
       "2019-10-03 04:00:00+00:00  113.589201     0.003887  \n",
       "2019-10-04 04:00:00+00:00  113.742441     0.001584  \n",
       "2019-10-07 04:00:00+00:00  113.575284    -0.002724  "
      ]
     },
     "execution_count": 43,
     "metadata": {},
     "output_type": "execute_result"
    }
   ],
   "source": [
    "# Configure the Monte Carlo simulation to forecast 30 years cumulative returns\n",
    "# The weights should be split 40% to AGG and 60% to SPY.\n",
    "# Run 500 samples.\n",
    "# YOUR CODE HERE\n",
    "MC_30year= MCSimulation(\n",
    "    portfolio_data=prices_df,\n",
    "    weights=[.60,.40],\n",
    "    num_simulation=500,\n",
    "    num_trading_days=(252*30)\n",
    ")\n",
    "\n",
    "# Review the simulation input data\n",
    "# YOUR CODE HERE\n",
    "MC_30year.portfolio_data.head()"
   ]
  },
  {
   "cell_type": "code",
   "execution_count": 54,
   "metadata": {},
   "outputs": [
    {
     "name": "stdout",
     "output_type": "stream",
     "text": [
      "Running Monte Carlo simulation number 0.\n",
      "Running Monte Carlo simulation number 10.\n",
      "Running Monte Carlo simulation number 20.\n",
      "Running Monte Carlo simulation number 30.\n",
      "Running Monte Carlo simulation number 40.\n",
      "Running Monte Carlo simulation number 50.\n",
      "Running Monte Carlo simulation number 60.\n",
      "Running Monte Carlo simulation number 70.\n",
      "Running Monte Carlo simulation number 80.\n",
      "Running Monte Carlo simulation number 90.\n",
      "Running Monte Carlo simulation number 100.\n"
     ]
    },
    {
     "name": "stderr",
     "output_type": "stream",
     "text": [
      "C:\\Users\\card_\\OneDrive\\Desktop\\Fintech Bootcamp\\challenges\\Financial-Planner\\Code\\MCForecastTools.py:117: PerformanceWarning: DataFrame is highly fragmented.  This is usually the result of calling `frame.insert` many times, which has poor performance.  Consider joining all columns at once using pd.concat(axis=1) instead.  To get a de-fragmented frame, use `newframe = frame.copy()`\n",
      "  portfolio_cumulative_returns[n] = (1 + sim_df.fillna(0)).cumprod()\n"
     ]
    },
    {
     "name": "stdout",
     "output_type": "stream",
     "text": [
      "Running Monte Carlo simulation number 110.\n",
      "Running Monte Carlo simulation number 120.\n",
      "Running Monte Carlo simulation number 130.\n",
      "Running Monte Carlo simulation number 140.\n",
      "Running Monte Carlo simulation number 150.\n",
      "Running Monte Carlo simulation number 160.\n",
      "Running Monte Carlo simulation number 170.\n",
      "Running Monte Carlo simulation number 180.\n",
      "Running Monte Carlo simulation number 190.\n",
      "Running Monte Carlo simulation number 200.\n",
      "Running Monte Carlo simulation number 210.\n",
      "Running Monte Carlo simulation number 220.\n",
      "Running Monte Carlo simulation number 230.\n",
      "Running Monte Carlo simulation number 240.\n",
      "Running Monte Carlo simulation number 250.\n",
      "Running Monte Carlo simulation number 260.\n",
      "Running Monte Carlo simulation number 270.\n",
      "Running Monte Carlo simulation number 280.\n",
      "Running Monte Carlo simulation number 290.\n",
      "Running Monte Carlo simulation number 300.\n",
      "Running Monte Carlo simulation number 310.\n",
      "Running Monte Carlo simulation number 320.\n",
      "Running Monte Carlo simulation number 330.\n",
      "Running Monte Carlo simulation number 340.\n",
      "Running Monte Carlo simulation number 350.\n",
      "Running Monte Carlo simulation number 360.\n",
      "Running Monte Carlo simulation number 370.\n",
      "Running Monte Carlo simulation number 380.\n",
      "Running Monte Carlo simulation number 390.\n",
      "Running Monte Carlo simulation number 400.\n",
      "Running Monte Carlo simulation number 410.\n",
      "Running Monte Carlo simulation number 420.\n",
      "Running Monte Carlo simulation number 430.\n",
      "Running Monte Carlo simulation number 440.\n",
      "Running Monte Carlo simulation number 450.\n",
      "Running Monte Carlo simulation number 460.\n",
      "Running Monte Carlo simulation number 470.\n",
      "Running Monte Carlo simulation number 480.\n",
      "Running Monte Carlo simulation number 490.\n"
     ]
    },
    {
     "data": {
      "text/html": [
       "<div>\n",
       "<style scoped>\n",
       "    .dataframe tbody tr th:only-of-type {\n",
       "        vertical-align: middle;\n",
       "    }\n",
       "\n",
       "    .dataframe tbody tr th {\n",
       "        vertical-align: top;\n",
       "    }\n",
       "\n",
       "    .dataframe thead th {\n",
       "        text-align: right;\n",
       "    }\n",
       "</style>\n",
       "<table border=\"1\" class=\"dataframe\">\n",
       "  <thead>\n",
       "    <tr style=\"text-align: right;\">\n",
       "      <th></th>\n",
       "      <th>0</th>\n",
       "      <th>1</th>\n",
       "      <th>2</th>\n",
       "      <th>3</th>\n",
       "      <th>4</th>\n",
       "      <th>5</th>\n",
       "      <th>6</th>\n",
       "      <th>7</th>\n",
       "      <th>8</th>\n",
       "      <th>9</th>\n",
       "      <th>...</th>\n",
       "      <th>490</th>\n",
       "      <th>491</th>\n",
       "      <th>492</th>\n",
       "      <th>493</th>\n",
       "      <th>494</th>\n",
       "      <th>495</th>\n",
       "      <th>496</th>\n",
       "      <th>497</th>\n",
       "      <th>498</th>\n",
       "      <th>499</th>\n",
       "    </tr>\n",
       "  </thead>\n",
       "  <tbody>\n",
       "    <tr>\n",
       "      <th>0</th>\n",
       "      <td>1.000000</td>\n",
       "      <td>1.000000</td>\n",
       "      <td>1.000000</td>\n",
       "      <td>1.000000</td>\n",
       "      <td>1.000000</td>\n",
       "      <td>1.000000</td>\n",
       "      <td>1.000000</td>\n",
       "      <td>1.000000</td>\n",
       "      <td>1.000000</td>\n",
       "      <td>1.000000</td>\n",
       "      <td>...</td>\n",
       "      <td>1.000000</td>\n",
       "      <td>1.000000</td>\n",
       "      <td>1.000000</td>\n",
       "      <td>1.000000</td>\n",
       "      <td>1.000000</td>\n",
       "      <td>1.000000</td>\n",
       "      <td>1.000000</td>\n",
       "      <td>1.000000</td>\n",
       "      <td>1.000000</td>\n",
       "      <td>1.000000</td>\n",
       "    </tr>\n",
       "    <tr>\n",
       "      <th>1</th>\n",
       "      <td>0.995596</td>\n",
       "      <td>0.996130</td>\n",
       "      <td>0.995033</td>\n",
       "      <td>0.983743</td>\n",
       "      <td>1.009454</td>\n",
       "      <td>1.005342</td>\n",
       "      <td>1.004847</td>\n",
       "      <td>0.996828</td>\n",
       "      <td>0.999655</td>\n",
       "      <td>0.995709</td>\n",
       "      <td>...</td>\n",
       "      <td>1.011054</td>\n",
       "      <td>1.007712</td>\n",
       "      <td>1.010886</td>\n",
       "      <td>1.013042</td>\n",
       "      <td>1.003642</td>\n",
       "      <td>0.984816</td>\n",
       "      <td>1.019338</td>\n",
       "      <td>0.996783</td>\n",
       "      <td>0.987194</td>\n",
       "      <td>0.989494</td>\n",
       "    </tr>\n",
       "    <tr>\n",
       "      <th>2</th>\n",
       "      <td>1.015627</td>\n",
       "      <td>1.002804</td>\n",
       "      <td>0.995347</td>\n",
       "      <td>0.987188</td>\n",
       "      <td>1.002666</td>\n",
       "      <td>1.013495</td>\n",
       "      <td>0.995671</td>\n",
       "      <td>0.992773</td>\n",
       "      <td>1.006214</td>\n",
       "      <td>1.005192</td>\n",
       "      <td>...</td>\n",
       "      <td>1.018425</td>\n",
       "      <td>1.006190</td>\n",
       "      <td>1.017436</td>\n",
       "      <td>1.000063</td>\n",
       "      <td>1.002390</td>\n",
       "      <td>0.987716</td>\n",
       "      <td>1.017765</td>\n",
       "      <td>0.996052</td>\n",
       "      <td>1.001473</td>\n",
       "      <td>0.987609</td>\n",
       "    </tr>\n",
       "    <tr>\n",
       "      <th>3</th>\n",
       "      <td>1.003448</td>\n",
       "      <td>1.000081</td>\n",
       "      <td>0.990633</td>\n",
       "      <td>0.988902</td>\n",
       "      <td>1.004803</td>\n",
       "      <td>1.024979</td>\n",
       "      <td>0.986531</td>\n",
       "      <td>0.992763</td>\n",
       "      <td>1.005851</td>\n",
       "      <td>0.999098</td>\n",
       "      <td>...</td>\n",
       "      <td>1.006009</td>\n",
       "      <td>1.015512</td>\n",
       "      <td>1.017318</td>\n",
       "      <td>0.993057</td>\n",
       "      <td>0.996080</td>\n",
       "      <td>0.997486</td>\n",
       "      <td>1.017476</td>\n",
       "      <td>1.007484</td>\n",
       "      <td>1.000374</td>\n",
       "      <td>0.978034</td>\n",
       "    </tr>\n",
       "    <tr>\n",
       "      <th>4</th>\n",
       "      <td>0.993077</td>\n",
       "      <td>0.988813</td>\n",
       "      <td>0.995092</td>\n",
       "      <td>0.988898</td>\n",
       "      <td>1.003092</td>\n",
       "      <td>1.024283</td>\n",
       "      <td>0.992128</td>\n",
       "      <td>0.998762</td>\n",
       "      <td>1.014112</td>\n",
       "      <td>0.995093</td>\n",
       "      <td>...</td>\n",
       "      <td>0.992628</td>\n",
       "      <td>1.012236</td>\n",
       "      <td>1.020214</td>\n",
       "      <td>0.984641</td>\n",
       "      <td>0.995606</td>\n",
       "      <td>1.001448</td>\n",
       "      <td>1.026276</td>\n",
       "      <td>1.008369</td>\n",
       "      <td>1.012973</td>\n",
       "      <td>0.977033</td>\n",
       "    </tr>\n",
       "    <tr>\n",
       "      <th>...</th>\n",
       "      <td>...</td>\n",
       "      <td>...</td>\n",
       "      <td>...</td>\n",
       "      <td>...</td>\n",
       "      <td>...</td>\n",
       "      <td>...</td>\n",
       "      <td>...</td>\n",
       "      <td>...</td>\n",
       "      <td>...</td>\n",
       "      <td>...</td>\n",
       "      <td>...</td>\n",
       "      <td>...</td>\n",
       "      <td>...</td>\n",
       "      <td>...</td>\n",
       "      <td>...</td>\n",
       "      <td>...</td>\n",
       "      <td>...</td>\n",
       "      <td>...</td>\n",
       "      <td>...</td>\n",
       "      <td>...</td>\n",
       "      <td>...</td>\n",
       "    </tr>\n",
       "    <tr>\n",
       "      <th>7556</th>\n",
       "      <td>11.117752</td>\n",
       "      <td>6.173241</td>\n",
       "      <td>2.957916</td>\n",
       "      <td>3.233863</td>\n",
       "      <td>2.110809</td>\n",
       "      <td>1.327548</td>\n",
       "      <td>5.813035</td>\n",
       "      <td>6.392874</td>\n",
       "      <td>2.629392</td>\n",
       "      <td>4.979068</td>\n",
       "      <td>...</td>\n",
       "      <td>0.858468</td>\n",
       "      <td>4.617577</td>\n",
       "      <td>8.212069</td>\n",
       "      <td>4.626130</td>\n",
       "      <td>8.118530</td>\n",
       "      <td>5.046201</td>\n",
       "      <td>2.000005</td>\n",
       "      <td>4.917769</td>\n",
       "      <td>5.431261</td>\n",
       "      <td>2.689615</td>\n",
       "    </tr>\n",
       "    <tr>\n",
       "      <th>7557</th>\n",
       "      <td>11.010337</td>\n",
       "      <td>6.212837</td>\n",
       "      <td>2.987535</td>\n",
       "      <td>3.261706</td>\n",
       "      <td>2.098324</td>\n",
       "      <td>1.344515</td>\n",
       "      <td>5.788602</td>\n",
       "      <td>6.454395</td>\n",
       "      <td>2.654454</td>\n",
       "      <td>4.949487</td>\n",
       "      <td>...</td>\n",
       "      <td>0.854633</td>\n",
       "      <td>4.626145</td>\n",
       "      <td>8.211296</td>\n",
       "      <td>4.612364</td>\n",
       "      <td>8.235384</td>\n",
       "      <td>5.026523</td>\n",
       "      <td>1.986059</td>\n",
       "      <td>4.914531</td>\n",
       "      <td>5.429790</td>\n",
       "      <td>2.676220</td>\n",
       "    </tr>\n",
       "    <tr>\n",
       "      <th>7558</th>\n",
       "      <td>11.171625</td>\n",
       "      <td>6.213601</td>\n",
       "      <td>2.986971</td>\n",
       "      <td>3.260725</td>\n",
       "      <td>2.138861</td>\n",
       "      <td>1.351175</td>\n",
       "      <td>5.798266</td>\n",
       "      <td>6.387239</td>\n",
       "      <td>2.650004</td>\n",
       "      <td>4.936292</td>\n",
       "      <td>...</td>\n",
       "      <td>0.867270</td>\n",
       "      <td>4.641951</td>\n",
       "      <td>8.198346</td>\n",
       "      <td>4.654826</td>\n",
       "      <td>8.309487</td>\n",
       "      <td>5.019698</td>\n",
       "      <td>2.003340</td>\n",
       "      <td>4.890873</td>\n",
       "      <td>5.445257</td>\n",
       "      <td>2.668053</td>\n",
       "    </tr>\n",
       "    <tr>\n",
       "      <th>7559</th>\n",
       "      <td>11.185096</td>\n",
       "      <td>6.161468</td>\n",
       "      <td>2.996512</td>\n",
       "      <td>3.249026</td>\n",
       "      <td>2.168577</td>\n",
       "      <td>1.365849</td>\n",
       "      <td>5.804138</td>\n",
       "      <td>6.475962</td>\n",
       "      <td>2.639067</td>\n",
       "      <td>4.918699</td>\n",
       "      <td>...</td>\n",
       "      <td>0.872228</td>\n",
       "      <td>4.622103</td>\n",
       "      <td>8.169832</td>\n",
       "      <td>4.665389</td>\n",
       "      <td>8.531508</td>\n",
       "      <td>5.073663</td>\n",
       "      <td>1.966707</td>\n",
       "      <td>4.879337</td>\n",
       "      <td>5.528866</td>\n",
       "      <td>2.670551</td>\n",
       "    </tr>\n",
       "    <tr>\n",
       "      <th>7560</th>\n",
       "      <td>11.306688</td>\n",
       "      <td>6.214727</td>\n",
       "      <td>3.010943</td>\n",
       "      <td>3.262464</td>\n",
       "      <td>2.169877</td>\n",
       "      <td>1.355788</td>\n",
       "      <td>5.844801</td>\n",
       "      <td>6.499776</td>\n",
       "      <td>2.620084</td>\n",
       "      <td>4.861479</td>\n",
       "      <td>...</td>\n",
       "      <td>0.870758</td>\n",
       "      <td>4.667718</td>\n",
       "      <td>8.161547</td>\n",
       "      <td>4.692931</td>\n",
       "      <td>8.418650</td>\n",
       "      <td>5.089466</td>\n",
       "      <td>1.968455</td>\n",
       "      <td>4.815414</td>\n",
       "      <td>5.522160</td>\n",
       "      <td>2.700553</td>\n",
       "    </tr>\n",
       "  </tbody>\n",
       "</table>\n",
       "<p>7561 rows × 500 columns</p>\n",
       "</div>"
      ],
      "text/plain": [
       "            0         1         2         3         4         5         6    \\\n",
       "0      1.000000  1.000000  1.000000  1.000000  1.000000  1.000000  1.000000   \n",
       "1      0.995596  0.996130  0.995033  0.983743  1.009454  1.005342  1.004847   \n",
       "2      1.015627  1.002804  0.995347  0.987188  1.002666  1.013495  0.995671   \n",
       "3      1.003448  1.000081  0.990633  0.988902  1.004803  1.024979  0.986531   \n",
       "4      0.993077  0.988813  0.995092  0.988898  1.003092  1.024283  0.992128   \n",
       "...         ...       ...       ...       ...       ...       ...       ...   \n",
       "7556  11.117752  6.173241  2.957916  3.233863  2.110809  1.327548  5.813035   \n",
       "7557  11.010337  6.212837  2.987535  3.261706  2.098324  1.344515  5.788602   \n",
       "7558  11.171625  6.213601  2.986971  3.260725  2.138861  1.351175  5.798266   \n",
       "7559  11.185096  6.161468  2.996512  3.249026  2.168577  1.365849  5.804138   \n",
       "7560  11.306688  6.214727  3.010943  3.262464  2.169877  1.355788  5.844801   \n",
       "\n",
       "           7         8         9    ...       490       491       492  \\\n",
       "0     1.000000  1.000000  1.000000  ...  1.000000  1.000000  1.000000   \n",
       "1     0.996828  0.999655  0.995709  ...  1.011054  1.007712  1.010886   \n",
       "2     0.992773  1.006214  1.005192  ...  1.018425  1.006190  1.017436   \n",
       "3     0.992763  1.005851  0.999098  ...  1.006009  1.015512  1.017318   \n",
       "4     0.998762  1.014112  0.995093  ...  0.992628  1.012236  1.020214   \n",
       "...        ...       ...       ...  ...       ...       ...       ...   \n",
       "7556  6.392874  2.629392  4.979068  ...  0.858468  4.617577  8.212069   \n",
       "7557  6.454395  2.654454  4.949487  ...  0.854633  4.626145  8.211296   \n",
       "7558  6.387239  2.650004  4.936292  ...  0.867270  4.641951  8.198346   \n",
       "7559  6.475962  2.639067  4.918699  ...  0.872228  4.622103  8.169832   \n",
       "7560  6.499776  2.620084  4.861479  ...  0.870758  4.667718  8.161547   \n",
       "\n",
       "           493       494       495       496       497       498       499  \n",
       "0     1.000000  1.000000  1.000000  1.000000  1.000000  1.000000  1.000000  \n",
       "1     1.013042  1.003642  0.984816  1.019338  0.996783  0.987194  0.989494  \n",
       "2     1.000063  1.002390  0.987716  1.017765  0.996052  1.001473  0.987609  \n",
       "3     0.993057  0.996080  0.997486  1.017476  1.007484  1.000374  0.978034  \n",
       "4     0.984641  0.995606  1.001448  1.026276  1.008369  1.012973  0.977033  \n",
       "...        ...       ...       ...       ...       ...       ...       ...  \n",
       "7556  4.626130  8.118530  5.046201  2.000005  4.917769  5.431261  2.689615  \n",
       "7557  4.612364  8.235384  5.026523  1.986059  4.914531  5.429790  2.676220  \n",
       "7558  4.654826  8.309487  5.019698  2.003340  4.890873  5.445257  2.668053  \n",
       "7559  4.665389  8.531508  5.073663  1.966707  4.879337  5.528866  2.670551  \n",
       "7560  4.692931  8.418650  5.089466  1.968455  4.815414  5.522160  2.700553  \n",
       "\n",
       "[7561 rows x 500 columns]"
      ]
     },
     "execution_count": 54,
     "metadata": {},
     "output_type": "execute_result"
    }
   ],
   "source": [
    "# Run the Monte Carlo simulation to forecast 30 years cumulative returns\n",
    "# YOUR CODE HERE\n",
    "MC_30year.calc_cumulative_return()"
   ]
  },
  {
   "cell_type": "code",
   "execution_count": 55,
   "metadata": {},
   "outputs": [
    {
     "data": {
      "text/plain": [
       "<AxesSubplot:title={'center':'500 Simulations of Cumulative Portfolio Return Trajectories Over the Next 7560 Trading Days.'}>"
      ]
     },
     "execution_count": 55,
     "metadata": {},
     "output_type": "execute_result"
    },
    {
     "data": {
      "image/png": "[encoded data removed]",
      "text/plain": [
       "<Figure size 432x288 with 1 Axes>"
      ]
     },
     "metadata": {
      "needs_background": "light"
     },
     "output_type": "display_data"
    }
   ],
   "source": [
    "# Visualize the 30-year Monte Carlo simulation by creating an\n",
    "# overlay line plot\n",
    "# YOUR CODE HERE\n",
    "plot_MC_30year= MC_30year.plot_simulation()\n",
    "plot_MC_30year"
   ]
  },
  {
   "cell_type": "markdown",
   "metadata": {},
   "source": [
    "#### Step 3: Plot the probability distribution of the Monte Carlo simulation."
   ]
  },
  {
   "cell_type": "code",
   "execution_count": 56,
   "metadata": {},
   "outputs": [
    {
     "data": {
      "text/plain": [
       "<AxesSubplot:title={'center':'Distribution of Final Cumuluative Returns Across All 500 Simulations'}, ylabel='Frequency'>"
      ]
     },
     "execution_count": 56,
     "metadata": {},
     "output_type": "execute_result"
    },
    {
     "data": {
      "image/png": "[encoded data removed]",
      "text/plain": [
       "<Figure size 432x288 with 1 Axes>"
      ]
     },
     "metadata": {
      "needs_background": "light"
     },
     "output_type": "display_data"
    }
   ],
   "source": [
    "# Visualize the probability distribution of the 30-year Monte Carlo simulation \n",
    "# by plotting a histogram\n",
    "# YOUR CODE HERE\n",
    "plot_MC_30year_dist= MC_30year.plot_distribution()\n",
    "plot_MC_30year_dist"
   ]
  },
  {
   "cell_type": "markdown",
   "metadata": {},
   "source": [
    "#### Step 4: Generate the summary statistics for the Monte Carlo simulation."
   ]
  },
  {
   "cell_type": "code",
   "execution_count": 57,
   "metadata": {},
   "outputs": [
    {
     "name": "stdout",
     "output_type": "stream",
     "text": [
      "count           500.000000\n",
      "mean              3.907222\n",
      "std               3.326427\n",
      "min               0.265764\n",
      "25%               1.821017\n",
      "50%               2.914982\n",
      "75%               5.089517\n",
      "max              28.690896\n",
      "95% CI Lower      0.708979\n",
      "95% CI Upper     11.316969\n",
      "Name: 7560, dtype: float64\n"
     ]
    }
   ],
   "source": [
    "# Generate summary statistics from the 30-year Monte Carlo simulation results\n",
    "# Save the results as a variable\n",
    "# YOUR CODE HERE\n",
    "MC_30year_summary=MC_30year.summarize_cumulative_return()\n",
    "\n",
    "# Review the 30-year Monte Carlo summary statistics\n",
    "# YOUR CODE HERE\n",
    "print(MC_30year_summary)"
   ]
  },
  {
   "cell_type": "markdown",
   "metadata": {},
   "source": [
    "### Analyze the Retirement Portfolio Forecasts\n",
    "\n",
    "Using the current value of only the stock and bond portion of the member's portfolio and the summary statistics that you generated from the Monte Carlo simulation, answer the following question in your Jupyter notebook:\n",
    "\n",
    "-  What are the lower and upper bounds for the expected value of the portfolio with a 95% confidence interval?\n"
   ]
  },
  {
   "cell_type": "code",
   "execution_count": 58,
   "metadata": {},
   "outputs": [
    {
     "name": "stdout",
     "output_type": "stream",
     "text": [
      "The value of the Stock portion of the portfolio is $42,792.20, the value of the Bond portion of the portfolio is $19,044.00, the total value of the stock and bond portfolio is $61,836.20.\n"
     ]
    }
   ],
   "source": [
    "# Print the current balance of the stock and bond portion of the members portfolio\n",
    "# YOUR CODE HERE\n",
    "print(f'The value of the Stock portion of the portfolio is ${spy_value:,.2f}, the value of the Bond portion of the portfolio is ${agg_value:,.2f}, the total value of the stock and bond portfolio is ${total_stocks_bonds:,.2f}.')"
   ]
  },
  {
   "cell_type": "code",
   "execution_count": 62,
   "metadata": {},
   "outputs": [
    {
     "name": "stdout",
     "output_type": "stream",
     "text": [
      "There is a 95% chance that in the next 30 years the current investment will be in a range of $43,840.60 and $699,798.36.\n",
      "There is a good chance that in the next 30 years the current investment will land in a range around $241,607.77.\n"
     ]
    }
   ],
   "source": [
    "# Use the lower and upper `95%` confidence intervals to calculate the range of the possible outcomes for the current stock/bond portfolio\n",
    "ci_lower_thirty_cumulative_return = MC_30year_summary[8] * total_stocks_bonds\n",
    "ci_upper_thirty_cumulative_return = MC_30year_summary[9] * total_stocks_bonds\n",
    "mean_30year=MC_30year_summary[1] * total_stocks_bonds\n",
    "\n",
    "# Print the result of your calculations\n",
    "# YOUR CODE HERE - Print result for the upper and lower ranges, as well as the mean range. \n",
    "print(f'There is a 95% chance that in the next 30 years the current investment will be in a range of ${ci_lower_thirty_cumulative_return:,.2f} and ${ci_upper_thirty_cumulative_return:,.2f}.')\n",
    "print(f'There is a good chance that in the next 30 years the current investment will land in a range around ${mean_30year:,.2f}.')"
   ]
  },
  {
   "cell_type": "markdown",
   "metadata": {},
   "source": [
    "### Forecast Cumulative Returns in 10 Years\n",
    "\n",
    "The CTO of the credit union is impressed with your work on these planning tools but wonders if 30 years is a long time to wait until retirement. So, your next task is to adjust the retirement portfolio and run a new Monte Carlo simulation to find out if the changes will allow members to retire earlier.\n",
    "\n",
    "For this new Monte Carlo simulation, do the following: \n",
    "\n",
    "- Forecast the cumulative returns for 10 years from now. Because of the shortened investment horizon (30 years to 10 years), the portfolio needs to invest more heavily in the riskier asset&mdash;that is, stock&mdash;to help accumulate wealth for retirement. \n",
    "\n",
    "- Adjust the weights of the retirement portfolio so that the composition for the Monte Carlo simulation consists of 20% bonds and 80% stocks. \n",
    "\n",
    "- Run the simulation over 500 samples, and use the same data that the API call to Alpaca generated.\n",
    "\n",
    "- Based on the new Monte Carlo simulation, answer the following questions in your Jupyter notebook:\n",
    "\n",
    "    - Using the current value of only the stock and bond portion of the member's portfolio and the summary statistics that you generated from the new Monte Carlo simulation, what are the lower and upper bounds for the expected value of the portfolio (with the new weights) with a 95% confidence interval?\n",
    "\n",
    "    - Will weighting the portfolio more heavily toward stocks allow the credit union members to retire after only 10 years?\n"
   ]
  },
  {
   "cell_type": "code",
   "execution_count": 44,
   "metadata": {},
   "outputs": [
    {
     "data": {
      "text/html": [
       "<div>\n",
       "<style scoped>\n",
       "    .dataframe tbody tr th:only-of-type {\n",
       "        vertical-align: middle;\n",
       "    }\n",
       "\n",
       "    .dataframe tbody tr th {\n",
       "        vertical-align: top;\n",
       "    }\n",
       "\n",
       "    .dataframe thead tr th {\n",
       "        text-align: left;\n",
       "    }\n",
       "\n",
       "    .dataframe thead tr:last-of-type th {\n",
       "        text-align: right;\n",
       "    }\n",
       "</style>\n",
       "<table border=\"1\" class=\"dataframe\">\n",
       "  <thead>\n",
       "    <tr>\n",
       "      <th></th>\n",
       "      <th colspan=\"8\" halign=\"left\">SPY</th>\n",
       "      <th colspan=\"8\" halign=\"left\">AGG</th>\n",
       "    </tr>\n",
       "    <tr>\n",
       "      <th></th>\n",
       "      <th>open</th>\n",
       "      <th>high</th>\n",
       "      <th>low</th>\n",
       "      <th>close</th>\n",
       "      <th>volume</th>\n",
       "      <th>trade_count</th>\n",
       "      <th>vwap</th>\n",
       "      <th>daily_return</th>\n",
       "      <th>open</th>\n",
       "      <th>high</th>\n",
       "      <th>low</th>\n",
       "      <th>close</th>\n",
       "      <th>volume</th>\n",
       "      <th>trade_count</th>\n",
       "      <th>vwap</th>\n",
       "      <th>daily_return</th>\n",
       "    </tr>\n",
       "    <tr>\n",
       "      <th>timestamp</th>\n",
       "      <th></th>\n",
       "      <th></th>\n",
       "      <th></th>\n",
       "      <th></th>\n",
       "      <th></th>\n",
       "      <th></th>\n",
       "      <th></th>\n",
       "      <th></th>\n",
       "      <th></th>\n",
       "      <th></th>\n",
       "      <th></th>\n",
       "      <th></th>\n",
       "      <th></th>\n",
       "      <th></th>\n",
       "      <th></th>\n",
       "      <th></th>\n",
       "    </tr>\n",
       "  </thead>\n",
       "  <tbody>\n",
       "    <tr>\n",
       "      <th>2019-10-01 04:00:00+00:00</th>\n",
       "      <td>297.74</td>\n",
       "      <td>298.455</td>\n",
       "      <td>293.00</td>\n",
       "      <td>293.32</td>\n",
       "      <td>90160482</td>\n",
       "      <td>422407</td>\n",
       "      <td>294.867498</td>\n",
       "      <td>NaN</td>\n",
       "      <td>112.71</td>\n",
       "      <td>113.2500</td>\n",
       "      <td>112.63</td>\n",
       "      <td>113.12</td>\n",
       "      <td>5982470</td>\n",
       "      <td>30567</td>\n",
       "      <td>113.081002</td>\n",
       "      <td>NaN</td>\n",
       "    </tr>\n",
       "    <tr>\n",
       "      <th>2019-10-02 04:00:00+00:00</th>\n",
       "      <td>291.48</td>\n",
       "      <td>291.510</td>\n",
       "      <td>286.64</td>\n",
       "      <td>288.16</td>\n",
       "      <td>125924074</td>\n",
       "      <td>608988</td>\n",
       "      <td>288.821147</td>\n",
       "      <td>-0.017592</td>\n",
       "      <td>113.19</td>\n",
       "      <td>113.3075</td>\n",
       "      <td>113.09</td>\n",
       "      <td>113.20</td>\n",
       "      <td>9571687</td>\n",
       "      <td>23424</td>\n",
       "      <td>113.229809</td>\n",
       "      <td>0.000707</td>\n",
       "    </tr>\n",
       "    <tr>\n",
       "      <th>2019-10-03 04:00:00+00:00</th>\n",
       "      <td>287.81</td>\n",
       "      <td>290.450</td>\n",
       "      <td>284.82</td>\n",
       "      <td>290.45</td>\n",
       "      <td>85906608</td>\n",
       "      <td>517842</td>\n",
       "      <td>288.281946</td>\n",
       "      <td>0.007947</td>\n",
       "      <td>113.34</td>\n",
       "      <td>113.7400</td>\n",
       "      <td>113.32</td>\n",
       "      <td>113.64</td>\n",
       "      <td>5144049</td>\n",
       "      <td>18028</td>\n",
       "      <td>113.589201</td>\n",
       "      <td>0.003887</td>\n",
       "    </tr>\n",
       "    <tr>\n",
       "      <th>2019-10-04 04:00:00+00:00</th>\n",
       "      <td>291.14</td>\n",
       "      <td>294.630</td>\n",
       "      <td>290.82</td>\n",
       "      <td>294.30</td>\n",
       "      <td>66877330</td>\n",
       "      <td>305209</td>\n",
       "      <td>292.978205</td>\n",
       "      <td>0.013255</td>\n",
       "      <td>113.68</td>\n",
       "      <td>113.8255</td>\n",
       "      <td>113.63</td>\n",
       "      <td>113.82</td>\n",
       "      <td>3331180</td>\n",
       "      <td>14511</td>\n",
       "      <td>113.742441</td>\n",
       "      <td>0.001584</td>\n",
       "    </tr>\n",
       "    <tr>\n",
       "      <th>2019-10-07 04:00:00+00:00</th>\n",
       "      <td>293.47</td>\n",
       "      <td>295.260</td>\n",
       "      <td>292.77</td>\n",
       "      <td>293.10</td>\n",
       "      <td>61657344</td>\n",
       "      <td>314251</td>\n",
       "      <td>293.863605</td>\n",
       "      <td>-0.004077</td>\n",
       "      <td>113.64</td>\n",
       "      <td>113.7050</td>\n",
       "      <td>113.51</td>\n",
       "      <td>113.51</td>\n",
       "      <td>2493664</td>\n",
       "      <td>9765</td>\n",
       "      <td>113.575284</td>\n",
       "      <td>-0.002724</td>\n",
       "    </tr>\n",
       "  </tbody>\n",
       "</table>\n",
       "</div>"
      ],
      "text/plain": [
       "                              SPY                                      \\\n",
       "                             open     high     low   close     volume   \n",
       "timestamp                                                               \n",
       "2019-10-01 04:00:00+00:00  297.74  298.455  293.00  293.32   90160482   \n",
       "2019-10-02 04:00:00+00:00  291.48  291.510  286.64  288.16  125924074   \n",
       "2019-10-03 04:00:00+00:00  287.81  290.450  284.82  290.45   85906608   \n",
       "2019-10-04 04:00:00+00:00  291.14  294.630  290.82  294.30   66877330   \n",
       "2019-10-07 04:00:00+00:00  293.47  295.260  292.77  293.10   61657344   \n",
       "\n",
       "                                                                   AGG  \\\n",
       "                          trade_count        vwap daily_return    open   \n",
       "timestamp                                                                \n",
       "2019-10-01 04:00:00+00:00      422407  294.867498          NaN  112.71   \n",
       "2019-10-02 04:00:00+00:00      608988  288.821147    -0.017592  113.19   \n",
       "2019-10-03 04:00:00+00:00      517842  288.281946     0.007947  113.34   \n",
       "2019-10-04 04:00:00+00:00      305209  292.978205     0.013255  113.68   \n",
       "2019-10-07 04:00:00+00:00      314251  293.863605    -0.004077  113.64   \n",
       "\n",
       "                                                                          \\\n",
       "                               high     low   close   volume trade_count   \n",
       "timestamp                                                                  \n",
       "2019-10-01 04:00:00+00:00  113.2500  112.63  113.12  5982470       30567   \n",
       "2019-10-02 04:00:00+00:00  113.3075  113.09  113.20  9571687       23424   \n",
       "2019-10-03 04:00:00+00:00  113.7400  113.32  113.64  5144049       18028   \n",
       "2019-10-04 04:00:00+00:00  113.8255  113.63  113.82  3331180       14511   \n",
       "2019-10-07 04:00:00+00:00  113.7050  113.51  113.51  2493664        9765   \n",
       "\n",
       "                                                    \n",
       "                                 vwap daily_return  \n",
       "timestamp                                           \n",
       "2019-10-01 04:00:00+00:00  113.081002          NaN  \n",
       "2019-10-02 04:00:00+00:00  113.229809     0.000707  \n",
       "2019-10-03 04:00:00+00:00  113.589201     0.003887  \n",
       "2019-10-04 04:00:00+00:00  113.742441     0.001584  \n",
       "2019-10-07 04:00:00+00:00  113.575284    -0.002724  "
      ]
     },
     "execution_count": 44,
     "metadata": {},
     "output_type": "execute_result"
    }
   ],
   "source": [
    "# Configure a Monte Carlo simulation to forecast 10 years cumulative returns\n",
    "# The weights should be split 20% to AGG and 80% to SPY.\n",
    "# Run 500 samples.\n",
    "# YOUR CODE HERE\n",
    "MC_10year= MCSimulation(\n",
    "    portfolio_data=prices_df,\n",
    "    weights=[.80,.20],\n",
    "    num_simulation=500,\n",
    "    num_trading_days=(252*10)\n",
    ")\n",
    "\n",
    "# Review the simulation input data\n",
    "# YOUR CODE HERE\n",
    "MC_10year.portfolio_data.head()"
   ]
  },
  {
   "cell_type": "code",
   "execution_count": 46,
   "metadata": {},
   "outputs": [
    {
     "name": "stdout",
     "output_type": "stream",
     "text": [
      "Running Monte Carlo simulation number 0.\n",
      "Running Monte Carlo simulation number 10.\n",
      "Running Monte Carlo simulation number 20.\n",
      "Running Monte Carlo simulation number 30.\n",
      "Running Monte Carlo simulation number 40.\n",
      "Running Monte Carlo simulation number 50.\n",
      "Running Monte Carlo simulation number 60.\n",
      "Running Monte Carlo simulation number 70.\n",
      "Running Monte Carlo simulation number 80.\n",
      "Running Monte Carlo simulation number 90.\n",
      "Running Monte Carlo simulation number 100.\n"
     ]
    },
    {
     "name": "stderr",
     "output_type": "stream",
     "text": [
      "C:\\Users\\card_\\OneDrive\\Desktop\\Fintech Bootcamp\\challenges\\Financial-Planner\\Code\\MCForecastTools.py:117: PerformanceWarning: DataFrame is highly fragmented.  This is usually the result of calling `frame.insert` many times, which has poor performance.  Consider joining all columns at once using pd.concat(axis=1) instead.  To get a de-fragmented frame, use `newframe = frame.copy()`\n",
      "  portfolio_cumulative_returns[n] = (1 + sim_df.fillna(0)).cumprod()\n"
     ]
    },
    {
     "name": "stdout",
     "output_type": "stream",
     "text": [
      "Running Monte Carlo simulation number 110.\n",
      "Running Monte Carlo simulation number 120.\n",
      "Running Monte Carlo simulation number 130.\n",
      "Running Monte Carlo simulation number 140.\n",
      "Running Monte Carlo simulation number 150.\n",
      "Running Monte Carlo simulation number 160.\n",
      "Running Monte Carlo simulation number 170.\n",
      "Running Monte Carlo simulation number 180.\n",
      "Running Monte Carlo simulation number 190.\n",
      "Running Monte Carlo simulation number 200.\n",
      "Running Monte Carlo simulation number 210.\n",
      "Running Monte Carlo simulation number 220.\n",
      "Running Monte Carlo simulation number 230.\n",
      "Running Monte Carlo simulation number 240.\n",
      "Running Monte Carlo simulation number 250.\n",
      "Running Monte Carlo simulation number 260.\n",
      "Running Monte Carlo simulation number 270.\n",
      "Running Monte Carlo simulation number 280.\n",
      "Running Monte Carlo simulation number 290.\n",
      "Running Monte Carlo simulation number 300.\n",
      "Running Monte Carlo simulation number 310.\n",
      "Running Monte Carlo simulation number 320.\n",
      "Running Monte Carlo simulation number 330.\n",
      "Running Monte Carlo simulation number 340.\n",
      "Running Monte Carlo simulation number 350.\n",
      "Running Monte Carlo simulation number 360.\n",
      "Running Monte Carlo simulation number 370.\n",
      "Running Monte Carlo simulation number 380.\n",
      "Running Monte Carlo simulation number 390.\n",
      "Running Monte Carlo simulation number 400.\n",
      "Running Monte Carlo simulation number 410.\n",
      "Running Monte Carlo simulation number 420.\n",
      "Running Monte Carlo simulation number 430.\n",
      "Running Monte Carlo simulation number 440.\n",
      "Running Monte Carlo simulation number 450.\n",
      "Running Monte Carlo simulation number 460.\n",
      "Running Monte Carlo simulation number 470.\n",
      "Running Monte Carlo simulation number 480.\n",
      "Running Monte Carlo simulation number 490.\n"
     ]
    },
    {
     "data": {
      "text/html": [
       "<div>\n",
       "<style scoped>\n",
       "    .dataframe tbody tr th:only-of-type {\n",
       "        vertical-align: middle;\n",
       "    }\n",
       "\n",
       "    .dataframe tbody tr th {\n",
       "        vertical-align: top;\n",
       "    }\n",
       "\n",
       "    .dataframe thead th {\n",
       "        text-align: right;\n",
       "    }\n",
       "</style>\n",
       "<table border=\"1\" class=\"dataframe\">\n",
       "  <thead>\n",
       "    <tr style=\"text-align: right;\">\n",
       "      <th></th>\n",
       "      <th>0</th>\n",
       "      <th>1</th>\n",
       "      <th>2</th>\n",
       "      <th>3</th>\n",
       "      <th>4</th>\n",
       "      <th>5</th>\n",
       "      <th>6</th>\n",
       "      <th>7</th>\n",
       "      <th>8</th>\n",
       "      <th>9</th>\n",
       "      <th>...</th>\n",
       "      <th>490</th>\n",
       "      <th>491</th>\n",
       "      <th>492</th>\n",
       "      <th>493</th>\n",
       "      <th>494</th>\n",
       "      <th>495</th>\n",
       "      <th>496</th>\n",
       "      <th>497</th>\n",
       "      <th>498</th>\n",
       "      <th>499</th>\n",
       "    </tr>\n",
       "  </thead>\n",
       "  <tbody>\n",
       "    <tr>\n",
       "      <th>0</th>\n",
       "      <td>1.000000</td>\n",
       "      <td>1.000000</td>\n",
       "      <td>1.000000</td>\n",
       "      <td>1.000000</td>\n",
       "      <td>1.000000</td>\n",
       "      <td>1.000000</td>\n",
       "      <td>1.000000</td>\n",
       "      <td>1.000000</td>\n",
       "      <td>1.000000</td>\n",
       "      <td>1.000000</td>\n",
       "      <td>...</td>\n",
       "      <td>1.000000</td>\n",
       "      <td>1.000000</td>\n",
       "      <td>1.000000</td>\n",
       "      <td>1.000000</td>\n",
       "      <td>1.000000</td>\n",
       "      <td>1.000000</td>\n",
       "      <td>1.000000</td>\n",
       "      <td>1.000000</td>\n",
       "      <td>1.000000</td>\n",
       "      <td>1.000000</td>\n",
       "    </tr>\n",
       "    <tr>\n",
       "      <th>1</th>\n",
       "      <td>0.993616</td>\n",
       "      <td>0.997824</td>\n",
       "      <td>1.006006</td>\n",
       "      <td>0.977504</td>\n",
       "      <td>0.994184</td>\n",
       "      <td>0.996116</td>\n",
       "      <td>1.006316</td>\n",
       "      <td>1.013982</td>\n",
       "      <td>1.009484</td>\n",
       "      <td>0.996353</td>\n",
       "      <td>...</td>\n",
       "      <td>0.997595</td>\n",
       "      <td>1.009651</td>\n",
       "      <td>0.974101</td>\n",
       "      <td>0.997829</td>\n",
       "      <td>1.004498</td>\n",
       "      <td>1.007016</td>\n",
       "      <td>0.979012</td>\n",
       "      <td>0.997228</td>\n",
       "      <td>0.997521</td>\n",
       "      <td>1.032403</td>\n",
       "    </tr>\n",
       "    <tr>\n",
       "      <th>2</th>\n",
       "      <td>0.982560</td>\n",
       "      <td>1.016843</td>\n",
       "      <td>1.006140</td>\n",
       "      <td>0.980712</td>\n",
       "      <td>0.980704</td>\n",
       "      <td>1.002273</td>\n",
       "      <td>0.992801</td>\n",
       "      <td>1.014025</td>\n",
       "      <td>0.980433</td>\n",
       "      <td>0.991612</td>\n",
       "      <td>...</td>\n",
       "      <td>1.006326</td>\n",
       "      <td>1.032966</td>\n",
       "      <td>0.977700</td>\n",
       "      <td>1.011222</td>\n",
       "      <td>1.031984</td>\n",
       "      <td>0.998434</td>\n",
       "      <td>0.980122</td>\n",
       "      <td>1.008683</td>\n",
       "      <td>1.000820</td>\n",
       "      <td>1.049923</td>\n",
       "    </tr>\n",
       "    <tr>\n",
       "      <th>3</th>\n",
       "      <td>0.968067</td>\n",
       "      <td>0.997841</td>\n",
       "      <td>1.011217</td>\n",
       "      <td>0.996238</td>\n",
       "      <td>0.971390</td>\n",
       "      <td>0.997360</td>\n",
       "      <td>0.983063</td>\n",
       "      <td>0.990762</td>\n",
       "      <td>0.979140</td>\n",
       "      <td>0.965930</td>\n",
       "      <td>...</td>\n",
       "      <td>0.984434</td>\n",
       "      <td>1.023179</td>\n",
       "      <td>0.979481</td>\n",
       "      <td>1.003293</td>\n",
       "      <td>1.025942</td>\n",
       "      <td>1.010124</td>\n",
       "      <td>0.987287</td>\n",
       "      <td>0.995864</td>\n",
       "      <td>1.004183</td>\n",
       "      <td>1.042329</td>\n",
       "    </tr>\n",
       "    <tr>\n",
       "      <th>4</th>\n",
       "      <td>0.957702</td>\n",
       "      <td>0.989163</td>\n",
       "      <td>1.002825</td>\n",
       "      <td>1.003173</td>\n",
       "      <td>0.977740</td>\n",
       "      <td>0.977659</td>\n",
       "      <td>0.984343</td>\n",
       "      <td>0.987510</td>\n",
       "      <td>0.980054</td>\n",
       "      <td>0.960377</td>\n",
       "      <td>...</td>\n",
       "      <td>0.997719</td>\n",
       "      <td>1.010529</td>\n",
       "      <td>0.996006</td>\n",
       "      <td>1.000262</td>\n",
       "      <td>1.036516</td>\n",
       "      <td>1.009773</td>\n",
       "      <td>0.989478</td>\n",
       "      <td>1.018570</td>\n",
       "      <td>1.006531</td>\n",
       "      <td>1.025018</td>\n",
       "    </tr>\n",
       "    <tr>\n",
       "      <th>...</th>\n",
       "      <td>...</td>\n",
       "      <td>...</td>\n",
       "      <td>...</td>\n",
       "      <td>...</td>\n",
       "      <td>...</td>\n",
       "      <td>...</td>\n",
       "      <td>...</td>\n",
       "      <td>...</td>\n",
       "      <td>...</td>\n",
       "      <td>...</td>\n",
       "      <td>...</td>\n",
       "      <td>...</td>\n",
       "      <td>...</td>\n",
       "      <td>...</td>\n",
       "      <td>...</td>\n",
       "      <td>...</td>\n",
       "      <td>...</td>\n",
       "      <td>...</td>\n",
       "      <td>...</td>\n",
       "      <td>...</td>\n",
       "      <td>...</td>\n",
       "    </tr>\n",
       "    <tr>\n",
       "      <th>2516</th>\n",
       "      <td>1.032308</td>\n",
       "      <td>0.681257</td>\n",
       "      <td>1.312419</td>\n",
       "      <td>4.045606</td>\n",
       "      <td>3.901868</td>\n",
       "      <td>1.391064</td>\n",
       "      <td>5.772900</td>\n",
       "      <td>2.376956</td>\n",
       "      <td>1.329015</td>\n",
       "      <td>1.141586</td>\n",
       "      <td>...</td>\n",
       "      <td>1.714396</td>\n",
       "      <td>2.095378</td>\n",
       "      <td>2.630620</td>\n",
       "      <td>1.453262</td>\n",
       "      <td>0.888640</td>\n",
       "      <td>1.575657</td>\n",
       "      <td>2.103193</td>\n",
       "      <td>2.149202</td>\n",
       "      <td>2.613408</td>\n",
       "      <td>3.508580</td>\n",
       "    </tr>\n",
       "    <tr>\n",
       "      <th>2517</th>\n",
       "      <td>1.037894</td>\n",
       "      <td>0.679225</td>\n",
       "      <td>1.314330</td>\n",
       "      <td>3.925033</td>\n",
       "      <td>3.915838</td>\n",
       "      <td>1.373286</td>\n",
       "      <td>5.729137</td>\n",
       "      <td>2.377532</td>\n",
       "      <td>1.344517</td>\n",
       "      <td>1.129641</td>\n",
       "      <td>...</td>\n",
       "      <td>1.715268</td>\n",
       "      <td>2.066048</td>\n",
       "      <td>2.610913</td>\n",
       "      <td>1.480226</td>\n",
       "      <td>0.885241</td>\n",
       "      <td>1.570064</td>\n",
       "      <td>2.112037</td>\n",
       "      <td>2.120421</td>\n",
       "      <td>2.653706</td>\n",
       "      <td>3.493589</td>\n",
       "    </tr>\n",
       "    <tr>\n",
       "      <th>2518</th>\n",
       "      <td>1.057233</td>\n",
       "      <td>0.683166</td>\n",
       "      <td>1.315787</td>\n",
       "      <td>3.917292</td>\n",
       "      <td>3.934502</td>\n",
       "      <td>1.358922</td>\n",
       "      <td>5.875399</td>\n",
       "      <td>2.412739</td>\n",
       "      <td>1.327701</td>\n",
       "      <td>1.146632</td>\n",
       "      <td>...</td>\n",
       "      <td>1.710162</td>\n",
       "      <td>2.034747</td>\n",
       "      <td>2.562888</td>\n",
       "      <td>1.472516</td>\n",
       "      <td>0.895706</td>\n",
       "      <td>1.565840</td>\n",
       "      <td>2.118094</td>\n",
       "      <td>2.078877</td>\n",
       "      <td>2.655124</td>\n",
       "      <td>3.476946</td>\n",
       "    </tr>\n",
       "    <tr>\n",
       "      <th>2519</th>\n",
       "      <td>1.045424</td>\n",
       "      <td>0.683770</td>\n",
       "      <td>1.295447</td>\n",
       "      <td>3.943836</td>\n",
       "      <td>3.963917</td>\n",
       "      <td>1.342124</td>\n",
       "      <td>5.814992</td>\n",
       "      <td>2.419184</td>\n",
       "      <td>1.352914</td>\n",
       "      <td>1.138448</td>\n",
       "      <td>...</td>\n",
       "      <td>1.724018</td>\n",
       "      <td>2.030020</td>\n",
       "      <td>2.578912</td>\n",
       "      <td>1.487135</td>\n",
       "      <td>0.904923</td>\n",
       "      <td>1.557789</td>\n",
       "      <td>2.141365</td>\n",
       "      <td>2.058079</td>\n",
       "      <td>2.656542</td>\n",
       "      <td>3.456442</td>\n",
       "    </tr>\n",
       "    <tr>\n",
       "      <th>2520</th>\n",
       "      <td>1.033658</td>\n",
       "      <td>0.676012</td>\n",
       "      <td>1.305091</td>\n",
       "      <td>3.916384</td>\n",
       "      <td>4.009478</td>\n",
       "      <td>1.339657</td>\n",
       "      <td>5.792777</td>\n",
       "      <td>2.408824</td>\n",
       "      <td>1.338517</td>\n",
       "      <td>1.130854</td>\n",
       "      <td>...</td>\n",
       "      <td>1.739237</td>\n",
       "      <td>2.018402</td>\n",
       "      <td>2.583044</td>\n",
       "      <td>1.490589</td>\n",
       "      <td>0.912600</td>\n",
       "      <td>1.561710</td>\n",
       "      <td>2.127197</td>\n",
       "      <td>2.032851</td>\n",
       "      <td>2.679863</td>\n",
       "      <td>3.436277</td>\n",
       "    </tr>\n",
       "  </tbody>\n",
       "</table>\n",
       "<p>2521 rows × 500 columns</p>\n",
       "</div>"
      ],
      "text/plain": [
       "           0         1         2         3         4         5         6    \\\n",
       "0     1.000000  1.000000  1.000000  1.000000  1.000000  1.000000  1.000000   \n",
       "1     0.993616  0.997824  1.006006  0.977504  0.994184  0.996116  1.006316   \n",
       "2     0.982560  1.016843  1.006140  0.980712  0.980704  1.002273  0.992801   \n",
       "3     0.968067  0.997841  1.011217  0.996238  0.971390  0.997360  0.983063   \n",
       "4     0.957702  0.989163  1.002825  1.003173  0.977740  0.977659  0.984343   \n",
       "...        ...       ...       ...       ...       ...       ...       ...   \n",
       "2516  1.032308  0.681257  1.312419  4.045606  3.901868  1.391064  5.772900   \n",
       "2517  1.037894  0.679225  1.314330  3.925033  3.915838  1.373286  5.729137   \n",
       "2518  1.057233  0.683166  1.315787  3.917292  3.934502  1.358922  5.875399   \n",
       "2519  1.045424  0.683770  1.295447  3.943836  3.963917  1.342124  5.814992   \n",
       "2520  1.033658  0.676012  1.305091  3.916384  4.009478  1.339657  5.792777   \n",
       "\n",
       "           7         8         9    ...       490       491       492  \\\n",
       "0     1.000000  1.000000  1.000000  ...  1.000000  1.000000  1.000000   \n",
       "1     1.013982  1.009484  0.996353  ...  0.997595  1.009651  0.974101   \n",
       "2     1.014025  0.980433  0.991612  ...  1.006326  1.032966  0.977700   \n",
       "3     0.990762  0.979140  0.965930  ...  0.984434  1.023179  0.979481   \n",
       "4     0.987510  0.980054  0.960377  ...  0.997719  1.010529  0.996006   \n",
       "...        ...       ...       ...  ...       ...       ...       ...   \n",
       "2516  2.376956  1.329015  1.141586  ...  1.714396  2.095378  2.630620   \n",
       "2517  2.377532  1.344517  1.129641  ...  1.715268  2.066048  2.610913   \n",
       "2518  2.412739  1.327701  1.146632  ...  1.710162  2.034747  2.562888   \n",
       "2519  2.419184  1.352914  1.138448  ...  1.724018  2.030020  2.578912   \n",
       "2520  2.408824  1.338517  1.130854  ...  1.739237  2.018402  2.583044   \n",
       "\n",
       "           493       494       495       496       497       498       499  \n",
       "0     1.000000  1.000000  1.000000  1.000000  1.000000  1.000000  1.000000  \n",
       "1     0.997829  1.004498  1.007016  0.979012  0.997228  0.997521  1.032403  \n",
       "2     1.011222  1.031984  0.998434  0.980122  1.008683  1.000820  1.049923  \n",
       "3     1.003293  1.025942  1.010124  0.987287  0.995864  1.004183  1.042329  \n",
       "4     1.000262  1.036516  1.009773  0.989478  1.018570  1.006531  1.025018  \n",
       "...        ...       ...       ...       ...       ...       ...       ...  \n",
       "2516  1.453262  0.888640  1.575657  2.103193  2.149202  2.613408  3.508580  \n",
       "2517  1.480226  0.885241  1.570064  2.112037  2.120421  2.653706  3.493589  \n",
       "2518  1.472516  0.895706  1.565840  2.118094  2.078877  2.655124  3.476946  \n",
       "2519  1.487135  0.904923  1.557789  2.141365  2.058079  2.656542  3.456442  \n",
       "2520  1.490589  0.912600  1.561710  2.127197  2.032851  2.679863  3.436277  \n",
       "\n",
       "[2521 rows x 500 columns]"
      ]
     },
     "execution_count": 46,
     "metadata": {},
     "output_type": "execute_result"
    }
   ],
   "source": [
    "# Run the Monte Carlo simulation to forecast 10 years cumulative returns\n",
    "# YOUR CODE HERE\n",
    "MC_10year.calc_cumulative_return()"
   ]
  },
  {
   "cell_type": "code",
   "execution_count": 49,
   "metadata": {},
   "outputs": [
    {
     "data": {
      "text/plain": [
       "<AxesSubplot:title={'center':'500 Simulations of Cumulative Portfolio Return Trajectories Over the Next 2520 Trading Days.'}>"
      ]
     },
     "execution_count": 49,
     "metadata": {},
     "output_type": "execute_result"
    },
    {
     "data": {
      "image/png": "[encoded data removed]",
      "text/plain": [
       "<Figure size 432x288 with 1 Axes>"
      ]
     },
     "metadata": {
      "needs_background": "light"
     },
     "output_type": "display_data"
    }
   ],
   "source": [
    "# Visualize the 10-year Monte Carlo simulation by creating an\n",
    "# overlay line plot\n",
    "# YOUR CODE HERE\n",
    "plot_MC_10year= MC_10year.plot_simulation()\n",
    "plot_MC_10year"
   ]
  },
  {
   "cell_type": "code",
   "execution_count": 50,
   "metadata": {},
   "outputs": [
    {
     "data": {
      "text/plain": [
       "<AxesSubplot:title={'center':'Distribution of Final Cumuluative Returns Across All 500 Simulations'}, ylabel='Frequency'>"
      ]
     },
     "execution_count": 50,
     "metadata": {},
     "output_type": "execute_result"
    },
    {
     "data": {
      "image/png": "[encoded data removed]",
      "text/plain": [
       "<Figure size 432x288 with 1 Axes>"
      ]
     },
     "metadata": {
      "needs_background": "light"
     },
     "output_type": "display_data"
    }
   ],
   "source": [
    "# Visualize the probability distribution of the 10-year Monte Carlo simulation \n",
    "# by plotting a histogram\n",
    "# YOUR CODE HERE\n",
    "plot_MC_10year_dist= MC_10year.plot_distribution()\n",
    "plot_MC_10year_dist"
   ]
  },
  {
   "cell_type": "code",
   "execution_count": 51,
   "metadata": {},
   "outputs": [
    {
     "data": {
      "text/plain": [
       "count           500.000000\n",
       "mean              2.182938\n",
       "std               1.369785\n",
       "min               0.265749\n",
       "25%               1.264082\n",
       "50%               1.779429\n",
       "75%               2.823041\n",
       "max               9.677993\n",
       "95% CI Lower      0.610534\n",
       "95% CI Upper      5.793154\n",
       "Name: 2520, dtype: float64"
      ]
     },
     "execution_count": 51,
     "metadata": {},
     "output_type": "execute_result"
    }
   ],
   "source": [
    "# Generate summary statistics from the 10-year Monte Carlo simulation results\n",
    "# Save the results as a variable\n",
    "# YOUR CODE HERE\n",
    "MC_10year_summary= MC_10year.summarize_cumulative_return()\n",
    "\n",
    "# Review the 10-year Monte Carlo summary statistics\n",
    "# YOUR CODE HERE\n",
    "MC_10year_summary"
   ]
  },
  {
   "cell_type": "markdown",
   "metadata": {},
   "source": [
    "### Answer the following questions:"
   ]
  },
  {
   "cell_type": "markdown",
   "metadata": {},
   "source": [
    "#### Question: Using the current value of only the stock and bond portion of the member's portfolio and the summary statistics that you generated from the new Monte Carlo simulation, what are the lower and upper bounds for the expected value of the portfolio (with the new weights) with a 95% confidence interval?"
   ]
  },
  {
   "cell_type": "code",
   "execution_count": 52,
   "metadata": {},
   "outputs": [
    {
     "name": "stdout",
     "output_type": "stream",
     "text": [
      "The value of the Stock portion of the portfolio is $42,792.20, the value of the Bond portion of the portfolio is $19,044.00, the total value of the stock/bond portfolio is $61,836.20.\n"
     ]
    }
   ],
   "source": [
    "# Print the current balance of the stock and bond portion of the members portfolio\n",
    "# YOUR CODE HERE\n",
    "print(f'The value of the Stock portion of the portfolio is ${spy_value:,.2f}, the value of the Bond portion of the portfolio is ${agg_value:,.2f}, the total value of the stock/bond portfolio is ${total_stocks_bonds:,.2f}.')"
   ]
  },
  {
   "cell_type": "code",
   "execution_count": 53,
   "metadata": {},
   "outputs": [
    {
     "name": "stdout",
     "output_type": "stream",
     "text": [
      "There is a 95% chance that in the next 10 years the current investment will be in a range of $37,753.11 and $358,226.65.\n",
      "There is a good chance that in the next 10 years the current investment will land in a range around $134,984.59.\n"
     ]
    }
   ],
   "source": [
    "# Use the lower and upper `95%` confidence intervals to calculate the range of the possible outcomes for the current stock/bond portfolio\n",
    "ci_lower_ten_cumulative_return = MC_10year_summary[8] * total_stocks_bonds\n",
    "ci_upper_ten_cumulative_return = MC_10year_summary[9]*total_stocks_bonds\n",
    "mean_10yearsim= MC_10year_summary[1] *total_stocks_bonds\n",
    "\n",
    "# Print the result of your calculations\n",
    "# YOUR CODE HERE - Print result for the upper and lower ranges, as well as the mean range.\n",
    "print(f'There is a 95% chance that in the next 10 years the current investment will be in a range of ${ci_lower_ten_cumulative_return:,.2f} and ${ci_upper_ten_cumulative_return:,.2f}.')\n",
    "print(f'There is a good chance that in the next 10 years the current investment will land in a range around ${mean_10yearsim:,.2f}.')"
   ]
  },
  {
   "cell_type": "markdown",
   "metadata": {},
   "source": [
    "#### Question: Will weighting the portfolio more heavily to stocks allow the credit union members to retire after only 10 years?"
   ]
  },
  {
   "cell_type": "raw",
   "metadata": {},
   "source": [
    "**Answer** # YOUR ANSWER HERE\n",
    "There is a good chance with a mean of 2.18 that members will be able to significantly increase their portfolio worth over the 10 years with a more heavily stock weighted portfolio. Whether that amount is enough for retirement, will depend on what economy we are living in 10 years later and where. I would say it is most likely not enough to retire, but would be enough to start stacking faster for the next 10-20  years so that they hopefully can retire later down the road. "
   ]
  },
  {
   "cell_type": "code",
   "execution_count": null,
   "metadata": {},
   "outputs": [],
   "source": []
  }
 ],
 "metadata": {
  "kernelspec": {
   "display_name": "Python 3 (ipykernel)",
   "language": "python",
   "name": "python3"
  },
  "language_info": {
   "codemirror_mode": {
    "name": "ipython",
    "version": 3
   },
   "file_extension": ".py",
   "mimetype": "text/x-python",
   "name": "python",
   "nbconvert_exporter": "python",
   "pygments_lexer": "ipython3",
   "version": "3.7.13"
  }
 },
 "nbformat": 4,
 "nbformat_minor": 4
}
