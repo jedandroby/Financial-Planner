{
 "cells": [
  {
   "cell_type": "markdown",
   "metadata": {},
   "source": [
    "# Financial Planning with APIs and Simulations\n",
    "\n",
    "In this Challenge, you’ll create two financial analysis tools by using a single Jupyter notebook:\n",
    "\n",
    "Part 1: A financial planner for emergencies. The members will be able to use this tool to visualize their current savings. The members can then determine if they have enough reserves for an emergency fund.\n",
    "\n",
    "Part 2: A financial planner for retirement. This tool will forecast the performance of their retirement portfolio in 30 years. To do this, the tool will make an Alpaca API call via the Alpaca SDK to get historical price data for use in Monte Carlo simulations.\n",
    "\n",
    "You’ll use the information from the Monte Carlo simulation to answer questions about the portfolio in your Jupyter notebook.\n",
    "\n"
   ]
  },
  {
   "cell_type": "code",
   "execution_count": 1,
   "metadata": {},
   "outputs": [],
   "source": [
    "# Import the required libraries and dependencies\n",
    "import os\n",
    "import requests\n",
    "import json\n",
    "import pandas as pd\n",
    "from dotenv import load_dotenv\n",
    "import alpaca_trade_api as tradeapi\n",
    "from MCForecastTools import MCSimulation\n",
    "\n",
    "%matplotlib inline"
   ]
  },
  {
   "cell_type": "code",
   "execution_count": 2,
   "metadata": {},
   "outputs": [
    {
     "data": {
      "text/plain": [
       "False"
      ]
     },
     "execution_count": 2,
     "metadata": {},
     "output_type": "execute_result"
    }
   ],
   "source": [
    "# Load the environment variables from the .env file\n",
    "#by calling the load_dotenv function\n",
    "load_dotenv()"
   ]
  },
  {
   "cell_type": "code",
   "execution_count": 3,
   "metadata": {},
   "outputs": [
    {
     "data": {
      "text/plain": [
       "str"
      ]
     },
     "metadata": {},
     "output_type": "display_data"
    },
    {
     "data": {
      "text/plain": [
       "str"
      ]
     },
     "metadata": {},
     "output_type": "display_data"
    }
   ],
   "source": [
    "# import alpaca api keys from system variables. \n",
    "alpaca_public = os.getenv('alpaca_public')\n",
    "alpaca_secret=os.getenv('alpaca_secret')\n",
    "display(type(alpaca_public))\n",
    "display(type(alpaca_secret))"
   ]
  },
  {
   "cell_type": "markdown",
   "metadata": {},
   "source": [
    "## Part 1: Create a Financial Planner for Emergencies"
   ]
  },
  {
   "cell_type": "markdown",
   "metadata": {},
   "source": [
    "### Evaluate the Cryptocurrency Wallet by Using the Requests Library\n",
    "\n",
    "In this section, you’ll determine the current value of a member’s cryptocurrency wallet. You’ll collect the current prices for the Bitcoin and Ethereum cryptocurrencies by using the Python Requests library. For the prototype, you’ll assume that the member holds the 1.2 Bitcoins (BTC) and 5.3 Ethereum coins (ETH). To do all this, complete the following steps:\n",
    "\n",
    "1. Create a variable named `monthly_income`, and set its value to `12000`.\n",
    "\n",
    "2. Use the Requests library to get the current price (in US dollars) of Bitcoin (BTC) and Ethereum (ETH) by using the API endpoints that the starter code supplies.\n",
    "\n",
    "3. Navigate the JSON response object to access the current price of each coin, and store each in a variable.\n",
    "\n",
    "    > **Hint** Note the specific identifier for each cryptocurrency in the API JSON response. The Bitcoin identifier is `1`, and the Ethereum identifier is `1027`.\n",
    "\n",
    "4. Calculate the value, in US dollars, of the current amount of each cryptocurrency and of the entire cryptocurrency wallet.\n",
    "\n"
   ]
  },
  {
   "cell_type": "code",
   "execution_count": 4,
   "metadata": {},
   "outputs": [],
   "source": [
    "# The current number of coins for each cryptocurrency asset held in the portfolio.\n",
    "btc_coins = 1.2\n",
    "eth_coins = 5.3"
   ]
  },
  {
   "cell_type": "markdown",
   "metadata": {},
   "source": [
    "#### Step 1: Create a variable named `monthly_income`, and set its value to `12000`."
   ]
  },
  {
   "cell_type": "code",
   "execution_count": 5,
   "metadata": {},
   "outputs": [],
   "source": [
    "# The monthly amount for the member's household income\n",
    "# YOUR CODE HERE\n",
    "monthly_income=12000"
   ]
  },
  {
   "cell_type": "markdown",
   "metadata": {},
   "source": [
    "#### Review the endpoint URLs for the API calls to Free Crypto API in order to get the current pricing information for both BTC and ETH."
   ]
  },
  {
   "cell_type": "code",
   "execution_count": 6,
   "metadata": {},
   "outputs": [],
   "source": [
    "# The Free Crypto API Call endpoint URLs for the held cryptocurrency assets\n",
    "btc_url = \"https://api.alternative.me/v2/ticker/Bitcoin/?convert=USD\"\n",
    "eth_url = \"https://api.alternative.me/v2/ticker/Ethereum/?convert=USD\""
   ]
  },
  {
   "cell_type": "markdown",
   "metadata": {},
   "source": [
    "#### Step 2. Use the Requests library to get the current price (in US dollars) of Bitcoin (BTC) and Ethereum (ETH) by using the API endpoints that the starter code supplied."
   ]
  },
  {
   "cell_type": "code",
   "execution_count": 7,
   "metadata": {},
   "outputs": [
    {
     "name": "stdout",
     "output_type": "stream",
     "text": [
      "{\n",
      "    \"data\": {\n",
      "        \"1\": {\n",
      "            \"circulating_supply\": 19191193,\n",
      "            \"id\": 1,\n",
      "            \"last_updated\": 1666922359,\n",
      "            \"max_supply\": 21000000,\n",
      "            \"name\": \"Bitcoin\",\n",
      "            \"quotes\": {\n",
      "                \"USD\": {\n",
      "                    \"market_cap\": 388732823715,\n",
      "                    \"percent_change_1h\": -0.002750031125165,\n",
      "                    \"percent_change_24h\": -2.05684007177796,\n",
      "                    \"percent_change_7d\": 6.69936521232144,\n",
      "                    \"percentage_change_1h\": -0.002750031125165,\n",
      "                    \"percentage_change_24h\": -2.05684007177796,\n",
      "                    \"percentage_change_7d\": 6.69936521232144,\n",
      "                    \"price\": 20306.0,\n",
      "                    \"volume_24h\": 42320552003\n",
      "                }\n",
      "            },\n",
      "            \"rank\": 1,\n",
      "            \"symbol\": \"BTC\",\n",
      "            \"total_supply\": 19191193,\n",
      "            \"website_slug\": \"bitcoin\"\n",
      "        }\n",
      "    },\n",
      "    \"metadata\": {\n",
      "        \"error\": null,\n",
      "        \"num_cryptocurrencies\": 3116,\n",
      "        \"timestamp\": 1666922359\n",
      "    }\n",
      "}\n"
     ]
    }
   ],
   "source": [
    "# Using the Python requests library, make an API call to access the current price of BTC\n",
    "btc_response = requests.get(btc_url).json()\n",
    "\n",
    "# Use the json.dumps function to review the response data from the API call\n",
    "# Use the indent and sort_keys parameters to make the response object readable\n",
    "# YOUR CODE HERE\n",
    "print(json.dumps(btc_response, indent=4,sort_keys=True))\n"
   ]
  },
  {
   "cell_type": "code",
   "execution_count": 8,
   "metadata": {},
   "outputs": [
    {
     "name": "stdout",
     "output_type": "stream",
     "text": [
      "{\n",
      "    \"data\": {\n",
      "        \"1027\": {\n",
      "            \"circulating_supply\": 120521705,\n",
      "            \"id\": 1027,\n",
      "            \"last_updated\": 1666922357,\n",
      "            \"max_supply\": 120521705,\n",
      "            \"name\": \"Ethereum\",\n",
      "            \"quotes\": {\n",
      "                \"USD\": {\n",
      "                    \"market_cap\": 183108905415,\n",
      "                    \"percent_change_1h\": 0.259287030133091,\n",
      "                    \"percent_change_24h\": -2.46311562172308,\n",
      "                    \"percent_change_7d\": 18.8038126526013,\n",
      "                    \"percentage_change_1h\": 0.259287030133091,\n",
      "                    \"percentage_change_24h\": -2.46311562172308,\n",
      "                    \"percentage_change_7d\": 18.8038126526013,\n",
      "                    \"price\": 1523.12,\n",
      "                    \"volume_24h\": 17895734699\n",
      "                }\n",
      "            },\n",
      "            \"rank\": 2,\n",
      "            \"symbol\": \"ETH\",\n",
      "            \"total_supply\": 120521705,\n",
      "            \"website_slug\": \"ethereum\"\n",
      "        }\n",
      "    },\n",
      "    \"metadata\": {\n",
      "        \"error\": null,\n",
      "        \"num_cryptocurrencies\": 3116,\n",
      "        \"timestamp\": 1666922357\n",
      "    }\n",
      "}\n"
     ]
    }
   ],
   "source": [
    "# Using the Python requests library, make an API call to access the current price ETH\n",
    "eth_response = requests.get(eth_url).json()\n",
    "\n",
    "# Use the json.dumps function to review the response data from the API call\n",
    "# Use the indent and sort_keys parameters to make the response object readable\n",
    "# YOUR CODE HERE\n",
    "print(json.dumps(eth_response, indent=4, sort_keys=True))"
   ]
  },
  {
   "cell_type": "markdown",
   "metadata": {},
   "source": [
    "#### Step 3: Navigate the JSON response object to access the current price of each coin, and store each in a variable."
   ]
  },
  {
   "cell_type": "code",
   "execution_count": 9,
   "metadata": {},
   "outputs": [
    {
     "name": "stdout",
     "output_type": "stream",
     "text": [
      "The current price of Bitcoin is $20,306.00.\n"
     ]
    }
   ],
   "source": [
    "# Navigate the BTC response object to access the current price of BTC\n",
    "btc_price = btc_response['data']['1']['quotes']['USD']['price']\n",
    "\n",
    "# Print the current price of BTC\n",
    "# YOUR CODE HERE\n",
    "print(f'The current price of Bitcoin is ${btc_price:,.2f}.')"
   ]
  },
  {
   "cell_type": "code",
   "execution_count": 10,
   "metadata": {},
   "outputs": [
    {
     "name": "stdout",
     "output_type": "stream",
     "text": [
      "The current price of Ethereum is $1,523.12.\n"
     ]
    }
   ],
   "source": [
    "# Navigate the BTC response object to access the current price of ETH\n",
    "eth_price = eth_response['data']['1027']['quotes']['USD']['price']\n",
    "\n",
    "# Print the current price of ETH\n",
    "# YOUR CODE HERE\n",
    "print(f'The current price of Ethereum is ${eth_price:,.2f}.')"
   ]
  },
  {
   "cell_type": "markdown",
   "metadata": {},
   "source": [
    "### Step 4: Calculate the value, in US dollars, of the current amount of each cryptocurrency and of the entire cryptocurrency wallet."
   ]
  },
  {
   "cell_type": "code",
   "execution_count": 11,
   "metadata": {},
   "outputs": [
    {
     "name": "stdout",
     "output_type": "stream",
     "text": [
      "The total value of BTC in the wallet is $24,367.20.\n"
     ]
    }
   ],
   "source": [
    "# Compute the current value of the BTC holding \n",
    "btc_value = btc_price * btc_coins\n",
    "\n",
    "# Print current value of your holding in BTC\n",
    "# YOUR CODE HERE\n",
    "print(f'The total value of BTC in the wallet is ${btc_value:,.2f}.')"
   ]
  },
  {
   "cell_type": "code",
   "execution_count": 12,
   "metadata": {},
   "outputs": [
    {
     "name": "stdout",
     "output_type": "stream",
     "text": [
      "The total value of ETH in the wallet is $8,072.54.\n"
     ]
    }
   ],
   "source": [
    "# Compute the current value of the ETH holding \n",
    "eth_value = eth_price * eth_coins\n",
    "\n",
    "# Print current value of your holding in ETH\n",
    "# YOUR CODE HERE\n",
    "print(f'The total value of ETH in the wallet is ${eth_value:,.2f}.')"
   ]
  },
  {
   "cell_type": "code",
   "execution_count": 13,
   "metadata": {},
   "outputs": [
    {
     "name": "stdout",
     "output_type": "stream",
     "text": [
      "The total value of the crypto wallet is $32,439.74.\n"
     ]
    }
   ],
   "source": [
    "# Compute the total value of the cryptocurrency wallet\n",
    "# Add the value of the BTC holding to the value of the ETH holding\n",
    "total_crypto_wallet = eth_value + btc_value\n",
    "\n",
    "# Print current cryptocurrency wallet balance\n",
    "# YOUR CODE HERE\n",
    "print(f'The total value of the crypto wallet is ${total_crypto_wallet:,.2f}.')"
   ]
  },
  {
   "cell_type": "markdown",
   "metadata": {},
   "source": [
    "### Evaluate the Stock and Bond Holdings by Using the Alpaca SDK\n",
    "\n",
    "In this section, you’ll determine the current value of a member’s stock and bond holdings. You’ll make an API call to Alpaca via the Alpaca SDK to get the current closing prices of the SPDR S&P 500 ETF Trust (ticker: SPY) and of the iShares Core US Aggregate Bond ETF (ticker: AGG). For the prototype, assume that the member holds 110 shares of SPY, which represents the stock portion of their portfolio, and 200 shares of AGG, which represents the bond portion. To do all this, complete the following steps:\n",
    "\n",
    "1. In the `Starter_Code` folder, create an environment file (`.env`) to store the values of your Alpaca API key and Alpaca secret key.\n",
    "\n",
    "2. Set the variables for the Alpaca API and secret keys. Using the Alpaca SDK, create the Alpaca `tradeapi.REST` object. In this object, include the parameters for the Alpaca API key, the secret key, and the version number.\n",
    "\n",
    "3. Set the following parameters for the Alpaca API call:\n",
    "\n",
    "    - `tickers`: Use the tickers for the member’s stock and bond holdings.\n",
    "\n",
    "    - `timeframe`: Use a time frame of one day.\n",
    "\n",
    "    - `start_date` and `end_date`: Use the same date for these parameters, and format them with the date of the previous weekday (or `2020-08-07`). This is because you want the one closing price for the most-recent trading day.\n",
    "\n",
    "4. Get the current closing prices for `SPY` and `AGG` by using the Alpaca `get_bars` function. Format the response as a Pandas DataFrame by including the `df` property at the end of the `get_bars` function.\n",
    "\n",
    "5. Navigating the Alpaca response DataFrame, select the `SPY` and `AGG` closing prices, and store them as variables.\n",
    "\n",
    "6. Calculate the value, in US dollars, of the current amount of shares in each of the stock and bond portions of the portfolio, and print the results.\n"
   ]
  },
  {
   "cell_type": "markdown",
   "metadata": {},
   "source": [
    "#### Review the total number of shares held in both (SPY) and (AGG)."
   ]
  },
  {
   "cell_type": "code",
   "execution_count": 14,
   "metadata": {},
   "outputs": [],
   "source": [
    "# Current amount of shares held in both the stock (SPY) and bond (AGG) portion of the portfolio.\n",
    "spy_shares = 110\n",
    "agg_shares = 200\n"
   ]
  },
  {
   "cell_type": "markdown",
   "metadata": {},
   "source": [
    "#### Step 1: In the `Starter_Code` folder, create an environment file (`.env`) to store the values of your Alpaca API key and Alpaca secret key."
   ]
  },
  {
   "cell_type": "markdown",
   "metadata": {},
   "source": [
    "#### Step 2: Set the variables for the Alpaca API and secret keys. Using the Alpaca SDK, create the Alpaca `tradeapi.REST` object. In this object, include the parameters for the Alpaca API key, the secret key, and the version number."
   ]
  },
  {
   "cell_type": "code",
   "execution_count": 15,
   "metadata": {},
   "outputs": [
    {
     "data": {
      "text/plain": [
       "str"
      ]
     },
     "metadata": {},
     "output_type": "display_data"
    },
    {
     "data": {
      "text/plain": [
       "str"
      ]
     },
     "metadata": {},
     "output_type": "display_data"
    }
   ],
   "source": [
    "# Set the variables for the Alpaca API and secret keys\n",
    "# YOUR CODE HERE\n",
    "# YOUR CODE HERE\n",
    "display(type(alpaca_public))\n",
    "display(type(alpaca_secret))\n",
    "# Create the Alpaca tradeapi.REST object\n",
    "# YOUR CODE HERE\n",
    "alpaca= tradeapi.REST(\n",
    "    alpaca_public,\n",
    "    alpaca_secret,\n",
    "    api_version='v2')"
   ]
  },
  {
   "cell_type": "markdown",
   "metadata": {},
   "source": [
    "#### Step 3: Set the following parameters for the Alpaca API call:\n",
    "\n",
    "- `tickers`: Use the tickers for the member’s stock and bond holdings.\n",
    "\n",
    "- `timeframe`: Use a time frame of one day.\n",
    "\n",
    "- `start_date` and `end_date`: Use the same date for these parameters, and format them with the date of the previous weekday (or `2020-08-07`). This is because you want the one closing price for the most-recent trading day.\n"
   ]
  },
  {
   "cell_type": "code",
   "execution_count": 16,
   "metadata": {},
   "outputs": [],
   "source": [
    "# Set the tickers for both the bond and stock portion of the portfolio\n",
    "# YOUR CODE HERE\n",
    "tickers= ['SPY','AGG']\n",
    "# Set timeframe to 1Day\n",
    "# YOUR CODE HERE\n",
    "timeframe='1Day'\n",
    "# Format current date as ISO format\n",
    "# Set both the start and end date at the date of your prior weekday \n",
    "# This will give you the closing price of the previous trading day\n",
    "# Alternatively you can use a start and end date of 2020-08-07\n",
    "# YOUR CODE HERE\n",
    "# YOUR CODE HERE\n",
    "start_date=pd.Timestamp('2022-10-26', tz='America/New_York').isoformat()\n",
    "end_date=pd.Timestamp('2022-10-26', tz='America/New_York').isoformat()\n"
   ]
  },
  {
   "cell_type": "markdown",
   "metadata": {},
   "source": [
    "#### Step 4: Get the current closing prices for `SPY` and `AGG` by using the Alpaca `get_bars` function. Format the response as a Pandas DataFrame by including the `df` property at the end of the `get_bars` function."
   ]
  },
  {
   "cell_type": "code",
   "execution_count": 17,
   "metadata": {},
   "outputs": [
    {
     "data": {
      "text/html": [
       "<div>\n",
       "<style scoped>\n",
       "    .dataframe tbody tr th:only-of-type {\n",
       "        vertical-align: middle;\n",
       "    }\n",
       "\n",
       "    .dataframe tbody tr th {\n",
       "        vertical-align: top;\n",
       "    }\n",
       "\n",
       "    .dataframe thead tr th {\n",
       "        text-align: left;\n",
       "    }\n",
       "\n",
       "    .dataframe thead tr:last-of-type th {\n",
       "        text-align: right;\n",
       "    }\n",
       "</style>\n",
       "<table border=\"1\" class=\"dataframe\">\n",
       "  <thead>\n",
       "    <tr>\n",
       "      <th></th>\n",
       "      <th colspan=\"7\" halign=\"left\">SPY</th>\n",
       "      <th colspan=\"7\" halign=\"left\">AGG</th>\n",
       "    </tr>\n",
       "    <tr>\n",
       "      <th></th>\n",
       "      <th>open</th>\n",
       "      <th>high</th>\n",
       "      <th>low</th>\n",
       "      <th>close</th>\n",
       "      <th>volume</th>\n",
       "      <th>trade_count</th>\n",
       "      <th>vwap</th>\n",
       "      <th>open</th>\n",
       "      <th>high</th>\n",
       "      <th>low</th>\n",
       "      <th>close</th>\n",
       "      <th>volume</th>\n",
       "      <th>trade_count</th>\n",
       "      <th>vwap</th>\n",
       "    </tr>\n",
       "    <tr>\n",
       "      <th>timestamp</th>\n",
       "      <th></th>\n",
       "      <th></th>\n",
       "      <th></th>\n",
       "      <th></th>\n",
       "      <th></th>\n",
       "      <th></th>\n",
       "      <th></th>\n",
       "      <th></th>\n",
       "      <th></th>\n",
       "      <th></th>\n",
       "      <th></th>\n",
       "      <th></th>\n",
       "      <th></th>\n",
       "      <th></th>\n",
       "    </tr>\n",
       "  </thead>\n",
       "  <tbody>\n",
       "    <tr>\n",
       "      <th>2022-10-26 04:00:00+00:00</th>\n",
       "      <td>381.69</td>\n",
       "      <td>387.58</td>\n",
       "      <td>381.35</td>\n",
       "      <td>382.02</td>\n",
       "      <td>103779972</td>\n",
       "      <td>657066</td>\n",
       "      <td>383.877161</td>\n",
       "      <td>94.77</td>\n",
       "      <td>95.17</td>\n",
       "      <td>94.76</td>\n",
       "      <td>94.98</td>\n",
       "      <td>7836932</td>\n",
       "      <td>26772</td>\n",
       "      <td>94.951876</td>\n",
       "    </tr>\n",
       "  </tbody>\n",
       "</table>\n",
       "</div>"
      ],
      "text/plain": [
       "                              SPY                                     \\\n",
       "                             open    high     low   close     volume   \n",
       "timestamp                                                              \n",
       "2022-10-26 04:00:00+00:00  381.69  387.58  381.35  382.02  103779972   \n",
       "\n",
       "                                                     AGG                       \\\n",
       "                          trade_count        vwap   open   high    low  close   \n",
       "timestamp                                                                       \n",
       "2022-10-26 04:00:00+00:00      657066  383.877161  94.77  95.17  94.76  94.98   \n",
       "\n",
       "                                                           \n",
       "                            volume trade_count       vwap  \n",
       "timestamp                                                  \n",
       "2022-10-26 04:00:00+00:00  7836932       26772  94.951876  "
      ]
     },
     "execution_count": 17,
     "metadata": {},
     "output_type": "execute_result"
    }
   ],
   "source": [
    "# Use the Alpaca get_bars function to get current closing prices the portfolio\n",
    "# Be sure to set the `df` property after the function to format the response object as a DataFrame\n",
    "# YOUR CODE HERE\n",
    "alpaca_df= alpaca.get_bars(\n",
    "    tickers,\n",
    "    timeframe,\n",
    "    start=start_date,\n",
    "    end=end_date\n",
    ").df\n",
    "\n",
    "# Reorganize the DataFrame\n",
    "# Separate ticker data\n",
    "# YOUR CODE HERE\n",
    "SPY = alpaca_df[alpaca_df['symbol']=='SPY'].drop('symbol',axis=1)\n",
    "AGG = alpaca_df[alpaca_df['symbol']=='AGG'].drop('symbol',axis=1)\n",
    "\n",
    "# Concatenate the ticker DataFrames\n",
    "# YOUR CODE HERE\n",
    "alpaca_df =pd.concat([SPY,AGG],axis=1,keys=['SPY','AGG'])\n",
    "# Review the first 5 rows of the Alpaca DataFrame\n",
    "# YOUR CODE HERE\n",
    "alpaca_df"
   ]
  },
  {
   "cell_type": "markdown",
   "metadata": {},
   "source": [
    "#### Step 5: Navigating the Alpaca response DataFrame, select the `SPY` and `AGG` closing prices, and store them as variables."
   ]
  },
  {
   "cell_type": "code",
   "execution_count": 18,
   "metadata": {},
   "outputs": [
    {
     "name": "stdout",
     "output_type": "stream",
     "text": [
      "The closing price of AGG on 10-21-22 was $94.98.\n"
     ]
    }
   ],
   "source": [
    "# Access the closing price for AGG from the Alpaca DataFrame\n",
    "# Converting the value to a floating point number\n",
    "agg_close_price = alpaca_df['AGG']['close']\n",
    "agg_close_price = agg_close_price.iloc[0]\n",
    "# Print the AGG closing price\n",
    "# YOUR CODE HERE\n",
    "print(f'The closing price of AGG on 10-21-22 was ${agg_close_price:,.2f}.')\n"
   ]
  },
  {
   "cell_type": "code",
   "execution_count": 19,
   "metadata": {},
   "outputs": [
    {
     "name": "stdout",
     "output_type": "stream",
     "text": [
      "The closing price of SPY on 10-21-22 was $382.02.\n"
     ]
    }
   ],
   "source": [
    "# Access the closing price for SPY from the Alpaca DataFrame\n",
    "# Converting the value to a floating point number\n",
    "spy_close_price = alpaca_df['SPY']['close']\n",
    "spy_close_price = spy_close_price.iloc[0]\n",
    "# Print the SPY closing price\n",
    "# YOUR CODE HERE\n",
    "print(f'The closing price of SPY on 10-21-22 was ${spy_close_price:,.2f}.')"
   ]
  },
  {
   "cell_type": "markdown",
   "metadata": {},
   "source": [
    "#### Step 6: Calculate the value, in US dollars, of the current amount of shares in each of the stock and bond portions of the portfolio, and print the results."
   ]
  },
  {
   "cell_type": "code",
   "execution_count": 20,
   "metadata": {},
   "outputs": [
    {
     "name": "stdout",
     "output_type": "stream",
     "text": [
      "The total value of the AGG bonds is $18,996.00.\n"
     ]
    }
   ],
   "source": [
    "# Calculate the current value of the bond portion of the portfolio\n",
    "agg_value = agg_close_price * agg_shares\n",
    "\n",
    "# Print the current value of the bond portfolio\n",
    "# YOUR CODE HERE\n",
    "print(f'The total value of the AGG bonds is ${agg_value:,.2f}.')"
   ]
  },
  {
   "cell_type": "code",
   "execution_count": 21,
   "metadata": {},
   "outputs": [
    {
     "name": "stdout",
     "output_type": "stream",
     "text": [
      "The total value of the SPY shares is $42,022.20.\n"
     ]
    }
   ],
   "source": [
    "# Calculate the current value of the stock portion of the portfolio\n",
    "spy_value = spy_close_price * spy_shares\n",
    "\n",
    "# Print the current value of the stock portfolio\n",
    "# YOUR CODE HERE\n",
    "print(f'The total value of the SPY shares is ${spy_value:,.2f}.')"
   ]
  },
  {
   "cell_type": "code",
   "execution_count": 22,
   "metadata": {},
   "outputs": [
    {
     "name": "stdout",
     "output_type": "stream",
     "text": [
      "The total value of the stock and bond in the portfolio is $61,018.20.\n"
     ]
    }
   ],
   "source": [
    "# Calculate the total value of the stock and bond portion of the portfolio\n",
    "total_stocks_bonds =spy_value + agg_value\n",
    "\n",
    "# Print the current balance of the stock and bond portion of the portfolio\n",
    "# YOUR CODE HERE\n",
    "print(f'The total value of the stock and bond in the portfolio is ${total_stocks_bonds:,.2f}.')"
   ]
  },
  {
   "cell_type": "code",
   "execution_count": 23,
   "metadata": {},
   "outputs": [
    {
     "name": "stdout",
     "output_type": "stream",
     "text": [
      "The total value of the whole portfolio is $93,457.94.\n"
     ]
    }
   ],
   "source": [
    "# Calculate the total value of the member's entire savings portfolio\n",
    "# Add the value of the cryptocurrency walled to the value of the total stocks and bonds\n",
    "total_portfolio = total_crypto_wallet + total_stocks_bonds\n",
    "\n",
    "# Print current total portfolio balance\n",
    "# YOUR CODE HERE\n",
    "print(f'The total value of the whole portfolio is ${total_portfolio:,.2f}.')"
   ]
  },
  {
   "cell_type": "markdown",
   "metadata": {},
   "source": [
    "### Evaluate the Emergency Fund\n",
    "\n",
    "In this section, you’ll use the valuations for the cryptocurrency wallet and for the stock and bond portions of the portfolio to determine if the credit union member has enough savings to build an emergency fund into their financial plan. To do this, complete the following steps:\n",
    "\n",
    "1. Create a Python list named `savings_data` that has two elements. The first element contains the total value of the cryptocurrency wallet. The second element contains the total value of the stock and bond portions of the portfolio.\n",
    "\n",
    "2. Use the `savings_data` list to create a Pandas DataFrame named `savings_df`, and then display this DataFrame. The function to create the DataFrame should take the following three parameters:\n",
    "\n",
    "    - `savings_data`: Use the list that you just created.\n",
    "\n",
    "    - `columns`: Set this parameter equal to a Python list with a single value called `amount`.\n",
    "\n",
    "    - `index`: Set this parameter equal to a Python list with the values of `crypto` and `stock/bond`.\n",
    "\n",
    "3. Use the `savings_df` DataFrame to plot a pie chart that visualizes the composition of the member’s portfolio. The y-axis of the pie chart uses `amount`. Be sure to add a title.\n",
    "\n",
    "4. Using Python, determine if the current portfolio has enough to create an emergency fund as part of the member’s financial plan. Ideally, an emergency fund should equal to three times the member’s monthly income. To do this, implement the following steps:\n",
    "\n",
    "    1. Create a variable named `emergency_fund_value`, and set it equal to three times the value of the member’s `monthly_income` of $12000. (You set this earlier in Part 1).\n",
    "\n",
    "    2. Create a series of three if statements to determine if the member’s total portfolio is large enough to fund the emergency portfolio:\n",
    "\n",
    "        1. If the total portfolio value is greater than the emergency fund value, display a message congratulating the member for having enough money in this fund.\n",
    "\n",
    "        2. Else if the total portfolio value is equal to the emergency fund value, display a message congratulating the member on reaching this important financial goal.\n",
    "\n",
    "        3. Else the total portfolio is less than the emergency fund value, so display a message showing how many dollars away the member is from reaching the goal. (Subtract the total portfolio value from the emergency fund value.)\n"
   ]
  },
  {
   "cell_type": "markdown",
   "metadata": {},
   "source": [
    "#### Step 1: Create a Python list named `savings_data` that has two elements. The first element contains the total value of the cryptocurrency wallet. The second element contains the total value of the stock and bond portions of the portfolio."
   ]
  },
  {
   "cell_type": "code",
   "execution_count": 24,
   "metadata": {},
   "outputs": [
    {
     "data": {
      "text/plain": [
       "[32439.736, 61018.2]"
      ]
     },
     "execution_count": 24,
     "metadata": {},
     "output_type": "execute_result"
    }
   ],
   "source": [
    "# Consolidate financial assets data into a Python list\n",
    "# YOUR CODE HERE\n",
    "savings_data=[total_crypto_wallet, total_stocks_bonds]\n",
    "# Review the Python list savings_data\n",
    "# YOUR CODE HERE\n",
    "savings_data"
   ]
  },
  {
   "cell_type": "markdown",
   "metadata": {},
   "source": [
    "#### Step 2: Use the `savings_data` list to create a Pandas DataFrame named `savings_df`, and then display this DataFrame. The function to create the DataFrame should take the following three parameters:\n",
    "\n",
    "- `savings_data`: Use the list that you just created.\n",
    "\n",
    "- `columns`: Set this parameter equal to a Python list with a single value called `amount`.\n",
    "\n",
    "- `index`: Set this parameter equal to a Python list with the values of `crypto` and `stock/bond`.\n"
   ]
  },
  {
   "cell_type": "code",
   "execution_count": 25,
   "metadata": {},
   "outputs": [
    {
     "data": {
      "text/html": [
       "<div>\n",
       "<style scoped>\n",
       "    .dataframe tbody tr th:only-of-type {\n",
       "        vertical-align: middle;\n",
       "    }\n",
       "\n",
       "    .dataframe tbody tr th {\n",
       "        vertical-align: top;\n",
       "    }\n",
       "\n",
       "    .dataframe thead th {\n",
       "        text-align: right;\n",
       "    }\n",
       "</style>\n",
       "<table border=\"1\" class=\"dataframe\">\n",
       "  <thead>\n",
       "    <tr style=\"text-align: right;\">\n",
       "      <th></th>\n",
       "      <th>amount</th>\n",
       "    </tr>\n",
       "  </thead>\n",
       "  <tbody>\n",
       "    <tr>\n",
       "      <th>Crypto Wallet</th>\n",
       "      <td>32439.736</td>\n",
       "    </tr>\n",
       "    <tr>\n",
       "      <th>Stocks and Bonds</th>\n",
       "      <td>61018.200</td>\n",
       "    </tr>\n",
       "  </tbody>\n",
       "</table>\n",
       "</div>"
      ],
      "text/plain": [
       "                     amount\n",
       "Crypto Wallet     32439.736\n",
       "Stocks and Bonds  61018.200"
      ]
     },
     "execution_count": 25,
     "metadata": {},
     "output_type": "execute_result"
    }
   ],
   "source": [
    "# Create a Pandas DataFrame called savings_df \n",
    "# YOUR CODE HERE\n",
    "savings_df = pd.DataFrame(savings_data,\n",
    "                          index=['Crypto Wallet','Stocks and Bonds'],\n",
    "                          columns=['amount'])\n",
    "# Display the savings_df DataFramed\n",
    "# YOUR CODE HERE\n",
    "# savings_df=savings_df\n",
    "savings_df\n",
    "\n"
   ]
  },
  {
   "cell_type": "markdown",
   "metadata": {},
   "source": [
    "#### Step 3: Use the `savings_df` DataFrame to plot a pie chart that visualizes the composition of the member’s portfolio. The y-axis of the pie chart uses `amount`. Be sure to add a title."
   ]
  },
  {
   "cell_type": "code",
   "execution_count": 26,
   "metadata": {},
   "outputs": [
    {
     "data": {
      "text/plain": [
       "<AxesSubplot:ylabel='amount'>"
      ]
     },
     "execution_count": 26,
     "metadata": {},
     "output_type": "execute_result"
    },
    {
     "data": {
      "image/png": "[encoded data removed]",
      "text/plain": [
       "<Figure size 432x288 with 1 Axes>"
      ]
     },
     "metadata": {},
     "output_type": "display_data"
    }
   ],
   "source": [
    "# Plot the total value of the member's portfolio (crypto and stock/bond) in a pie chart\n",
    "# YOUR CODE HERE\n",
    "savings_df.plot.pie(y='amount')"
   ]
  },
  {
   "cell_type": "markdown",
   "metadata": {},
   "source": [
    "#### Step 4: Using Python, determine if the current portfolio has enough to create an emergency fund as part of the member’s financial plan. Ideally, an emergency fund should equal to three times the member’s monthly income. To do this, implement the following steps:\n",
    "\n",
    "Step 1. Create a variable named `emergency_fund_value`, and set it equal to three times the value of the member’s `monthly_income` of 12000. (You set this earlier in Part 1).\n",
    "\n",
    "Step 2. Create a series of three if statements to determine if the member’s total portfolio is large enough to fund the emergency portfolio:\n",
    "\n",
    "* If the total portfolio value is greater than the emergency fund value, display a message congratulating the member for having enough money in this fund.\n",
    "\n",
    "* Else if the total portfolio value is equal to the emergency fund value, display a message congratulating the member on reaching this important financial goal.\n",
    "\n",
    "* Else the total portfolio is less than the emergency fund value, so display a message showing how many dollars away the member is from reaching the goal. (Subtract the total portfolio value from the emergency fund value.)\n"
   ]
  },
  {
   "cell_type": "markdown",
   "metadata": {},
   "source": [
    "##### Step 4-1: Create a variable named `emergency_fund_value`, and set it equal to three times the value of the member’s `monthly_income` of 12000. (You set this earlier in Part 1)."
   ]
  },
  {
   "cell_type": "code",
   "execution_count": 27,
   "metadata": {},
   "outputs": [],
   "source": [
    "# Create a variable named emergency_fund_value\n",
    "# YOUR CODE HERE\n",
    "emergency_fund_value = monthly_income*3\n",
    "#created remaining balance variable for next section\n",
    "remaining_balance = total_portfolio-emergency_fund_value"
   ]
  },
  {
   "cell_type": "markdown",
   "metadata": {},
   "source": [
    "##### Step 4-2: Create a series of three if statements to determine if the member’s total portfolio is large enough to fund the emergency portfolio:\n",
    "\n",
    "* If the total portfolio value is greater than the emergency fund value, display a message congratulating the member for having enough money in this fund.\n",
    "\n",
    "* Else if the total portfolio value is equal to the emergency fund value, display a message congratulating the member on reaching this important financial goal.\n",
    "\n",
    "* Else the total portfolio is less than the emergency fund value, so display a message showing how many dollars away the member is from reaching the goal. (Subtract the total portfolio value from the emergency fund value.)"
   ]
  },
  {
   "cell_type": "code",
   "execution_count": 28,
   "metadata": {},
   "outputs": [
    {
     "name": "stdout",
     "output_type": "stream",
     "text": [
      "Congratulations! You have enough funds in your portfolio ($93457.94) to fund an emergency fund.($36000.00)\n"
     ]
    }
   ],
   "source": [
    "# Evaluate the possibility of creating an emergency fund with 3 conditions:\n",
    "# YOUR CODE HERE\n",
    "# YOUR CODE HERE\n",
    "# YOUR CODE HERE\n",
    "if total_portfolio > emergency_fund_value:\n",
    "    print(f'Congratulations! You have enough funds in your portfolio (${total_portfolio:.2f}) to fund an emergency fund.(${emergency_fund_value:.2f})')\n",
    "elif total_portfolio == emergency_fund_value:\n",
    "    print(f'Congratulation! You have exactly enough fund in your portfolio (${total_portfolio:.2f}) to fund an emergency fund.(${emergency_fund_value:.2f})')\n",
    "else:\n",
    "    print(f'Sorry, you do not have enough funds in your portfolio to fund an emgergeny fund, you are missing ${remaining_balance:.2f} come back later!')\n"
   ]
  },
  {
   "cell_type": "markdown",
   "metadata": {},
   "source": [
    "## Part 2: Create a Financial Planner for Retirement"
   ]
  },
  {
   "cell_type": "markdown",
   "metadata": {},
   "source": [
    "### Create the Monte Carlo Simulation\n",
    "\n",
    "In this section, you’ll use the MCForecastTools library to create a Monte Carlo simulation for the member’s savings portfolio. To do this, complete the following steps:\n",
    "\n",
    "1. Make an API call via the Alpaca SDK to get 3 years of historical closing prices for a traditional 60/40 portfolio split: 60% stocks (SPY) and 40% bonds (AGG).\n",
    "\n",
    "2. Run a Monte Carlo simulation of 500 samples and 30 years for the 60/40 portfolio, and then plot the results.The following image shows the overlay line plot resulting from a simulation with these characteristics. However, because a random number generator is used to run each live Monte Carlo simulation, your image will differ slightly from this exact image:\n",
    "\n",
    "![A screenshot depicts the resulting plot.](Images/5-4-monte-carlo-line-plot.png)\n",
    "\n",
    "3. Plot the probability distribution of the Monte Carlo simulation. Plot the probability distribution of the Monte Carlo simulation. The following image shows the histogram plot resulting from a simulation with these characteristics. However, because a random number generator is used to run each live Monte Carlo simulation, your image will differ slightly from this exact image:\n",
    "\n",
    "![A screenshot depicts the histogram plot.](Images/5-4-monte-carlo-histogram.png)\n",
    "\n",
    "4. Generate the summary statistics for the Monte Carlo simulation.\n",
    "\n"
   ]
  },
  {
   "cell_type": "markdown",
   "metadata": {
    "tags": []
   },
   "source": [
    "#### Step 1: Make an API call via the Alpaca SDK to get 3 years of historical closing prices for a traditional 60/40 portfolio split: 60% stocks (SPY) and 40% bonds (AGG)."
   ]
  },
  {
   "cell_type": "code",
   "execution_count": 29,
   "metadata": {},
   "outputs": [],
   "source": [
    "# Set start and end dates of 3 years back from your current date\n",
    "# Alternatively, you can use an end date of 2020-08-07 and work 3 years back from that date \n",
    "# YOUR CODE HERE\n",
    "# YOUR CODE HERE\n",
    "start_date= pd.Timestamp(\"2019-10-01\", tz='America/New_York').isoformat()\n",
    "end_date=pd.Timestamp('2022-10-26', tz='America/New_York').isoformat()\n",
    "timeframe='1Day'\n",
    "tickers=['SPY','AGG']\n"
   ]
  },
  {
   "cell_type": "code",
   "execution_count": 30,
   "metadata": {},
   "outputs": [
    {
     "data": {
      "text/html": [
       "<div>\n",
       "<style scoped>\n",
       "    .dataframe tbody tr th:only-of-type {\n",
       "        vertical-align: middle;\n",
       "    }\n",
       "\n",
       "    .dataframe tbody tr th {\n",
       "        vertical-align: top;\n",
       "    }\n",
       "\n",
       "    .dataframe thead tr th {\n",
       "        text-align: left;\n",
       "    }\n",
       "\n",
       "    .dataframe thead tr:last-of-type th {\n",
       "        text-align: right;\n",
       "    }\n",
       "</style>\n",
       "<table border=\"1\" class=\"dataframe\">\n",
       "  <thead>\n",
       "    <tr>\n",
       "      <th></th>\n",
       "      <th colspan=\"7\" halign=\"left\">SPY</th>\n",
       "      <th colspan=\"7\" halign=\"left\">AGG</th>\n",
       "    </tr>\n",
       "    <tr>\n",
       "      <th></th>\n",
       "      <th>open</th>\n",
       "      <th>high</th>\n",
       "      <th>low</th>\n",
       "      <th>close</th>\n",
       "      <th>volume</th>\n",
       "      <th>trade_count</th>\n",
       "      <th>vwap</th>\n",
       "      <th>open</th>\n",
       "      <th>high</th>\n",
       "      <th>low</th>\n",
       "      <th>close</th>\n",
       "      <th>volume</th>\n",
       "      <th>trade_count</th>\n",
       "      <th>vwap</th>\n",
       "    </tr>\n",
       "    <tr>\n",
       "      <th>timestamp</th>\n",
       "      <th></th>\n",
       "      <th></th>\n",
       "      <th></th>\n",
       "      <th></th>\n",
       "      <th></th>\n",
       "      <th></th>\n",
       "      <th></th>\n",
       "      <th></th>\n",
       "      <th></th>\n",
       "      <th></th>\n",
       "      <th></th>\n",
       "      <th></th>\n",
       "      <th></th>\n",
       "      <th></th>\n",
       "    </tr>\n",
       "  </thead>\n",
       "  <tbody>\n",
       "    <tr>\n",
       "      <th>2019-10-01 04:00:00+00:00</th>\n",
       "      <td>297.67</td>\n",
       "      <td>298.455</td>\n",
       "      <td>293.00</td>\n",
       "      <td>293.24</td>\n",
       "      <td>90160482</td>\n",
       "      <td>422407</td>\n",
       "      <td>294.867498</td>\n",
       "      <td>112.71</td>\n",
       "      <td>113.2500</td>\n",
       "      <td>112.63</td>\n",
       "      <td>113.12</td>\n",
       "      <td>5982470</td>\n",
       "      <td>30567</td>\n",
       "      <td>113.081002</td>\n",
       "    </tr>\n",
       "    <tr>\n",
       "      <th>2019-10-02 04:00:00+00:00</th>\n",
       "      <td>291.49</td>\n",
       "      <td>291.510</td>\n",
       "      <td>286.64</td>\n",
       "      <td>288.06</td>\n",
       "      <td>125924074</td>\n",
       "      <td>608988</td>\n",
       "      <td>288.821147</td>\n",
       "      <td>113.19</td>\n",
       "      <td>113.3075</td>\n",
       "      <td>113.09</td>\n",
       "      <td>113.20</td>\n",
       "      <td>9571687</td>\n",
       "      <td>23424</td>\n",
       "      <td>113.229809</td>\n",
       "    </tr>\n",
       "    <tr>\n",
       "      <th>2019-10-03 04:00:00+00:00</th>\n",
       "      <td>287.81</td>\n",
       "      <td>290.450</td>\n",
       "      <td>284.82</td>\n",
       "      <td>290.42</td>\n",
       "      <td>85906608</td>\n",
       "      <td>517842</td>\n",
       "      <td>288.281946</td>\n",
       "      <td>113.34</td>\n",
       "      <td>113.7400</td>\n",
       "      <td>113.32</td>\n",
       "      <td>113.64</td>\n",
       "      <td>5144049</td>\n",
       "      <td>18028</td>\n",
       "      <td>113.589201</td>\n",
       "    </tr>\n",
       "    <tr>\n",
       "      <th>2019-10-04 04:00:00+00:00</th>\n",
       "      <td>291.21</td>\n",
       "      <td>294.630</td>\n",
       "      <td>290.82</td>\n",
       "      <td>294.35</td>\n",
       "      <td>66877330</td>\n",
       "      <td>305209</td>\n",
       "      <td>292.978205</td>\n",
       "      <td>113.68</td>\n",
       "      <td>113.8255</td>\n",
       "      <td>113.63</td>\n",
       "      <td>113.82</td>\n",
       "      <td>3331180</td>\n",
       "      <td>14511</td>\n",
       "      <td>113.742441</td>\n",
       "    </tr>\n",
       "    <tr>\n",
       "      <th>2019-10-07 04:00:00+00:00</th>\n",
       "      <td>293.50</td>\n",
       "      <td>295.260</td>\n",
       "      <td>292.77</td>\n",
       "      <td>293.08</td>\n",
       "      <td>61657344</td>\n",
       "      <td>314251</td>\n",
       "      <td>293.863605</td>\n",
       "      <td>113.64</td>\n",
       "      <td>113.7050</td>\n",
       "      <td>113.51</td>\n",
       "      <td>113.51</td>\n",
       "      <td>2493664</td>\n",
       "      <td>9765</td>\n",
       "      <td>113.575284</td>\n",
       "    </tr>\n",
       "  </tbody>\n",
       "</table>\n",
       "</div>"
      ],
      "text/plain": [
       "                              SPY                                      \\\n",
       "                             open     high     low   close     volume   \n",
       "timestamp                                                               \n",
       "2019-10-01 04:00:00+00:00  297.67  298.455  293.00  293.24   90160482   \n",
       "2019-10-02 04:00:00+00:00  291.49  291.510  286.64  288.06  125924074   \n",
       "2019-10-03 04:00:00+00:00  287.81  290.450  284.82  290.42   85906608   \n",
       "2019-10-04 04:00:00+00:00  291.21  294.630  290.82  294.35   66877330   \n",
       "2019-10-07 04:00:00+00:00  293.50  295.260  292.77  293.08   61657344   \n",
       "\n",
       "                                                      AGG                    \\\n",
       "                          trade_count        vwap    open      high     low   \n",
       "timestamp                                                                     \n",
       "2019-10-01 04:00:00+00:00      422407  294.867498  112.71  113.2500  112.63   \n",
       "2019-10-02 04:00:00+00:00      608988  288.821147  113.19  113.3075  113.09   \n",
       "2019-10-03 04:00:00+00:00      517842  288.281946  113.34  113.7400  113.32   \n",
       "2019-10-04 04:00:00+00:00      305209  292.978205  113.68  113.8255  113.63   \n",
       "2019-10-07 04:00:00+00:00      314251  293.863605  113.64  113.7050  113.51   \n",
       "\n",
       "                                                                    \n",
       "                            close   volume trade_count        vwap  \n",
       "timestamp                                                           \n",
       "2019-10-01 04:00:00+00:00  113.12  5982470       30567  113.081002  \n",
       "2019-10-02 04:00:00+00:00  113.20  9571687       23424  113.229809  \n",
       "2019-10-03 04:00:00+00:00  113.64  5144049       18028  113.589201  \n",
       "2019-10-04 04:00:00+00:00  113.82  3331180       14511  113.742441  \n",
       "2019-10-07 04:00:00+00:00  113.51  2493664        9765  113.575284  "
      ]
     },
     "metadata": {},
     "output_type": "display_data"
    },
    {
     "data": {
      "text/html": [
       "<div>\n",
       "<style scoped>\n",
       "    .dataframe tbody tr th:only-of-type {\n",
       "        vertical-align: middle;\n",
       "    }\n",
       "\n",
       "    .dataframe tbody tr th {\n",
       "        vertical-align: top;\n",
       "    }\n",
       "\n",
       "    .dataframe thead tr th {\n",
       "        text-align: left;\n",
       "    }\n",
       "\n",
       "    .dataframe thead tr:last-of-type th {\n",
       "        text-align: right;\n",
       "    }\n",
       "</style>\n",
       "<table border=\"1\" class=\"dataframe\">\n",
       "  <thead>\n",
       "    <tr>\n",
       "      <th></th>\n",
       "      <th colspan=\"7\" halign=\"left\">SPY</th>\n",
       "      <th colspan=\"7\" halign=\"left\">AGG</th>\n",
       "    </tr>\n",
       "    <tr>\n",
       "      <th></th>\n",
       "      <th>open</th>\n",
       "      <th>high</th>\n",
       "      <th>low</th>\n",
       "      <th>close</th>\n",
       "      <th>volume</th>\n",
       "      <th>trade_count</th>\n",
       "      <th>vwap</th>\n",
       "      <th>open</th>\n",
       "      <th>high</th>\n",
       "      <th>low</th>\n",
       "      <th>close</th>\n",
       "      <th>volume</th>\n",
       "      <th>trade_count</th>\n",
       "      <th>vwap</th>\n",
       "    </tr>\n",
       "    <tr>\n",
       "      <th>timestamp</th>\n",
       "      <th></th>\n",
       "      <th></th>\n",
       "      <th></th>\n",
       "      <th></th>\n",
       "      <th></th>\n",
       "      <th></th>\n",
       "      <th></th>\n",
       "      <th></th>\n",
       "      <th></th>\n",
       "      <th></th>\n",
       "      <th></th>\n",
       "      <th></th>\n",
       "      <th></th>\n",
       "      <th></th>\n",
       "    </tr>\n",
       "  </thead>\n",
       "  <tbody>\n",
       "    <tr>\n",
       "      <th>2022-10-20 04:00:00+00:00</th>\n",
       "      <td>368.07</td>\n",
       "      <td>372.67</td>\n",
       "      <td>364.610</td>\n",
       "      <td>365.41</td>\n",
       "      <td>87963935</td>\n",
       "      <td>634944</td>\n",
       "      <td>367.710482</td>\n",
       "      <td>94.06</td>\n",
       "      <td>94.2555</td>\n",
       "      <td>93.5648</td>\n",
       "      <td>93.63</td>\n",
       "      <td>8860510</td>\n",
       "      <td>19980</td>\n",
       "      <td>93.841305</td>\n",
       "    </tr>\n",
       "    <tr>\n",
       "      <th>2022-10-21 04:00:00+00:00</th>\n",
       "      <td>365.11</td>\n",
       "      <td>374.80</td>\n",
       "      <td>363.540</td>\n",
       "      <td>374.29</td>\n",
       "      <td>130542269</td>\n",
       "      <td>718723</td>\n",
       "      <td>369.862865</td>\n",
       "      <td>93.28</td>\n",
       "      <td>93.8650</td>\n",
       "      <td>93.2000</td>\n",
       "      <td>93.77</td>\n",
       "      <td>8326260</td>\n",
       "      <td>35796</td>\n",
       "      <td>93.663157</td>\n",
       "    </tr>\n",
       "    <tr>\n",
       "      <th>2022-10-24 04:00:00+00:00</th>\n",
       "      <td>375.94</td>\n",
       "      <td>380.06</td>\n",
       "      <td>373.110</td>\n",
       "      <td>378.87</td>\n",
       "      <td>85131661</td>\n",
       "      <td>624488</td>\n",
       "      <td>377.367392</td>\n",
       "      <td>93.77</td>\n",
       "      <td>94.0300</td>\n",
       "      <td>93.4500</td>\n",
       "      <td>93.64</td>\n",
       "      <td>5898426</td>\n",
       "      <td>20905</td>\n",
       "      <td>93.735409</td>\n",
       "    </tr>\n",
       "    <tr>\n",
       "      <th>2022-10-25 04:00:00+00:00</th>\n",
       "      <td>378.72</td>\n",
       "      <td>385.25</td>\n",
       "      <td>378.671</td>\n",
       "      <td>384.92</td>\n",
       "      <td>78656471</td>\n",
       "      <td>598158</td>\n",
       "      <td>382.991850</td>\n",
       "      <td>94.39</td>\n",
       "      <td>94.7050</td>\n",
       "      <td>94.3600</td>\n",
       "      <td>94.56</td>\n",
       "      <td>11361895</td>\n",
       "      <td>35359</td>\n",
       "      <td>94.522662</td>\n",
       "    </tr>\n",
       "    <tr>\n",
       "      <th>2022-10-26 04:00:00+00:00</th>\n",
       "      <td>381.69</td>\n",
       "      <td>387.58</td>\n",
       "      <td>381.350</td>\n",
       "      <td>382.02</td>\n",
       "      <td>103779972</td>\n",
       "      <td>657066</td>\n",
       "      <td>383.877161</td>\n",
       "      <td>94.77</td>\n",
       "      <td>95.1700</td>\n",
       "      <td>94.7600</td>\n",
       "      <td>94.98</td>\n",
       "      <td>7836932</td>\n",
       "      <td>26772</td>\n",
       "      <td>94.951876</td>\n",
       "    </tr>\n",
       "  </tbody>\n",
       "</table>\n",
       "</div>"
      ],
      "text/plain": [
       "                              SPY                                      \\\n",
       "                             open    high      low   close     volume   \n",
       "timestamp                                                               \n",
       "2022-10-20 04:00:00+00:00  368.07  372.67  364.610  365.41   87963935   \n",
       "2022-10-21 04:00:00+00:00  365.11  374.80  363.540  374.29  130542269   \n",
       "2022-10-24 04:00:00+00:00  375.94  380.06  373.110  378.87   85131661   \n",
       "2022-10-25 04:00:00+00:00  378.72  385.25  378.671  384.92   78656471   \n",
       "2022-10-26 04:00:00+00:00  381.69  387.58  381.350  382.02  103779972   \n",
       "\n",
       "                                                     AGG                    \\\n",
       "                          trade_count        vwap   open     high      low   \n",
       "timestamp                                                                    \n",
       "2022-10-20 04:00:00+00:00      634944  367.710482  94.06  94.2555  93.5648   \n",
       "2022-10-21 04:00:00+00:00      718723  369.862865  93.28  93.8650  93.2000   \n",
       "2022-10-24 04:00:00+00:00      624488  377.367392  93.77  94.0300  93.4500   \n",
       "2022-10-25 04:00:00+00:00      598158  382.991850  94.39  94.7050  94.3600   \n",
       "2022-10-26 04:00:00+00:00      657066  383.877161  94.77  95.1700  94.7600   \n",
       "\n",
       "                                                                   \n",
       "                           close    volume trade_count       vwap  \n",
       "timestamp                                                          \n",
       "2022-10-20 04:00:00+00:00  93.63   8860510       19980  93.841305  \n",
       "2022-10-21 04:00:00+00:00  93.77   8326260       35796  93.663157  \n",
       "2022-10-24 04:00:00+00:00  93.64   5898426       20905  93.735409  \n",
       "2022-10-25 04:00:00+00:00  94.56  11361895       35359  94.522662  \n",
       "2022-10-26 04:00:00+00:00  94.98   7836932       26772  94.951876  "
      ]
     },
     "metadata": {},
     "output_type": "display_data"
    }
   ],
   "source": [
    "# Use the Alpaca get_bars function to make the API call to get the 3 years worth of pricing data\n",
    "# The tickers and timeframe parameters should have been set in Part 1 of this activity \n",
    "# The start and end dates should be updated with the information set above\n",
    "# Remember to add the df property to the end of the call so the response is returned as a DataFrame\n",
    "# YOUR CODE HERE\n",
    "prices_df=alpaca.get_bars(\n",
    "    tickers,\n",
    "    timeframe,\n",
    "    start=start_date,\n",
    "    end=end_date\n",
    ").df\n",
    "\n",
    "# Reorganize the DataFrame\n",
    "# Separate ticker data\n",
    "# YOUR CODE HERE\n",
    "SPY= prices_df[prices_df['symbol']=='SPY'].drop('symbol',axis=1)\n",
    "AGG= prices_df[prices_df['symbol']=='AGG'].drop('symbol',axis=1)\n",
    "\n",
    "# Concatenate the ticker DataFrames\n",
    "# YOUR CODE HERE\n",
    "prices_df=pd.concat([SPY,AGG], axis=1, keys=['SPY','AGG'])\n",
    "\n",
    "# Display both the first and last five rows of the DataFrame\n",
    "# YOUR CODE HERE\n",
    "# YOUR CODE HERE\n",
    "display(prices_df.head())\n",
    "display(prices_df.tail())\n",
    "                                             "
   ]
  },
  {
   "cell_type": "markdown",
   "metadata": {},
   "source": [
    "#### Step 2: Run a Monte Carlo simulation of 500 samples and 30 years for the 60/40 portfolio, and then plot the results."
   ]
  },
  {
   "cell_type": "code",
   "execution_count": 31,
   "metadata": {},
   "outputs": [
    {
     "data": {
      "text/html": [
       "<div>\n",
       "<style scoped>\n",
       "    .dataframe tbody tr th:only-of-type {\n",
       "        vertical-align: middle;\n",
       "    }\n",
       "\n",
       "    .dataframe tbody tr th {\n",
       "        vertical-align: top;\n",
       "    }\n",
       "\n",
       "    .dataframe thead tr th {\n",
       "        text-align: left;\n",
       "    }\n",
       "\n",
       "    .dataframe thead tr:last-of-type th {\n",
       "        text-align: right;\n",
       "    }\n",
       "</style>\n",
       "<table border=\"1\" class=\"dataframe\">\n",
       "  <thead>\n",
       "    <tr>\n",
       "      <th></th>\n",
       "      <th colspan=\"8\" halign=\"left\">SPY</th>\n",
       "      <th colspan=\"8\" halign=\"left\">AGG</th>\n",
       "    </tr>\n",
       "    <tr>\n",
       "      <th></th>\n",
       "      <th>open</th>\n",
       "      <th>high</th>\n",
       "      <th>low</th>\n",
       "      <th>close</th>\n",
       "      <th>volume</th>\n",
       "      <th>trade_count</th>\n",
       "      <th>vwap</th>\n",
       "      <th>daily_return</th>\n",
       "      <th>open</th>\n",
       "      <th>high</th>\n",
       "      <th>low</th>\n",
       "      <th>close</th>\n",
       "      <th>volume</th>\n",
       "      <th>trade_count</th>\n",
       "      <th>vwap</th>\n",
       "      <th>daily_return</th>\n",
       "    </tr>\n",
       "    <tr>\n",
       "      <th>timestamp</th>\n",
       "      <th></th>\n",
       "      <th></th>\n",
       "      <th></th>\n",
       "      <th></th>\n",
       "      <th></th>\n",
       "      <th></th>\n",
       "      <th></th>\n",
       "      <th></th>\n",
       "      <th></th>\n",
       "      <th></th>\n",
       "      <th></th>\n",
       "      <th></th>\n",
       "      <th></th>\n",
       "      <th></th>\n",
       "      <th></th>\n",
       "      <th></th>\n",
       "    </tr>\n",
       "  </thead>\n",
       "  <tbody>\n",
       "    <tr>\n",
       "      <th>2019-10-01 04:00:00+00:00</th>\n",
       "      <td>297.67</td>\n",
       "      <td>298.455</td>\n",
       "      <td>293.00</td>\n",
       "      <td>293.24</td>\n",
       "      <td>90160482</td>\n",
       "      <td>422407</td>\n",
       "      <td>294.867498</td>\n",
       "      <td>NaN</td>\n",
       "      <td>112.71</td>\n",
       "      <td>113.2500</td>\n",
       "      <td>112.63</td>\n",
       "      <td>113.12</td>\n",
       "      <td>5982470</td>\n",
       "      <td>30567</td>\n",
       "      <td>113.081002</td>\n",
       "      <td>NaN</td>\n",
       "    </tr>\n",
       "    <tr>\n",
       "      <th>2019-10-02 04:00:00+00:00</th>\n",
       "      <td>291.49</td>\n",
       "      <td>291.510</td>\n",
       "      <td>286.64</td>\n",
       "      <td>288.06</td>\n",
       "      <td>125924074</td>\n",
       "      <td>608988</td>\n",
       "      <td>288.821147</td>\n",
       "      <td>-0.017665</td>\n",
       "      <td>113.19</td>\n",
       "      <td>113.3075</td>\n",
       "      <td>113.09</td>\n",
       "      <td>113.20</td>\n",
       "      <td>9571687</td>\n",
       "      <td>23424</td>\n",
       "      <td>113.229809</td>\n",
       "      <td>0.000707</td>\n",
       "    </tr>\n",
       "    <tr>\n",
       "      <th>2019-10-03 04:00:00+00:00</th>\n",
       "      <td>287.81</td>\n",
       "      <td>290.450</td>\n",
       "      <td>284.82</td>\n",
       "      <td>290.42</td>\n",
       "      <td>85906608</td>\n",
       "      <td>517842</td>\n",
       "      <td>288.281946</td>\n",
       "      <td>0.008193</td>\n",
       "      <td>113.34</td>\n",
       "      <td>113.7400</td>\n",
       "      <td>113.32</td>\n",
       "      <td>113.64</td>\n",
       "      <td>5144049</td>\n",
       "      <td>18028</td>\n",
       "      <td>113.589201</td>\n",
       "      <td>0.003887</td>\n",
       "    </tr>\n",
       "    <tr>\n",
       "      <th>2019-10-04 04:00:00+00:00</th>\n",
       "      <td>291.21</td>\n",
       "      <td>294.630</td>\n",
       "      <td>290.82</td>\n",
       "      <td>294.35</td>\n",
       "      <td>66877330</td>\n",
       "      <td>305209</td>\n",
       "      <td>292.978205</td>\n",
       "      <td>0.013532</td>\n",
       "      <td>113.68</td>\n",
       "      <td>113.8255</td>\n",
       "      <td>113.63</td>\n",
       "      <td>113.82</td>\n",
       "      <td>3331180</td>\n",
       "      <td>14511</td>\n",
       "      <td>113.742441</td>\n",
       "      <td>0.001584</td>\n",
       "    </tr>\n",
       "    <tr>\n",
       "      <th>2019-10-07 04:00:00+00:00</th>\n",
       "      <td>293.50</td>\n",
       "      <td>295.260</td>\n",
       "      <td>292.77</td>\n",
       "      <td>293.08</td>\n",
       "      <td>61657344</td>\n",
       "      <td>314251</td>\n",
       "      <td>293.863605</td>\n",
       "      <td>-0.004315</td>\n",
       "      <td>113.64</td>\n",
       "      <td>113.7050</td>\n",
       "      <td>113.51</td>\n",
       "      <td>113.51</td>\n",
       "      <td>2493664</td>\n",
       "      <td>9765</td>\n",
       "      <td>113.575284</td>\n",
       "      <td>-0.002724</td>\n",
       "    </tr>\n",
       "  </tbody>\n",
       "</table>\n",
       "</div>"
      ],
      "text/plain": [
       "                              SPY                                      \\\n",
       "                             open     high     low   close     volume   \n",
       "timestamp                                                               \n",
       "2019-10-01 04:00:00+00:00  297.67  298.455  293.00  293.24   90160482   \n",
       "2019-10-02 04:00:00+00:00  291.49  291.510  286.64  288.06  125924074   \n",
       "2019-10-03 04:00:00+00:00  287.81  290.450  284.82  290.42   85906608   \n",
       "2019-10-04 04:00:00+00:00  291.21  294.630  290.82  294.35   66877330   \n",
       "2019-10-07 04:00:00+00:00  293.50  295.260  292.77  293.08   61657344   \n",
       "\n",
       "                                                                   AGG  \\\n",
       "                          trade_count        vwap daily_return    open   \n",
       "timestamp                                                                \n",
       "2019-10-01 04:00:00+00:00      422407  294.867498          NaN  112.71   \n",
       "2019-10-02 04:00:00+00:00      608988  288.821147    -0.017665  113.19   \n",
       "2019-10-03 04:00:00+00:00      517842  288.281946     0.008193  113.34   \n",
       "2019-10-04 04:00:00+00:00      305209  292.978205     0.013532  113.68   \n",
       "2019-10-07 04:00:00+00:00      314251  293.863605    -0.004315  113.64   \n",
       "\n",
       "                                                                          \\\n",
       "                               high     low   close   volume trade_count   \n",
       "timestamp                                                                  \n",
       "2019-10-01 04:00:00+00:00  113.2500  112.63  113.12  5982470       30567   \n",
       "2019-10-02 04:00:00+00:00  113.3075  113.09  113.20  9571687       23424   \n",
       "2019-10-03 04:00:00+00:00  113.7400  113.32  113.64  5144049       18028   \n",
       "2019-10-04 04:00:00+00:00  113.8255  113.63  113.82  3331180       14511   \n",
       "2019-10-07 04:00:00+00:00  113.7050  113.51  113.51  2493664        9765   \n",
       "\n",
       "                                                    \n",
       "                                 vwap daily_return  \n",
       "timestamp                                           \n",
       "2019-10-01 04:00:00+00:00  113.081002          NaN  \n",
       "2019-10-02 04:00:00+00:00  113.229809     0.000707  \n",
       "2019-10-03 04:00:00+00:00  113.589201     0.003887  \n",
       "2019-10-04 04:00:00+00:00  113.742441     0.001584  \n",
       "2019-10-07 04:00:00+00:00  113.575284    -0.002724  "
      ]
     },
     "execution_count": 31,
     "metadata": {},
     "output_type": "execute_result"
    }
   ],
   "source": [
    "# Configure the Monte Carlo simulation to forecast 30 years cumulative returns\n",
    "# The weights should be split 40% to AGG and 60% to SPY.\n",
    "# Run 500 samples.\n",
    "# YOUR CODE HERE\n",
    "MC_30year= MCSimulation(\n",
    "    portfolio_data=prices_df,\n",
    "    weights=[.60,.40],\n",
    "    num_simulation=500,\n",
    "    num_trading_days=(252*30)\n",
    ")\n",
    "\n",
    "# Review the simulation input data\n",
    "# YOUR CODE HERE\n",
    "MC_30year.portfolio_data.head()"
   ]
  },
  {
   "cell_type": "code",
   "execution_count": 32,
   "metadata": {},
   "outputs": [
    {
     "name": "stdout",
     "output_type": "stream",
     "text": [
      "Running Monte Carlo simulation number 0.\n",
      "Running Monte Carlo simulation number 10.\n",
      "Running Monte Carlo simulation number 20.\n",
      "Running Monte Carlo simulation number 30.\n",
      "Running Monte Carlo simulation number 40.\n",
      "Running Monte Carlo simulation number 50.\n",
      "Running Monte Carlo simulation number 60.\n",
      "Running Monte Carlo simulation number 70.\n",
      "Running Monte Carlo simulation number 80.\n",
      "Running Monte Carlo simulation number 90.\n",
      "Running Monte Carlo simulation number 100.\n"
     ]
    },
    {
     "name": "stderr",
     "output_type": "stream",
     "text": [
      "C:\\Users\\card_\\OneDrive\\Desktop\\Fintech Bootcamp\\challenges\\Financial-Planner\\Code\\MCForecastTools.py:117: PerformanceWarning: DataFrame is highly fragmented.  This is usually the result of calling `frame.insert` many times, which has poor performance.  Consider joining all columns at once using pd.concat(axis=1) instead.  To get a de-fragmented frame, use `newframe = frame.copy()`\n",
      "  portfolio_cumulative_returns[n] = (1 + sim_df.fillna(0)).cumprod()\n"
     ]
    },
    {
     "name": "stdout",
     "output_type": "stream",
     "text": [
      "Running Monte Carlo simulation number 110.\n",
      "Running Monte Carlo simulation number 120.\n",
      "Running Monte Carlo simulation number 130.\n",
      "Running Monte Carlo simulation number 140.\n",
      "Running Monte Carlo simulation number 150.\n",
      "Running Monte Carlo simulation number 160.\n",
      "Running Monte Carlo simulation number 170.\n",
      "Running Monte Carlo simulation number 180.\n",
      "Running Monte Carlo simulation number 190.\n",
      "Running Monte Carlo simulation number 200.\n",
      "Running Monte Carlo simulation number 210.\n",
      "Running Monte Carlo simulation number 220.\n",
      "Running Monte Carlo simulation number 230.\n",
      "Running Monte Carlo simulation number 240.\n",
      "Running Monte Carlo simulation number 250.\n",
      "Running Monte Carlo simulation number 260.\n",
      "Running Monte Carlo simulation number 270.\n",
      "Running Monte Carlo simulation number 280.\n",
      "Running Monte Carlo simulation number 290.\n",
      "Running Monte Carlo simulation number 300.\n",
      "Running Monte Carlo simulation number 310.\n",
      "Running Monte Carlo simulation number 320.\n",
      "Running Monte Carlo simulation number 330.\n",
      "Running Monte Carlo simulation number 340.\n",
      "Running Monte Carlo simulation number 350.\n",
      "Running Monte Carlo simulation number 360.\n",
      "Running Monte Carlo simulation number 370.\n",
      "Running Monte Carlo simulation number 380.\n",
      "Running Monte Carlo simulation number 390.\n",
      "Running Monte Carlo simulation number 400.\n",
      "Running Monte Carlo simulation number 410.\n",
      "Running Monte Carlo simulation number 420.\n",
      "Running Monte Carlo simulation number 430.\n",
      "Running Monte Carlo simulation number 440.\n",
      "Running Monte Carlo simulation number 450.\n",
      "Running Monte Carlo simulation number 460.\n",
      "Running Monte Carlo simulation number 470.\n",
      "Running Monte Carlo simulation number 480.\n",
      "Running Monte Carlo simulation number 490.\n"
     ]
    },
    {
     "data": {
      "text/html": [
       "<div>\n",
       "<style scoped>\n",
       "    .dataframe tbody tr th:only-of-type {\n",
       "        vertical-align: middle;\n",
       "    }\n",
       "\n",
       "    .dataframe tbody tr th {\n",
       "        vertical-align: top;\n",
       "    }\n",
       "\n",
       "    .dataframe thead th {\n",
       "        text-align: right;\n",
       "    }\n",
       "</style>\n",
       "<table border=\"1\" class=\"dataframe\">\n",
       "  <thead>\n",
       "    <tr style=\"text-align: right;\">\n",
       "      <th></th>\n",
       "      <th>0</th>\n",
       "      <th>1</th>\n",
       "      <th>2</th>\n",
       "      <th>3</th>\n",
       "      <th>4</th>\n",
       "      <th>5</th>\n",
       "      <th>6</th>\n",
       "      <th>7</th>\n",
       "      <th>8</th>\n",
       "      <th>9</th>\n",
       "      <th>...</th>\n",
       "      <th>490</th>\n",
       "      <th>491</th>\n",
       "      <th>492</th>\n",
       "      <th>493</th>\n",
       "      <th>494</th>\n",
       "      <th>495</th>\n",
       "      <th>496</th>\n",
       "      <th>497</th>\n",
       "      <th>498</th>\n",
       "      <th>499</th>\n",
       "    </tr>\n",
       "  </thead>\n",
       "  <tbody>\n",
       "    <tr>\n",
       "      <th>0</th>\n",
       "      <td>1.000000</td>\n",
       "      <td>1.000000</td>\n",
       "      <td>1.000000</td>\n",
       "      <td>1.000000</td>\n",
       "      <td>1.000000</td>\n",
       "      <td>1.000000</td>\n",
       "      <td>1.000000</td>\n",
       "      <td>1.000000</td>\n",
       "      <td>1.000000</td>\n",
       "      <td>1.000000</td>\n",
       "      <td>...</td>\n",
       "      <td>1.000000</td>\n",
       "      <td>1.000000</td>\n",
       "      <td>1.000000</td>\n",
       "      <td>1.000000</td>\n",
       "      <td>1.000000</td>\n",
       "      <td>1.000000</td>\n",
       "      <td>1.000000</td>\n",
       "      <td>1.000000</td>\n",
       "      <td>1.000000</td>\n",
       "      <td>1.000000</td>\n",
       "    </tr>\n",
       "    <tr>\n",
       "      <th>1</th>\n",
       "      <td>1.004733</td>\n",
       "      <td>1.002997</td>\n",
       "      <td>0.988943</td>\n",
       "      <td>1.006484</td>\n",
       "      <td>0.993758</td>\n",
       "      <td>1.006901</td>\n",
       "      <td>0.996968</td>\n",
       "      <td>1.005162</td>\n",
       "      <td>0.999983</td>\n",
       "      <td>0.997131</td>\n",
       "      <td>...</td>\n",
       "      <td>1.004244</td>\n",
       "      <td>1.001330</td>\n",
       "      <td>0.997910</td>\n",
       "      <td>1.003126</td>\n",
       "      <td>0.987810</td>\n",
       "      <td>0.997558</td>\n",
       "      <td>0.993914</td>\n",
       "      <td>0.991363</td>\n",
       "      <td>1.022885</td>\n",
       "      <td>1.029479</td>\n",
       "    </tr>\n",
       "    <tr>\n",
       "      <th>2</th>\n",
       "      <td>1.010000</td>\n",
       "      <td>1.006658</td>\n",
       "      <td>0.991272</td>\n",
       "      <td>1.009411</td>\n",
       "      <td>0.972561</td>\n",
       "      <td>1.011974</td>\n",
       "      <td>0.998729</td>\n",
       "      <td>1.010495</td>\n",
       "      <td>1.001904</td>\n",
       "      <td>0.993676</td>\n",
       "      <td>...</td>\n",
       "      <td>1.007550</td>\n",
       "      <td>0.991320</td>\n",
       "      <td>0.983784</td>\n",
       "      <td>1.011576</td>\n",
       "      <td>0.983779</td>\n",
       "      <td>0.995524</td>\n",
       "      <td>0.999595</td>\n",
       "      <td>0.979533</td>\n",
       "      <td>1.013395</td>\n",
       "      <td>1.038859</td>\n",
       "    </tr>\n",
       "    <tr>\n",
       "      <th>3</th>\n",
       "      <td>0.996740</td>\n",
       "      <td>1.012810</td>\n",
       "      <td>0.993131</td>\n",
       "      <td>1.014036</td>\n",
       "      <td>0.964082</td>\n",
       "      <td>1.008990</td>\n",
       "      <td>0.990703</td>\n",
       "      <td>0.997552</td>\n",
       "      <td>0.995071</td>\n",
       "      <td>0.996021</td>\n",
       "      <td>...</td>\n",
       "      <td>1.022897</td>\n",
       "      <td>0.995080</td>\n",
       "      <td>0.983103</td>\n",
       "      <td>1.007922</td>\n",
       "      <td>0.970104</td>\n",
       "      <td>1.007661</td>\n",
       "      <td>0.992452</td>\n",
       "      <td>0.957251</td>\n",
       "      <td>1.015911</td>\n",
       "      <td>1.037366</td>\n",
       "    </tr>\n",
       "    <tr>\n",
       "      <th>4</th>\n",
       "      <td>1.010422</td>\n",
       "      <td>1.026659</td>\n",
       "      <td>1.000822</td>\n",
       "      <td>1.012330</td>\n",
       "      <td>0.974722</td>\n",
       "      <td>1.003659</td>\n",
       "      <td>0.977177</td>\n",
       "      <td>0.983575</td>\n",
       "      <td>0.991991</td>\n",
       "      <td>1.009296</td>\n",
       "      <td>...</td>\n",
       "      <td>1.020353</td>\n",
       "      <td>0.984184</td>\n",
       "      <td>0.982369</td>\n",
       "      <td>0.994893</td>\n",
       "      <td>0.973975</td>\n",
       "      <td>1.003800</td>\n",
       "      <td>0.990607</td>\n",
       "      <td>0.971301</td>\n",
       "      <td>1.021309</td>\n",
       "      <td>1.025257</td>\n",
       "    </tr>\n",
       "    <tr>\n",
       "      <th>...</th>\n",
       "      <td>...</td>\n",
       "      <td>...</td>\n",
       "      <td>...</td>\n",
       "      <td>...</td>\n",
       "      <td>...</td>\n",
       "      <td>...</td>\n",
       "      <td>...</td>\n",
       "      <td>...</td>\n",
       "      <td>...</td>\n",
       "      <td>...</td>\n",
       "      <td>...</td>\n",
       "      <td>...</td>\n",
       "      <td>...</td>\n",
       "      <td>...</td>\n",
       "      <td>...</td>\n",
       "      <td>...</td>\n",
       "      <td>...</td>\n",
       "      <td>...</td>\n",
       "      <td>...</td>\n",
       "      <td>...</td>\n",
       "      <td>...</td>\n",
       "    </tr>\n",
       "    <tr>\n",
       "      <th>7556</th>\n",
       "      <td>3.329609</td>\n",
       "      <td>3.268160</td>\n",
       "      <td>5.559743</td>\n",
       "      <td>5.500541</td>\n",
       "      <td>5.902545</td>\n",
       "      <td>2.963006</td>\n",
       "      <td>5.353637</td>\n",
       "      <td>1.239312</td>\n",
       "      <td>0.883950</td>\n",
       "      <td>1.567952</td>\n",
       "      <td>...</td>\n",
       "      <td>2.030241</td>\n",
       "      <td>0.449098</td>\n",
       "      <td>0.328913</td>\n",
       "      <td>3.073215</td>\n",
       "      <td>1.773244</td>\n",
       "      <td>3.129121</td>\n",
       "      <td>1.676489</td>\n",
       "      <td>1.675159</td>\n",
       "      <td>3.964669</td>\n",
       "      <td>1.921473</td>\n",
       "    </tr>\n",
       "    <tr>\n",
       "      <th>7557</th>\n",
       "      <td>3.329736</td>\n",
       "      <td>3.229928</td>\n",
       "      <td>5.539332</td>\n",
       "      <td>5.473942</td>\n",
       "      <td>5.936065</td>\n",
       "      <td>3.006278</td>\n",
       "      <td>5.287744</td>\n",
       "      <td>1.240780</td>\n",
       "      <td>0.875548</td>\n",
       "      <td>1.581063</td>\n",
       "      <td>...</td>\n",
       "      <td>2.003570</td>\n",
       "      <td>0.446186</td>\n",
       "      <td>0.325315</td>\n",
       "      <td>3.061379</td>\n",
       "      <td>1.755542</td>\n",
       "      <td>3.142635</td>\n",
       "      <td>1.654417</td>\n",
       "      <td>1.681205</td>\n",
       "      <td>3.900125</td>\n",
       "      <td>1.959915</td>\n",
       "    </tr>\n",
       "    <tr>\n",
       "      <th>7558</th>\n",
       "      <td>3.343977</td>\n",
       "      <td>3.242043</td>\n",
       "      <td>5.501964</td>\n",
       "      <td>5.395480</td>\n",
       "      <td>5.863114</td>\n",
       "      <td>3.001108</td>\n",
       "      <td>5.356669</td>\n",
       "      <td>1.238493</td>\n",
       "      <td>0.867728</td>\n",
       "      <td>1.563837</td>\n",
       "      <td>...</td>\n",
       "      <td>2.034295</td>\n",
       "      <td>0.450840</td>\n",
       "      <td>0.327908</td>\n",
       "      <td>3.089075</td>\n",
       "      <td>1.741966</td>\n",
       "      <td>3.146163</td>\n",
       "      <td>1.663889</td>\n",
       "      <td>1.691081</td>\n",
       "      <td>3.893505</td>\n",
       "      <td>1.944209</td>\n",
       "    </tr>\n",
       "    <tr>\n",
       "      <th>7559</th>\n",
       "      <td>3.346440</td>\n",
       "      <td>3.270933</td>\n",
       "      <td>5.543709</td>\n",
       "      <td>5.405178</td>\n",
       "      <td>5.894681</td>\n",
       "      <td>3.012295</td>\n",
       "      <td>5.370323</td>\n",
       "      <td>1.238432</td>\n",
       "      <td>0.855451</td>\n",
       "      <td>1.572920</td>\n",
       "      <td>...</td>\n",
       "      <td>2.053927</td>\n",
       "      <td>0.446201</td>\n",
       "      <td>0.330140</td>\n",
       "      <td>3.020891</td>\n",
       "      <td>1.759353</td>\n",
       "      <td>3.122962</td>\n",
       "      <td>1.684603</td>\n",
       "      <td>1.674594</td>\n",
       "      <td>3.932411</td>\n",
       "      <td>1.978767</td>\n",
       "    </tr>\n",
       "    <tr>\n",
       "      <th>7560</th>\n",
       "      <td>3.315289</td>\n",
       "      <td>3.236571</td>\n",
       "      <td>5.511306</td>\n",
       "      <td>5.417512</td>\n",
       "      <td>5.910358</td>\n",
       "      <td>3.029507</td>\n",
       "      <td>5.333697</td>\n",
       "      <td>1.249880</td>\n",
       "      <td>0.842702</td>\n",
       "      <td>1.556944</td>\n",
       "      <td>...</td>\n",
       "      <td>2.029840</td>\n",
       "      <td>0.441578</td>\n",
       "      <td>0.330980</td>\n",
       "      <td>3.049013</td>\n",
       "      <td>1.747618</td>\n",
       "      <td>3.143029</td>\n",
       "      <td>1.696405</td>\n",
       "      <td>1.688553</td>\n",
       "      <td>3.875956</td>\n",
       "      <td>1.986054</td>\n",
       "    </tr>\n",
       "  </tbody>\n",
       "</table>\n",
       "<p>7561 rows × 500 columns</p>\n",
       "</div>"
      ],
      "text/plain": [
       "           0         1         2         3         4         5         6    \\\n",
       "0     1.000000  1.000000  1.000000  1.000000  1.000000  1.000000  1.000000   \n",
       "1     1.004733  1.002997  0.988943  1.006484  0.993758  1.006901  0.996968   \n",
       "2     1.010000  1.006658  0.991272  1.009411  0.972561  1.011974  0.998729   \n",
       "3     0.996740  1.012810  0.993131  1.014036  0.964082  1.008990  0.990703   \n",
       "4     1.010422  1.026659  1.000822  1.012330  0.974722  1.003659  0.977177   \n",
       "...        ...       ...       ...       ...       ...       ...       ...   \n",
       "7556  3.329609  3.268160  5.559743  5.500541  5.902545  2.963006  5.353637   \n",
       "7557  3.329736  3.229928  5.539332  5.473942  5.936065  3.006278  5.287744   \n",
       "7558  3.343977  3.242043  5.501964  5.395480  5.863114  3.001108  5.356669   \n",
       "7559  3.346440  3.270933  5.543709  5.405178  5.894681  3.012295  5.370323   \n",
       "7560  3.315289  3.236571  5.511306  5.417512  5.910358  3.029507  5.333697   \n",
       "\n",
       "           7         8         9    ...       490       491       492  \\\n",
       "0     1.000000  1.000000  1.000000  ...  1.000000  1.000000  1.000000   \n",
       "1     1.005162  0.999983  0.997131  ...  1.004244  1.001330  0.997910   \n",
       "2     1.010495  1.001904  0.993676  ...  1.007550  0.991320  0.983784   \n",
       "3     0.997552  0.995071  0.996021  ...  1.022897  0.995080  0.983103   \n",
       "4     0.983575  0.991991  1.009296  ...  1.020353  0.984184  0.982369   \n",
       "...        ...       ...       ...  ...       ...       ...       ...   \n",
       "7556  1.239312  0.883950  1.567952  ...  2.030241  0.449098  0.328913   \n",
       "7557  1.240780  0.875548  1.581063  ...  2.003570  0.446186  0.325315   \n",
       "7558  1.238493  0.867728  1.563837  ...  2.034295  0.450840  0.327908   \n",
       "7559  1.238432  0.855451  1.572920  ...  2.053927  0.446201  0.330140   \n",
       "7560  1.249880  0.842702  1.556944  ...  2.029840  0.441578  0.330980   \n",
       "\n",
       "           493       494       495       496       497       498       499  \n",
       "0     1.000000  1.000000  1.000000  1.000000  1.000000  1.000000  1.000000  \n",
       "1     1.003126  0.987810  0.997558  0.993914  0.991363  1.022885  1.029479  \n",
       "2     1.011576  0.983779  0.995524  0.999595  0.979533  1.013395  1.038859  \n",
       "3     1.007922  0.970104  1.007661  0.992452  0.957251  1.015911  1.037366  \n",
       "4     0.994893  0.973975  1.003800  0.990607  0.971301  1.021309  1.025257  \n",
       "...        ...       ...       ...       ...       ...       ...       ...  \n",
       "7556  3.073215  1.773244  3.129121  1.676489  1.675159  3.964669  1.921473  \n",
       "7557  3.061379  1.755542  3.142635  1.654417  1.681205  3.900125  1.959915  \n",
       "7558  3.089075  1.741966  3.146163  1.663889  1.691081  3.893505  1.944209  \n",
       "7559  3.020891  1.759353  3.122962  1.684603  1.674594  3.932411  1.978767  \n",
       "7560  3.049013  1.747618  3.143029  1.696405  1.688553  3.875956  1.986054  \n",
       "\n",
       "[7561 rows x 500 columns]"
      ]
     },
     "execution_count": 32,
     "metadata": {},
     "output_type": "execute_result"
    }
   ],
   "source": [
    "# Run the Monte Carlo simulation to forecast 30 years cumulative returns\n",
    "# YOUR CODE HERE\n",
    "MC_30year.calc_cumulative_return()"
   ]
  },
  {
   "cell_type": "code",
   "execution_count": 33,
   "metadata": {},
   "outputs": [
    {
     "data": {
      "text/plain": [
       "<AxesSubplot:title={'center':'500 Simulations of Cumulative Portfolio Return Trajectories Over the Next 7560 Trading Days.'}>"
      ]
     },
     "execution_count": 33,
     "metadata": {},
     "output_type": "execute_result"
    },
    {
     "data": {
      "image/png": "[encoded data removed]",
      "text/plain": [
       "<Figure size 432x288 with 1 Axes>"
      ]
     },
     "metadata": {
      "needs_background": "light"
     },
     "output_type": "display_data"
    }
   ],
   "source": [
    "# Visualize the 30-year Monte Carlo simulation by creating an\n",
    "# overlay line plot\n",
    "# YOUR CODE HERE\n",
    "plot_MC_30year= MC_30year.plot_simulation()\n",
    "plot_MC_30year"
   ]
  },
  {
   "cell_type": "markdown",
   "metadata": {},
   "source": [
    "#### Step 3: Plot the probability distribution of the Monte Carlo simulation."
   ]
  },
  {
   "cell_type": "code",
   "execution_count": 35,
   "metadata": {},
   "outputs": [
    {
     "data": {
      "text/plain": [
       "<AxesSubplot:title={'center':'Distribution of Final Cumuluative Returns Across All 500 Simulations'}, ylabel='Frequency'>"
      ]
     },
     "execution_count": 35,
     "metadata": {},
     "output_type": "execute_result"
    },
    {
     "data": {
      "image/png": "[encoded data removed]",
      "text/plain": [
       "<Figure size 432x288 with 1 Axes>"
      ]
     },
     "metadata": {
      "needs_background": "light"
     },
     "output_type": "display_data"
    }
   ],
   "source": [
    "# Visualize the probability distribution of the 30-year Monte Carlo simulation \n",
    "# by plotting a histogram\n",
    "# YOUR CODE HERE\n",
    "plot_MC_30year_dist= MC_30year.plot_distribution()\n",
    "plot_MC_30year_dist"
   ]
  },
  {
   "cell_type": "markdown",
   "metadata": {},
   "source": [
    "#### Step 4: Generate the summary statistics for the Monte Carlo simulation."
   ]
  },
  {
   "cell_type": "code",
   "execution_count": 36,
   "metadata": {},
   "outputs": [
    {
     "name": "stdout",
     "output_type": "stream",
     "text": [
      "count           500.000000\n",
      "mean              4.323555\n",
      "std               4.612036\n",
      "min               0.330980\n",
      "25%               1.864989\n",
      "50%               3.045877\n",
      "75%               5.244666\n",
      "max              62.320997\n",
      "95% CI Lower      0.611178\n",
      "95% CI Upper     16.477860\n",
      "Name: 7560, dtype: float64\n"
     ]
    }
   ],
   "source": [
    "# Generate summary statistics from the 30-year Monte Carlo simulation results\n",
    "# Save the results as a variable\n",
    "# YOUR CODE HERE\n",
    "MC_30year_summary=MC_30year.summarize_cumulative_return()\n",
    "\n",
    "# Review the 30-year Monte Carlo summary statistics\n",
    "# YOUR CODE HERE\n",
    "print(MC_30year_summary)"
   ]
  },
  {
   "cell_type": "markdown",
   "metadata": {},
   "source": [
    "### Analyze the Retirement Portfolio Forecasts\n",
    "\n",
    "Using the current value of only the stock and bond portion of the member's portfolio and the summary statistics that you generated from the Monte Carlo simulation, answer the following question in your Jupyter notebook:\n",
    "\n",
    "-  What are the lower and upper bounds for the expected value of the portfolio with a 95% confidence interval?\n"
   ]
  },
  {
   "cell_type": "code",
   "execution_count": 37,
   "metadata": {},
   "outputs": [
    {
     "name": "stdout",
     "output_type": "stream",
     "text": [
      "The value of the Stock portion of the portfolio is $42,022.20, the value of the Bond portion of the portfolio is $18,996.00, the total value of the stock and bond portfolio is $61,018.20.\n"
     ]
    }
   ],
   "source": [
    "# Print the current balance of the stock and bond portion of the members portfolio\n",
    "# YOUR CODE HERE\n",
    "print(f'The value of the Stock portion of the portfolio is ${spy_value:,.2f}, the value of the Bond portion of the portfolio is ${agg_value:,.2f}, the total value of the stock and bond portfolio is ${total_stocks_bonds:,.2f}.')"
   ]
  },
  {
   "cell_type": "code",
   "execution_count": 46,
   "metadata": {},
   "outputs": [
    {
     "name": "stdout",
     "output_type": "stream",
     "text": [
      "There is a 95% chance that in the next 30 years the current investment will be in a range of $37,293.00 and $1,005,449.36.\n"
     ]
    }
   ],
   "source": [
    "# Use the lower and upper `95%` confidence intervals to calculate the range of the possible outcomes for the current stock/bond portfolio\n",
    "ci_lower_thirty_cumulative_return = MC_30year_summary[8] * total_stocks_bonds\n",
    "ci_upper_thirty_cumulative_return = MC_30year_summary[9] * total_stocks_bonds\n",
    "\n",
    "# Print the result of your calculations\n",
    "# YOUR CODE HERE\n",
    "print(f'There is a 95% chance that in the next 30 years the current investment will be in a range of ${ci_lower_thirty_cumulative_return:,.2f} and ${ci_upper_thirty_cumulative_return:,.2f}.')"
   ]
  },
  {
   "cell_type": "markdown",
   "metadata": {},
   "source": [
    "### Forecast Cumulative Returns in 10 Years\n",
    "\n",
    "The CTO of the credit union is impressed with your work on these planning tools but wonders if 30 years is a long time to wait until retirement. So, your next task is to adjust the retirement portfolio and run a new Monte Carlo simulation to find out if the changes will allow members to retire earlier.\n",
    "\n",
    "For this new Monte Carlo simulation, do the following: \n",
    "\n",
    "- Forecast the cumulative returns for 10 years from now. Because of the shortened investment horizon (30 years to 10 years), the portfolio needs to invest more heavily in the riskier asset&mdash;that is, stock&mdash;to help accumulate wealth for retirement. \n",
    "\n",
    "- Adjust the weights of the retirement portfolio so that the composition for the Monte Carlo simulation consists of 20% bonds and 80% stocks. \n",
    "\n",
    "- Run the simulation over 500 samples, and use the same data that the API call to Alpaca generated.\n",
    "\n",
    "- Based on the new Monte Carlo simulation, answer the following questions in your Jupyter notebook:\n",
    "\n",
    "    - Using the current value of only the stock and bond portion of the member's portfolio and the summary statistics that you generated from the new Monte Carlo simulation, what are the lower and upper bounds for the expected value of the portfolio (with the new weights) with a 95% confidence interval?\n",
    "\n",
    "    - Will weighting the portfolio more heavily toward stocks allow the credit union members to retire after only 10 years?\n"
   ]
  },
  {
   "cell_type": "code",
   "execution_count": 40,
   "metadata": {},
   "outputs": [
    {
     "data": {
      "text/html": [
       "<div>\n",
       "<style scoped>\n",
       "    .dataframe tbody tr th:only-of-type {\n",
       "        vertical-align: middle;\n",
       "    }\n",
       "\n",
       "    .dataframe tbody tr th {\n",
       "        vertical-align: top;\n",
       "    }\n",
       "\n",
       "    .dataframe thead tr th {\n",
       "        text-align: left;\n",
       "    }\n",
       "\n",
       "    .dataframe thead tr:last-of-type th {\n",
       "        text-align: right;\n",
       "    }\n",
       "</style>\n",
       "<table border=\"1\" class=\"dataframe\">\n",
       "  <thead>\n",
       "    <tr>\n",
       "      <th></th>\n",
       "      <th colspan=\"8\" halign=\"left\">SPY</th>\n",
       "      <th colspan=\"8\" halign=\"left\">AGG</th>\n",
       "    </tr>\n",
       "    <tr>\n",
       "      <th></th>\n",
       "      <th>open</th>\n",
       "      <th>high</th>\n",
       "      <th>low</th>\n",
       "      <th>close</th>\n",
       "      <th>volume</th>\n",
       "      <th>trade_count</th>\n",
       "      <th>vwap</th>\n",
       "      <th>daily_return</th>\n",
       "      <th>open</th>\n",
       "      <th>high</th>\n",
       "      <th>low</th>\n",
       "      <th>close</th>\n",
       "      <th>volume</th>\n",
       "      <th>trade_count</th>\n",
       "      <th>vwap</th>\n",
       "      <th>daily_return</th>\n",
       "    </tr>\n",
       "    <tr>\n",
       "      <th>timestamp</th>\n",
       "      <th></th>\n",
       "      <th></th>\n",
       "      <th></th>\n",
       "      <th></th>\n",
       "      <th></th>\n",
       "      <th></th>\n",
       "      <th></th>\n",
       "      <th></th>\n",
       "      <th></th>\n",
       "      <th></th>\n",
       "      <th></th>\n",
       "      <th></th>\n",
       "      <th></th>\n",
       "      <th></th>\n",
       "      <th></th>\n",
       "      <th></th>\n",
       "    </tr>\n",
       "  </thead>\n",
       "  <tbody>\n",
       "    <tr>\n",
       "      <th>2019-10-01 04:00:00+00:00</th>\n",
       "      <td>297.67</td>\n",
       "      <td>298.455</td>\n",
       "      <td>293.00</td>\n",
       "      <td>293.24</td>\n",
       "      <td>90160482</td>\n",
       "      <td>422407</td>\n",
       "      <td>294.867498</td>\n",
       "      <td>NaN</td>\n",
       "      <td>112.71</td>\n",
       "      <td>113.2500</td>\n",
       "      <td>112.63</td>\n",
       "      <td>113.12</td>\n",
       "      <td>5982470</td>\n",
       "      <td>30567</td>\n",
       "      <td>113.081002</td>\n",
       "      <td>NaN</td>\n",
       "    </tr>\n",
       "    <tr>\n",
       "      <th>2019-10-02 04:00:00+00:00</th>\n",
       "      <td>291.49</td>\n",
       "      <td>291.510</td>\n",
       "      <td>286.64</td>\n",
       "      <td>288.06</td>\n",
       "      <td>125924074</td>\n",
       "      <td>608988</td>\n",
       "      <td>288.821147</td>\n",
       "      <td>-0.017665</td>\n",
       "      <td>113.19</td>\n",
       "      <td>113.3075</td>\n",
       "      <td>113.09</td>\n",
       "      <td>113.20</td>\n",
       "      <td>9571687</td>\n",
       "      <td>23424</td>\n",
       "      <td>113.229809</td>\n",
       "      <td>0.000707</td>\n",
       "    </tr>\n",
       "    <tr>\n",
       "      <th>2019-10-03 04:00:00+00:00</th>\n",
       "      <td>287.81</td>\n",
       "      <td>290.450</td>\n",
       "      <td>284.82</td>\n",
       "      <td>290.42</td>\n",
       "      <td>85906608</td>\n",
       "      <td>517842</td>\n",
       "      <td>288.281946</td>\n",
       "      <td>0.008193</td>\n",
       "      <td>113.34</td>\n",
       "      <td>113.7400</td>\n",
       "      <td>113.32</td>\n",
       "      <td>113.64</td>\n",
       "      <td>5144049</td>\n",
       "      <td>18028</td>\n",
       "      <td>113.589201</td>\n",
       "      <td>0.003887</td>\n",
       "    </tr>\n",
       "    <tr>\n",
       "      <th>2019-10-04 04:00:00+00:00</th>\n",
       "      <td>291.21</td>\n",
       "      <td>294.630</td>\n",
       "      <td>290.82</td>\n",
       "      <td>294.35</td>\n",
       "      <td>66877330</td>\n",
       "      <td>305209</td>\n",
       "      <td>292.978205</td>\n",
       "      <td>0.013532</td>\n",
       "      <td>113.68</td>\n",
       "      <td>113.8255</td>\n",
       "      <td>113.63</td>\n",
       "      <td>113.82</td>\n",
       "      <td>3331180</td>\n",
       "      <td>14511</td>\n",
       "      <td>113.742441</td>\n",
       "      <td>0.001584</td>\n",
       "    </tr>\n",
       "    <tr>\n",
       "      <th>2019-10-07 04:00:00+00:00</th>\n",
       "      <td>293.50</td>\n",
       "      <td>295.260</td>\n",
       "      <td>292.77</td>\n",
       "      <td>293.08</td>\n",
       "      <td>61657344</td>\n",
       "      <td>314251</td>\n",
       "      <td>293.863605</td>\n",
       "      <td>-0.004315</td>\n",
       "      <td>113.64</td>\n",
       "      <td>113.7050</td>\n",
       "      <td>113.51</td>\n",
       "      <td>113.51</td>\n",
       "      <td>2493664</td>\n",
       "      <td>9765</td>\n",
       "      <td>113.575284</td>\n",
       "      <td>-0.002724</td>\n",
       "    </tr>\n",
       "  </tbody>\n",
       "</table>\n",
       "</div>"
      ],
      "text/plain": [
       "                              SPY                                      \\\n",
       "                             open     high     low   close     volume   \n",
       "timestamp                                                               \n",
       "2019-10-01 04:00:00+00:00  297.67  298.455  293.00  293.24   90160482   \n",
       "2019-10-02 04:00:00+00:00  291.49  291.510  286.64  288.06  125924074   \n",
       "2019-10-03 04:00:00+00:00  287.81  290.450  284.82  290.42   85906608   \n",
       "2019-10-04 04:00:00+00:00  291.21  294.630  290.82  294.35   66877330   \n",
       "2019-10-07 04:00:00+00:00  293.50  295.260  292.77  293.08   61657344   \n",
       "\n",
       "                                                                   AGG  \\\n",
       "                          trade_count        vwap daily_return    open   \n",
       "timestamp                                                                \n",
       "2019-10-01 04:00:00+00:00      422407  294.867498          NaN  112.71   \n",
       "2019-10-02 04:00:00+00:00      608988  288.821147    -0.017665  113.19   \n",
       "2019-10-03 04:00:00+00:00      517842  288.281946     0.008193  113.34   \n",
       "2019-10-04 04:00:00+00:00      305209  292.978205     0.013532  113.68   \n",
       "2019-10-07 04:00:00+00:00      314251  293.863605    -0.004315  113.64   \n",
       "\n",
       "                                                                          \\\n",
       "                               high     low   close   volume trade_count   \n",
       "timestamp                                                                  \n",
       "2019-10-01 04:00:00+00:00  113.2500  112.63  113.12  5982470       30567   \n",
       "2019-10-02 04:00:00+00:00  113.3075  113.09  113.20  9571687       23424   \n",
       "2019-10-03 04:00:00+00:00  113.7400  113.32  113.64  5144049       18028   \n",
       "2019-10-04 04:00:00+00:00  113.8255  113.63  113.82  3331180       14511   \n",
       "2019-10-07 04:00:00+00:00  113.7050  113.51  113.51  2493664        9765   \n",
       "\n",
       "                                                    \n",
       "                                 vwap daily_return  \n",
       "timestamp                                           \n",
       "2019-10-01 04:00:00+00:00  113.081002          NaN  \n",
       "2019-10-02 04:00:00+00:00  113.229809     0.000707  \n",
       "2019-10-03 04:00:00+00:00  113.589201     0.003887  \n",
       "2019-10-04 04:00:00+00:00  113.742441     0.001584  \n",
       "2019-10-07 04:00:00+00:00  113.575284    -0.002724  "
      ]
     },
     "execution_count": 40,
     "metadata": {},
     "output_type": "execute_result"
    }
   ],
   "source": [
    "# Configure a Monte Carlo simulation to forecast 10 years cumulative returns\n",
    "# The weights should be split 20% to AGG and 80% to SPY.\n",
    "# Run 500 samples.\n",
    "# YOUR CODE HERE\n",
    "MC_10year= MCSimulation(\n",
    "    portfolio_data=prices_df,\n",
    "    weights=[.80,.20],\n",
    "    num_simulation=500,\n",
    "    num_trading_days=(252*10)\n",
    ")\n",
    "\n",
    "# Review the simulation input data\n",
    "# YOUR CODE HERE\n",
    "MC_10year.portfolio_data.head()"
   ]
  },
  {
   "cell_type": "code",
   "execution_count": 41,
   "metadata": {},
   "outputs": [
    {
     "name": "stdout",
     "output_type": "stream",
     "text": [
      "Running Monte Carlo simulation number 0.\n",
      "Running Monte Carlo simulation number 10.\n",
      "Running Monte Carlo simulation number 20.\n",
      "Running Monte Carlo simulation number 30.\n",
      "Running Monte Carlo simulation number 40.\n",
      "Running Monte Carlo simulation number 50.\n",
      "Running Monte Carlo simulation number 60.\n",
      "Running Monte Carlo simulation number 70.\n",
      "Running Monte Carlo simulation number 80.\n",
      "Running Monte Carlo simulation number 90.\n",
      "Running Monte Carlo simulation number 100.\n"
     ]
    },
    {
     "name": "stderr",
     "output_type": "stream",
     "text": [
      "C:\\Users\\card_\\OneDrive\\Desktop\\Fintech Bootcamp\\challenges\\Financial-Planner\\Code\\MCForecastTools.py:117: PerformanceWarning: DataFrame is highly fragmented.  This is usually the result of calling `frame.insert` many times, which has poor performance.  Consider joining all columns at once using pd.concat(axis=1) instead.  To get a de-fragmented frame, use `newframe = frame.copy()`\n",
      "  portfolio_cumulative_returns[n] = (1 + sim_df.fillna(0)).cumprod()\n"
     ]
    },
    {
     "name": "stdout",
     "output_type": "stream",
     "text": [
      "Running Monte Carlo simulation number 110.\n",
      "Running Monte Carlo simulation number 120.\n",
      "Running Monte Carlo simulation number 130.\n",
      "Running Monte Carlo simulation number 140.\n",
      "Running Monte Carlo simulation number 150.\n",
      "Running Monte Carlo simulation number 160.\n",
      "Running Monte Carlo simulation number 170.\n",
      "Running Monte Carlo simulation number 180.\n",
      "Running Monte Carlo simulation number 190.\n",
      "Running Monte Carlo simulation number 200.\n",
      "Running Monte Carlo simulation number 210.\n",
      "Running Monte Carlo simulation number 220.\n",
      "Running Monte Carlo simulation number 230.\n",
      "Running Monte Carlo simulation number 240.\n",
      "Running Monte Carlo simulation number 250.\n",
      "Running Monte Carlo simulation number 260.\n",
      "Running Monte Carlo simulation number 270.\n",
      "Running Monte Carlo simulation number 280.\n",
      "Running Monte Carlo simulation number 290.\n",
      "Running Monte Carlo simulation number 300.\n",
      "Running Monte Carlo simulation number 310.\n",
      "Running Monte Carlo simulation number 320.\n",
      "Running Monte Carlo simulation number 330.\n",
      "Running Monte Carlo simulation number 340.\n",
      "Running Monte Carlo simulation number 350.\n",
      "Running Monte Carlo simulation number 360.\n",
      "Running Monte Carlo simulation number 370.\n",
      "Running Monte Carlo simulation number 380.\n",
      "Running Monte Carlo simulation number 390.\n",
      "Running Monte Carlo simulation number 400.\n",
      "Running Monte Carlo simulation number 410.\n",
      "Running Monte Carlo simulation number 420.\n",
      "Running Monte Carlo simulation number 430.\n",
      "Running Monte Carlo simulation number 440.\n",
      "Running Monte Carlo simulation number 450.\n",
      "Running Monte Carlo simulation number 460.\n",
      "Running Monte Carlo simulation number 470.\n",
      "Running Monte Carlo simulation number 480.\n",
      "Running Monte Carlo simulation number 490.\n"
     ]
    },
    {
     "data": {
      "text/html": [
       "<div>\n",
       "<style scoped>\n",
       "    .dataframe tbody tr th:only-of-type {\n",
       "        vertical-align: middle;\n",
       "    }\n",
       "\n",
       "    .dataframe tbody tr th {\n",
       "        vertical-align: top;\n",
       "    }\n",
       "\n",
       "    .dataframe thead th {\n",
       "        text-align: right;\n",
       "    }\n",
       "</style>\n",
       "<table border=\"1\" class=\"dataframe\">\n",
       "  <thead>\n",
       "    <tr style=\"text-align: right;\">\n",
       "      <th></th>\n",
       "      <th>0</th>\n",
       "      <th>1</th>\n",
       "      <th>2</th>\n",
       "      <th>3</th>\n",
       "      <th>4</th>\n",
       "      <th>5</th>\n",
       "      <th>6</th>\n",
       "      <th>7</th>\n",
       "      <th>8</th>\n",
       "      <th>9</th>\n",
       "      <th>...</th>\n",
       "      <th>490</th>\n",
       "      <th>491</th>\n",
       "      <th>492</th>\n",
       "      <th>493</th>\n",
       "      <th>494</th>\n",
       "      <th>495</th>\n",
       "      <th>496</th>\n",
       "      <th>497</th>\n",
       "      <th>498</th>\n",
       "      <th>499</th>\n",
       "    </tr>\n",
       "  </thead>\n",
       "  <tbody>\n",
       "    <tr>\n",
       "      <th>0</th>\n",
       "      <td>1.000000</td>\n",
       "      <td>1.000000</td>\n",
       "      <td>1.000000</td>\n",
       "      <td>1.000000</td>\n",
       "      <td>1.000000</td>\n",
       "      <td>1.000000</td>\n",
       "      <td>1.000000</td>\n",
       "      <td>1.000000</td>\n",
       "      <td>1.000000</td>\n",
       "      <td>1.000000</td>\n",
       "      <td>...</td>\n",
       "      <td>1.000000</td>\n",
       "      <td>1.000000</td>\n",
       "      <td>1.000000</td>\n",
       "      <td>1.000000</td>\n",
       "      <td>1.000000</td>\n",
       "      <td>1.000000</td>\n",
       "      <td>1.000000</td>\n",
       "      <td>1.000000</td>\n",
       "      <td>1.000000</td>\n",
       "      <td>1.000000</td>\n",
       "    </tr>\n",
       "    <tr>\n",
       "      <th>1</th>\n",
       "      <td>0.984021</td>\n",
       "      <td>0.996132</td>\n",
       "      <td>0.995068</td>\n",
       "      <td>0.991592</td>\n",
       "      <td>0.988007</td>\n",
       "      <td>0.992038</td>\n",
       "      <td>1.001636</td>\n",
       "      <td>1.007681</td>\n",
       "      <td>1.004633</td>\n",
       "      <td>0.999286</td>\n",
       "      <td>...</td>\n",
       "      <td>0.981460</td>\n",
       "      <td>1.018110</td>\n",
       "      <td>1.005024</td>\n",
       "      <td>0.987538</td>\n",
       "      <td>0.982988</td>\n",
       "      <td>0.978157</td>\n",
       "      <td>0.986782</td>\n",
       "      <td>1.015228</td>\n",
       "      <td>0.994136</td>\n",
       "      <td>0.985456</td>\n",
       "    </tr>\n",
       "    <tr>\n",
       "      <th>2</th>\n",
       "      <td>0.984199</td>\n",
       "      <td>0.975369</td>\n",
       "      <td>0.982309</td>\n",
       "      <td>0.976107</td>\n",
       "      <td>0.980916</td>\n",
       "      <td>0.994592</td>\n",
       "      <td>1.000028</td>\n",
       "      <td>1.017167</td>\n",
       "      <td>0.999892</td>\n",
       "      <td>1.010702</td>\n",
       "      <td>...</td>\n",
       "      <td>0.967795</td>\n",
       "      <td>1.030597</td>\n",
       "      <td>0.999847</td>\n",
       "      <td>1.004219</td>\n",
       "      <td>0.990283</td>\n",
       "      <td>0.954648</td>\n",
       "      <td>0.996111</td>\n",
       "      <td>1.014045</td>\n",
       "      <td>0.966908</td>\n",
       "      <td>0.986162</td>\n",
       "    </tr>\n",
       "    <tr>\n",
       "      <th>3</th>\n",
       "      <td>0.972567</td>\n",
       "      <td>0.995510</td>\n",
       "      <td>0.986864</td>\n",
       "      <td>0.979410</td>\n",
       "      <td>0.972269</td>\n",
       "      <td>0.983001</td>\n",
       "      <td>0.979346</td>\n",
       "      <td>1.025610</td>\n",
       "      <td>0.990537</td>\n",
       "      <td>1.025481</td>\n",
       "      <td>...</td>\n",
       "      <td>0.975819</td>\n",
       "      <td>1.022899</td>\n",
       "      <td>0.987608</td>\n",
       "      <td>1.003310</td>\n",
       "      <td>0.977281</td>\n",
       "      <td>0.961633</td>\n",
       "      <td>0.991896</td>\n",
       "      <td>1.028129</td>\n",
       "      <td>0.975813</td>\n",
       "      <td>0.986400</td>\n",
       "    </tr>\n",
       "    <tr>\n",
       "      <th>4</th>\n",
       "      <td>0.954569</td>\n",
       "      <td>0.980431</td>\n",
       "      <td>0.969007</td>\n",
       "      <td>0.990830</td>\n",
       "      <td>0.974141</td>\n",
       "      <td>0.962514</td>\n",
       "      <td>0.972512</td>\n",
       "      <td>1.017424</td>\n",
       "      <td>0.964447</td>\n",
       "      <td>0.999533</td>\n",
       "      <td>...</td>\n",
       "      <td>0.964678</td>\n",
       "      <td>1.015450</td>\n",
       "      <td>0.962168</td>\n",
       "      <td>1.010041</td>\n",
       "      <td>0.965537</td>\n",
       "      <td>0.966371</td>\n",
       "      <td>0.994235</td>\n",
       "      <td>1.024551</td>\n",
       "      <td>0.974225</td>\n",
       "      <td>0.998540</td>\n",
       "    </tr>\n",
       "    <tr>\n",
       "      <th>...</th>\n",
       "      <td>...</td>\n",
       "      <td>...</td>\n",
       "      <td>...</td>\n",
       "      <td>...</td>\n",
       "      <td>...</td>\n",
       "      <td>...</td>\n",
       "      <td>...</td>\n",
       "      <td>...</td>\n",
       "      <td>...</td>\n",
       "      <td>...</td>\n",
       "      <td>...</td>\n",
       "      <td>...</td>\n",
       "      <td>...</td>\n",
       "      <td>...</td>\n",
       "      <td>...</td>\n",
       "      <td>...</td>\n",
       "      <td>...</td>\n",
       "      <td>...</td>\n",
       "      <td>...</td>\n",
       "      <td>...</td>\n",
       "      <td>...</td>\n",
       "    </tr>\n",
       "    <tr>\n",
       "      <th>2516</th>\n",
       "      <td>1.487575</td>\n",
       "      <td>3.195313</td>\n",
       "      <td>2.128956</td>\n",
       "      <td>3.057244</td>\n",
       "      <td>1.995982</td>\n",
       "      <td>2.249060</td>\n",
       "      <td>0.895974</td>\n",
       "      <td>0.960946</td>\n",
       "      <td>1.495642</td>\n",
       "      <td>1.961817</td>\n",
       "      <td>...</td>\n",
       "      <td>3.309414</td>\n",
       "      <td>1.529354</td>\n",
       "      <td>0.981037</td>\n",
       "      <td>1.162249</td>\n",
       "      <td>0.434143</td>\n",
       "      <td>1.915735</td>\n",
       "      <td>0.806792</td>\n",
       "      <td>3.024939</td>\n",
       "      <td>0.734536</td>\n",
       "      <td>1.321874</td>\n",
       "    </tr>\n",
       "    <tr>\n",
       "      <th>2517</th>\n",
       "      <td>1.483609</td>\n",
       "      <td>3.164830</td>\n",
       "      <td>2.166117</td>\n",
       "      <td>3.081094</td>\n",
       "      <td>2.002185</td>\n",
       "      <td>2.249967</td>\n",
       "      <td>0.900801</td>\n",
       "      <td>0.967870</td>\n",
       "      <td>1.498756</td>\n",
       "      <td>1.954567</td>\n",
       "      <td>...</td>\n",
       "      <td>3.254155</td>\n",
       "      <td>1.523760</td>\n",
       "      <td>1.002117</td>\n",
       "      <td>1.161113</td>\n",
       "      <td>0.442368</td>\n",
       "      <td>1.900367</td>\n",
       "      <td>0.795009</td>\n",
       "      <td>2.992977</td>\n",
       "      <td>0.741999</td>\n",
       "      <td>1.329025</td>\n",
       "    </tr>\n",
       "    <tr>\n",
       "      <th>2518</th>\n",
       "      <td>1.459376</td>\n",
       "      <td>3.213927</td>\n",
       "      <td>2.191220</td>\n",
       "      <td>3.082907</td>\n",
       "      <td>1.998079</td>\n",
       "      <td>2.305678</td>\n",
       "      <td>0.897102</td>\n",
       "      <td>0.955332</td>\n",
       "      <td>1.498343</td>\n",
       "      <td>1.932418</td>\n",
       "      <td>...</td>\n",
       "      <td>3.184599</td>\n",
       "      <td>1.568642</td>\n",
       "      <td>0.994226</td>\n",
       "      <td>1.178997</td>\n",
       "      <td>0.448603</td>\n",
       "      <td>1.922277</td>\n",
       "      <td>0.785449</td>\n",
       "      <td>2.964581</td>\n",
       "      <td>0.736895</td>\n",
       "      <td>1.328020</td>\n",
       "    </tr>\n",
       "    <tr>\n",
       "      <th>2519</th>\n",
       "      <td>1.449464</td>\n",
       "      <td>3.183274</td>\n",
       "      <td>2.145574</td>\n",
       "      <td>3.078092</td>\n",
       "      <td>1.969564</td>\n",
       "      <td>2.302998</td>\n",
       "      <td>0.893769</td>\n",
       "      <td>0.958825</td>\n",
       "      <td>1.517028</td>\n",
       "      <td>1.955381</td>\n",
       "      <td>...</td>\n",
       "      <td>3.137978</td>\n",
       "      <td>1.567004</td>\n",
       "      <td>0.977012</td>\n",
       "      <td>1.178184</td>\n",
       "      <td>0.453073</td>\n",
       "      <td>1.857326</td>\n",
       "      <td>0.778493</td>\n",
       "      <td>2.950347</td>\n",
       "      <td>0.727080</td>\n",
       "      <td>1.312598</td>\n",
       "    </tr>\n",
       "    <tr>\n",
       "      <th>2520</th>\n",
       "      <td>1.471319</td>\n",
       "      <td>3.223902</td>\n",
       "      <td>2.142522</td>\n",
       "      <td>3.094113</td>\n",
       "      <td>1.944043</td>\n",
       "      <td>2.298268</td>\n",
       "      <td>0.884183</td>\n",
       "      <td>0.948598</td>\n",
       "      <td>1.488973</td>\n",
       "      <td>1.914509</td>\n",
       "      <td>...</td>\n",
       "      <td>3.138824</td>\n",
       "      <td>1.531109</td>\n",
       "      <td>0.962365</td>\n",
       "      <td>1.177879</td>\n",
       "      <td>0.451894</td>\n",
       "      <td>1.833510</td>\n",
       "      <td>0.778317</td>\n",
       "      <td>2.913264</td>\n",
       "      <td>0.726091</td>\n",
       "      <td>1.310222</td>\n",
       "    </tr>\n",
       "  </tbody>\n",
       "</table>\n",
       "<p>2521 rows × 500 columns</p>\n",
       "</div>"
      ],
      "text/plain": [
       "           0         1         2         3         4         5         6    \\\n",
       "0     1.000000  1.000000  1.000000  1.000000  1.000000  1.000000  1.000000   \n",
       "1     0.984021  0.996132  0.995068  0.991592  0.988007  0.992038  1.001636   \n",
       "2     0.984199  0.975369  0.982309  0.976107  0.980916  0.994592  1.000028   \n",
       "3     0.972567  0.995510  0.986864  0.979410  0.972269  0.983001  0.979346   \n",
       "4     0.954569  0.980431  0.969007  0.990830  0.974141  0.962514  0.972512   \n",
       "...        ...       ...       ...       ...       ...       ...       ...   \n",
       "2516  1.487575  3.195313  2.128956  3.057244  1.995982  2.249060  0.895974   \n",
       "2517  1.483609  3.164830  2.166117  3.081094  2.002185  2.249967  0.900801   \n",
       "2518  1.459376  3.213927  2.191220  3.082907  1.998079  2.305678  0.897102   \n",
       "2519  1.449464  3.183274  2.145574  3.078092  1.969564  2.302998  0.893769   \n",
       "2520  1.471319  3.223902  2.142522  3.094113  1.944043  2.298268  0.884183   \n",
       "\n",
       "           7         8         9    ...       490       491       492  \\\n",
       "0     1.000000  1.000000  1.000000  ...  1.000000  1.000000  1.000000   \n",
       "1     1.007681  1.004633  0.999286  ...  0.981460  1.018110  1.005024   \n",
       "2     1.017167  0.999892  1.010702  ...  0.967795  1.030597  0.999847   \n",
       "3     1.025610  0.990537  1.025481  ...  0.975819  1.022899  0.987608   \n",
       "4     1.017424  0.964447  0.999533  ...  0.964678  1.015450  0.962168   \n",
       "...        ...       ...       ...  ...       ...       ...       ...   \n",
       "2516  0.960946  1.495642  1.961817  ...  3.309414  1.529354  0.981037   \n",
       "2517  0.967870  1.498756  1.954567  ...  3.254155  1.523760  1.002117   \n",
       "2518  0.955332  1.498343  1.932418  ...  3.184599  1.568642  0.994226   \n",
       "2519  0.958825  1.517028  1.955381  ...  3.137978  1.567004  0.977012   \n",
       "2520  0.948598  1.488973  1.914509  ...  3.138824  1.531109  0.962365   \n",
       "\n",
       "           493       494       495       496       497       498       499  \n",
       "0     1.000000  1.000000  1.000000  1.000000  1.000000  1.000000  1.000000  \n",
       "1     0.987538  0.982988  0.978157  0.986782  1.015228  0.994136  0.985456  \n",
       "2     1.004219  0.990283  0.954648  0.996111  1.014045  0.966908  0.986162  \n",
       "3     1.003310  0.977281  0.961633  0.991896  1.028129  0.975813  0.986400  \n",
       "4     1.010041  0.965537  0.966371  0.994235  1.024551  0.974225  0.998540  \n",
       "...        ...       ...       ...       ...       ...       ...       ...  \n",
       "2516  1.162249  0.434143  1.915735  0.806792  3.024939  0.734536  1.321874  \n",
       "2517  1.161113  0.442368  1.900367  0.795009  2.992977  0.741999  1.329025  \n",
       "2518  1.178997  0.448603  1.922277  0.785449  2.964581  0.736895  1.328020  \n",
       "2519  1.178184  0.453073  1.857326  0.778493  2.950347  0.727080  1.312598  \n",
       "2520  1.177879  0.451894  1.833510  0.778317  2.913264  0.726091  1.310222  \n",
       "\n",
       "[2521 rows x 500 columns]"
      ]
     },
     "execution_count": 41,
     "metadata": {},
     "output_type": "execute_result"
    }
   ],
   "source": [
    "# Run the Monte Carlo simulation to forecast 10 years cumulative returns\n",
    "# YOUR CODE HERE\n",
    "MC_10year.calc_cumulative_return()"
   ]
  },
  {
   "cell_type": "code",
   "execution_count": 42,
   "metadata": {},
   "outputs": [
    {
     "data": {
      "text/plain": [
       "<AxesSubplot:title={'center':'500 Simulations of Cumulative Portfolio Return Trajectories Over the Next 2520 Trading Days.'}>"
      ]
     },
     "execution_count": 42,
     "metadata": {},
     "output_type": "execute_result"
    },
    {
     "data": {
      "image/png": "[encoded data removed]",
      "text/plain": [
       "<Figure size 432x288 with 1 Axes>"
      ]
     },
     "metadata": {
      "needs_background": "light"
     },
     "output_type": "display_data"
    }
   ],
   "source": [
    "# Visualize the 10-year Monte Carlo simulation by creating an\n",
    "# overlay line plot\n",
    "# YOUR CODE HERE\n",
    "plot_MC_10year= MC_10year.plot_simulation()\n",
    "plot_MC_10year"
   ]
  },
  {
   "cell_type": "code",
   "execution_count": 43,
   "metadata": {},
   "outputs": [
    {
     "data": {
      "text/plain": [
       "<AxesSubplot:title={'center':'Distribution of Final Cumuluative Returns Across All 500 Simulations'}, ylabel='Frequency'>"
      ]
     },
     "execution_count": 43,
     "metadata": {},
     "output_type": "execute_result"
    },
    {
     "data": {
      "image/png": "[encoded data removed]",
      "text/plain": [
       "<Figure size 432x288 with 1 Axes>"
      ]
     },
     "metadata": {
      "needs_background": "light"
     },
     "output_type": "display_data"
    }
   ],
   "source": [
    "# Visualize the probability distribution of the 10-year Monte Carlo simulation \n",
    "# by plotting a histogram\n",
    "# YOUR CODE HERE\n",
    "plot_MC_10year_dist= MC_10year.plot_distribution()\n",
    "plot_MC_10year_dist"
   ]
  },
  {
   "cell_type": "code",
   "execution_count": 44,
   "metadata": {},
   "outputs": [
    {
     "data": {
      "text/plain": [
       "count           500.000000\n",
       "mean              2.177271\n",
       "std               1.372971\n",
       "min               0.343914\n",
       "25%               1.176500\n",
       "50%               1.817182\n",
       "75%               2.798847\n",
       "max              10.275330\n",
       "95% CI Lower      0.548133\n",
       "95% CI Upper      5.619093\n",
       "Name: 2520, dtype: float64"
      ]
     },
     "execution_count": 44,
     "metadata": {},
     "output_type": "execute_result"
    }
   ],
   "source": [
    "# Generate summary statistics from the 10-year Monte Carlo simulation results\n",
    "# Save the results as a variable\n",
    "# YOUR CODE HERE\n",
    "MC_10year_summary= MC_10year.summarize_cumulative_return()\n",
    "\n",
    "# Review the 10-year Monte Carlo summary statistics\n",
    "# YOUR CODE HERE\n",
    "MC_10year_summary"
   ]
  },
  {
   "cell_type": "markdown",
   "metadata": {},
   "source": [
    "### Answer the following questions:"
   ]
  },
  {
   "cell_type": "markdown",
   "metadata": {},
   "source": [
    "#### Question: Using the current value of only the stock and bond portion of the member's portfolio and the summary statistics that you generated from the new Monte Carlo simulation, what are the lower and upper bounds for the expected value of the portfolio (with the new weights) with a 95% confidence interval?"
   ]
  },
  {
   "cell_type": "code",
   "execution_count": 45,
   "metadata": {},
   "outputs": [
    {
     "name": "stdout",
     "output_type": "stream",
     "text": [
      "The value of the Stock portion of the portfolio is $42,022.20, the value of the Bond portion of the portfolio is $18,996.00, the total value of the stock and bond portfolio is $61,018.20.\n"
     ]
    }
   ],
   "source": [
    "# Print the current balance of the stock and bond portion of the members portfolio\n",
    "# YOUR CODE HERE\n",
    "print(f'The value of the Stock portion of the portfolio is ${spy_value:,.2f}, the value of the Bond portion of the portfolio is ${agg_value:,.2f}, the total value of the stock and bond portfolio is ${total_stocks_bonds:,.2f}.')"
   ]
  },
  {
   "cell_type": "code",
   "execution_count": 49,
   "metadata": {},
   "outputs": [
    {
     "name": "stdout",
     "output_type": "stream",
     "text": [
      "There is a 95% chance that in the next 10 years the current investment will be in a range of $33,446.09 and $342,866.93.\n",
      "There is a good chance that in the next 10 years the current investment will land in a range around $132,853.13.\n"
     ]
    }
   ],
   "source": [
    "# Use the lower and upper `95%` confidence intervals to calculate the range of the possible outcomes for the current stock/bond portfolio\n",
    "ci_lower_ten_cumulative_return = MC_10year_summary[8] * total_stocks_bonds\n",
    "ci_upper_ten_cumulative_return = MC_10year_summary[9]*total_stocks_bonds\n",
    "mean_10yearsim= MC_10year_summary[1] *total_stocks_bonds\n",
    "\n",
    "# Print the result of your calculations\n",
    "# YOUR CODE HERE\n",
    "print(f'There is a 95% chance that in the next 10 years the current investment will be in a range of ${ci_lower_ten_cumulative_return:,.2f} and ${ci_upper_ten_cumulative_return:,.2f}.')\n",
    "print(f'There is a good chance that in the next 10 years the current investment will land in a range around ${mean_10yearsim:,.2f}.')"
   ]
  },
  {
   "cell_type": "markdown",
   "metadata": {},
   "source": [
    "#### Question: Will weighting the portfolio more heavily to stocks allow the credit union members to retire after only 10 years?"
   ]
  },
  {
   "cell_type": "raw",
   "metadata": {},
   "source": [
    "**Answer** # YOUR ANSWER HERE"
   ]
  },
  {
   "cell_type": "code",
   "execution_count": null,
   "metadata": {},
   "outputs": [],
   "source": []
  }
 ],
 "metadata": {
  "kernelspec": {
   "display_name": "Python 3 (ipykernel)",
   "language": "python",
   "name": "python3"
  },
  "language_info": {
   "codemirror_mode": {
    "name": "ipython",
    "version": 3
   },
   "file_extension": ".py",
   "mimetype": "text/x-python",
   "name": "python",
   "nbconvert_exporter": "python",
   "pygments_lexer": "ipython3",
   "version": "3.7.13"
  }
 },
 "nbformat": 4,
 "nbformat_minor": 4
}
